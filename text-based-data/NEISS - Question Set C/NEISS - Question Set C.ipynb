{
 "cells": [
  {
   "cell_type": "markdown",
   "metadata": {},
   "source": [
    "# Exercise: NEISS, Question Set C\n",
    "\n",
    "#### Summary\n",
    "\n",
    "The [National Electronic Injury Surveillance System](https://www.cpsc.gov/Safety-Education/Safety-Guides/General-Information/National-Electronic-Injury-Surveillance-System-NEISS) is a data product produced by the US Consumer Product Safety Commission. It tracks emergency room injuries related to consumer products (e.g., \"a door fell on me!\").\n",
    "\n",
    "#### Files\n",
    "\n",
    "- **nss15.tsv**: injury data (one injury per row)\n",
    "- **2017NEISSCodingManualCPSConlyNontrauma.pdf**: column definitions and explanations\n",
    "- **2015 Neiss data highlights.pdf**: a partial summary of the data\n",
    "- **2017ComparabilityTable.pdf**: product code definitions\n",
    "- **categories-cleaned.txt**: product code definitions in CSV format (great for joining!)\n",
    "\n",
    "#### Source\n",
    "\n",
    "https://www.cpsc.gov/Safety-Education/Safety-Guides/General-Information/National-Electronic-Injury-Surveillance-System-NEISS\n",
    "\n",
    "#### Skills\n",
    "\n",
    "- Reading tab-separated files\n",
    "- Ignoring bad lines\n",
    "- Replacing values\n",
    "- Using numpy/`np.nan`\n",
    "- String search using regular expressions\n",
    "- Averages practice\n",
    "- Converting `.value_counts()` and similar results into DataFrames"
   ]
  },
  {
   "cell_type": "code",
   "execution_count": 1,
   "metadata": {
    "collapsed": true
   },
   "outputs": [],
   "source": [
    "# BODY PARTS\n",
    "\n",
    "# Turn it into a dic\n",
    "\n",
    "# replacements = {\n",
    "#     0: 'internal',\n",
    "#     .\n",
    "#     .\n",
    "#     .\n",
    "# }\n",
    "\n",
    "# First try inplace=True\n",
    "# df.body_part.replace(replacements, inplace=True)\n",
    "\n",
    "\n",
    "# GRAPH\n",
    "\n",
    "# df.body_part.value_counts().plot(kind='barh', figsize=(5,20))\n",
    "\n",
    "\n",
    "# How to sort after groupby\n",
    "\n",
    "# df.groupby('body_part')['age'].mean()\n",
    "\n",
    "# df.groupby('body_part')['age'].mean().sort_values() by the thing on the righ\n",
    "\n",
    "# df.groupby('body_part')['age'].mean().sort_index() by the thing on the left\n",
    "\n",
    "\n",
    "# We wanna treat is as a string (to add a zero for numbers that their zeros were droped -- turn it into a string)\n",
    "# df.prod1.str.pad(4, fillchar='0') - makes 4 characters\n",
    "\n",
    "\n",
    "# df.prod1.str.pad(4, fillchar='0') \n"
   ]
  },
  {
   "cell_type": "markdown",
   "metadata": {},
   "source": [
    "# Read in `nss15.tsv`\n",
    "\n",
    "Some of the lines just **aren't formatted correctly**. Maybe we can avoid those?"
   ]
  },
  {
   "cell_type": "code",
   "execution_count": 2,
   "metadata": {},
   "outputs": [
    {
     "name": "stdout",
     "output_type": "stream",
     "text": [
      "Object `pd.read_csv` not found.\n"
     ]
    }
   ],
   "source": [
    "pd.read_csv?"
   ]
  },
  {
   "cell_type": "code",
   "execution_count": 3,
   "metadata": {},
   "outputs": [
    {
     "name": "stderr",
     "output_type": "stream",
     "text": [
      "b'Skipping line 10822: expected 19 fields, saw 20\\n'\n",
      "b'Skipping line 48623: expected 19 fields, saw 20\\nSkipping line 62534: expected 19 fields, saw 20\\n'\n",
      "b'Skipping line 103739: expected 19 fields, saw 20\\n'\n",
      "b'Skipping line 135495: expected 19 fields, saw 20\\nSkipping line 151678: expected 19 fields, saw 20\\n'\n",
      "b'Skipping line 237135: expected 19 fields, saw 20\\nSkipping line 240597: expected 19 fields, saw 20\\n'\n",
      "b'Skipping line 274270: expected 19 fields, saw 20\\nSkipping line 277461: expected 19 fields, saw 20\\n'\n"
     ]
    }
   ],
   "source": [
    "# separated with tabs, not commas.\n",
    "# Use sep='\\t'\n",
    "# Ignores bad lines: error_bad_lines=False\n",
    "\n",
    "import pandas as pd\n",
    "df = pd.read_csv('nss15.tsv', sep='\\t', error_bad_lines=False)"
   ]
  },
  {
   "cell_type": "markdown",
   "metadata": {},
   "source": [
    "### Check that your dataframe has 357727 rows and 19 columns."
   ]
  },
  {
   "cell_type": "code",
   "execution_count": 4,
   "metadata": {},
   "outputs": [
    {
     "data": {
      "text/plain": [
       "(357727, 19)"
      ]
     },
     "execution_count": 4,
     "metadata": {},
     "output_type": "execute_result"
    }
   ],
   "source": [
    "df.shape"
   ]
  },
  {
   "cell_type": "markdown",
   "metadata": {},
   "source": [
    "### List the columns and their data types"
   ]
  },
  {
   "cell_type": "code",
   "execution_count": 5,
   "metadata": {},
   "outputs": [
    {
     "data": {
      "text/plain": [
       "CPSC Case #      int64\n",
       "trmt_date       object\n",
       "psu              int64\n",
       "weight         float64\n",
       "stratum         object\n",
       "age              int64\n",
       "sex              int64\n",
       "race             int64\n",
       "race_other      object\n",
       "diag             int64\n",
       "diag_other      object\n",
       "body_part        int64\n",
       "disposition      int64\n",
       "location         int64\n",
       "fmv              int64\n",
       "prod1            int64\n",
       "prod2          float64\n",
       "narr1           object\n",
       "narr2           object\n",
       "dtype: object"
      ]
     },
     "execution_count": 5,
     "metadata": {},
     "output_type": "execute_result"
    }
   ],
   "source": [
    "df.dtypes"
   ]
  },
  {
   "cell_type": "markdown",
   "metadata": {},
   "source": [
    "### What does each column mean?"
   ]
  },
  {
   "cell_type": "code",
   "execution_count": 6,
   "metadata": {
    "collapsed": true
   },
   "outputs": [],
   "source": [
    "# info about patients\n",
    "\n"
   ]
  },
  {
   "cell_type": "markdown",
   "metadata": {},
   "source": [
    "# Cleaning up a column\n",
    "\n",
    "Take a look at the **sex** column. How many rows of each sex are there?"
   ]
  },
  {
   "cell_type": "code",
   "execution_count": 7,
   "metadata": {},
   "outputs": [
    {
     "data": {
      "text/plain": [
       "1    195071\n",
       "2    162654\n",
       "0         2\n",
       "Name: sex, dtype: int64"
      ]
     },
     "execution_count": 7,
     "metadata": {},
     "output_type": "execute_result"
    }
   ],
   "source": [
    "df['sex'].value_counts()"
   ]
  },
  {
   "cell_type": "markdown",
   "metadata": {},
   "source": [
    "## Replace the numbers with the appropriate words they stand for.\n",
    "\n",
    "Those numbers are terrible - codes are fine for storage but not really for reading. **Replace the numbers with the  words they stand for.**\n",
    "\n",
    "Refer to page 7 of the column definitions file."
   ]
  },
  {
   "cell_type": "code",
   "execution_count": 8,
   "metadata": {},
   "outputs": [
    {
     "data": {
      "text/html": [
       "<div>\n",
       "<style>\n",
       "    .dataframe thead tr:only-child th {\n",
       "        text-align: right;\n",
       "    }\n",
       "\n",
       "    .dataframe thead th {\n",
       "        text-align: left;\n",
       "    }\n",
       "\n",
       "    .dataframe tbody tr th {\n",
       "        vertical-align: top;\n",
       "    }\n",
       "</style>\n",
       "<table border=\"1\" class=\"dataframe\">\n",
       "  <thead>\n",
       "    <tr style=\"text-align: right;\">\n",
       "      <th></th>\n",
       "      <th>CPSC Case #</th>\n",
       "      <th>trmt_date</th>\n",
       "      <th>psu</th>\n",
       "      <th>weight</th>\n",
       "      <th>stratum</th>\n",
       "      <th>age</th>\n",
       "      <th>sex</th>\n",
       "      <th>race</th>\n",
       "      <th>race_other</th>\n",
       "      <th>diag</th>\n",
       "      <th>diag_other</th>\n",
       "      <th>body_part</th>\n",
       "      <th>disposition</th>\n",
       "      <th>location</th>\n",
       "      <th>fmv</th>\n",
       "      <th>prod1</th>\n",
       "      <th>prod2</th>\n",
       "      <th>narr1</th>\n",
       "      <th>narr2</th>\n",
       "    </tr>\n",
       "  </thead>\n",
       "  <tbody>\n",
       "    <tr>\n",
       "      <th>0</th>\n",
       "      <td>150733174</td>\n",
       "      <td>07/11/2015</td>\n",
       "      <td>38</td>\n",
       "      <td>15.7762</td>\n",
       "      <td>V</td>\n",
       "      <td>5</td>\n",
       "      <td>Male</td>\n",
       "      <td>0</td>\n",
       "      <td>NaN</td>\n",
       "      <td>57</td>\n",
       "      <td>NaN</td>\n",
       "      <td>33</td>\n",
       "      <td>1</td>\n",
       "      <td>9</td>\n",
       "      <td>0</td>\n",
       "      <td>1267</td>\n",
       "      <td>NaN</td>\n",
       "      <td>5 YR OLD MALE PLAYING SOCCER BLOCKING BALL AND...</td>\n",
       "      <td>X IT</td>\n",
       "    </tr>\n",
       "    <tr>\n",
       "      <th>1</th>\n",
       "      <td>150734723</td>\n",
       "      <td>07/06/2015</td>\n",
       "      <td>43</td>\n",
       "      <td>83.2157</td>\n",
       "      <td>S</td>\n",
       "      <td>36</td>\n",
       "      <td>Male</td>\n",
       "      <td>1</td>\n",
       "      <td>NaN</td>\n",
       "      <td>57</td>\n",
       "      <td>NaN</td>\n",
       "      <td>34</td>\n",
       "      <td>1</td>\n",
       "      <td>1</td>\n",
       "      <td>0</td>\n",
       "      <td>1439</td>\n",
       "      <td>4057.0</td>\n",
       "      <td>L WRIST FX(?)/36YOWM 2 WKS AGO@G-FRIENDS HM,MO...</td>\n",
       "      <td>AN OBJECT&amp;TWISTED WRIST TRYING TO CONTOL MOWER...</td>\n",
       "    </tr>\n",
       "    <tr>\n",
       "      <th>2</th>\n",
       "      <td>150817487</td>\n",
       "      <td>08/02/2015</td>\n",
       "      <td>51</td>\n",
       "      <td>74.8813</td>\n",
       "      <td>L</td>\n",
       "      <td>20</td>\n",
       "      <td>Female</td>\n",
       "      <td>0</td>\n",
       "      <td>NaN</td>\n",
       "      <td>71</td>\n",
       "      <td>OTITIS EXTERNA</td>\n",
       "      <td>94</td>\n",
       "      <td>1</td>\n",
       "      <td>0</td>\n",
       "      <td>0</td>\n",
       "      <td>3274</td>\n",
       "      <td>NaN</td>\n",
       "      <td>20 YO F C/O EAR PAIN 1 DAY SAS WAS SWIMMING YE...</td>\n",
       "      <td>T TRIED TO USE ***S TO REMOVE WAX MADE IT WORS...</td>\n",
       "    </tr>\n",
       "    <tr>\n",
       "      <th>3</th>\n",
       "      <td>150717776</td>\n",
       "      <td>06/26/2015</td>\n",
       "      <td>41</td>\n",
       "      <td>15.7762</td>\n",
       "      <td>V</td>\n",
       "      <td>61</td>\n",
       "      <td>Male</td>\n",
       "      <td>0</td>\n",
       "      <td>NaN</td>\n",
       "      <td>71</td>\n",
       "      <td>PAIN</td>\n",
       "      <td>35</td>\n",
       "      <td>1</td>\n",
       "      <td>0</td>\n",
       "      <td>0</td>\n",
       "      <td>611</td>\n",
       "      <td>NaN</td>\n",
       "      <td>61YOM W/KNEE PAIN S/P FALLING IN SHOWER 2 DAYS...</td>\n",
       "      <td>NaN</td>\n",
       "    </tr>\n",
       "    <tr>\n",
       "      <th>4</th>\n",
       "      <td>150721694</td>\n",
       "      <td>07/04/2015</td>\n",
       "      <td>42</td>\n",
       "      <td>74.8813</td>\n",
       "      <td>L</td>\n",
       "      <td>88</td>\n",
       "      <td>Female</td>\n",
       "      <td>3</td>\n",
       "      <td>HISPANIC</td>\n",
       "      <td>62</td>\n",
       "      <td>NaN</td>\n",
       "      <td>75</td>\n",
       "      <td>1</td>\n",
       "      <td>0</td>\n",
       "      <td>0</td>\n",
       "      <td>1893</td>\n",
       "      <td>1807.0</td>\n",
       "      <td>88YOF PAIN TO HEAD WHEN FALL TO FLOOR WHEN WAL...</td>\n",
       "      <td>DOOR AND FELL.DENIES LOC. DX HEAD INJURY</td>\n",
       "    </tr>\n",
       "  </tbody>\n",
       "</table>\n",
       "</div>"
      ],
      "text/plain": [
       "   CPSC Case #   trmt_date  psu   weight stratum  age     sex  race  \\\n",
       "0    150733174  07/11/2015   38  15.7762       V    5    Male     0   \n",
       "1    150734723  07/06/2015   43  83.2157       S   36    Male     1   \n",
       "2    150817487  08/02/2015   51  74.8813       L   20  Female     0   \n",
       "3    150717776  06/26/2015   41  15.7762       V   61    Male     0   \n",
       "4    150721694  07/04/2015   42  74.8813       L   88  Female     3   \n",
       "\n",
       "  race_other  diag      diag_other  body_part  disposition  location  fmv  \\\n",
       "0        NaN    57             NaN         33            1         9    0   \n",
       "1        NaN    57             NaN         34            1         1    0   \n",
       "2        NaN    71  OTITIS EXTERNA         94            1         0    0   \n",
       "3        NaN    71            PAIN         35            1         0    0   \n",
       "4   HISPANIC    62             NaN         75            1         0    0   \n",
       "\n",
       "   prod1   prod2                                              narr1  \\\n",
       "0   1267     NaN  5 YR OLD MALE PLAYING SOCCER BLOCKING BALL AND...   \n",
       "1   1439  4057.0  L WRIST FX(?)/36YOWM 2 WKS AGO@G-FRIENDS HM,MO...   \n",
       "2   3274     NaN  20 YO F C/O EAR PAIN 1 DAY SAS WAS SWIMMING YE...   \n",
       "3    611     NaN  61YOM W/KNEE PAIN S/P FALLING IN SHOWER 2 DAYS...   \n",
       "4   1893  1807.0  88YOF PAIN TO HEAD WHEN FALL TO FLOOR WHEN WAL...   \n",
       "\n",
       "                                               narr2  \n",
       "0                                               X IT  \n",
       "1  AN OBJECT&TWISTED WRIST TRYING TO CONTOL MOWER...  \n",
       "2  T TRIED TO USE ***S TO REMOVE WAX MADE IT WORS...  \n",
       "3                                                NaN  \n",
       "4           DOOR AND FELL.DENIES LOC. DX HEAD INJURY  "
      ]
     },
     "execution_count": 8,
     "metadata": {},
     "output_type": "execute_result"
    }
   ],
   "source": [
    "# 1 = male\n",
    "# 2 = female\n",
    "# 0 = not recorded\n",
    "\n",
    "df.sex = df.sex.replace(1, 'Male')\n",
    "df.sex = df.sex.replace(2, 'Female')\n",
    "df.sex = df.sex.replace(0, 'Not Recorded')\n",
    "\n",
    "df.head()\n",
    "\n",
    "\n",
    "\n",
    "\n",
    "# Another way:\n",
    "# Save it back in the datatframe inplace=True\n",
    "\n",
    "# df.sex.replace(2, 'Female', inplace=True)"
   ]
  },
  {
   "cell_type": "markdown",
   "metadata": {},
   "source": [
    "## Confirm you have 195071 male, 162654 female, and 2 \"Not Recorded.\""
   ]
  },
  {
   "cell_type": "code",
   "execution_count": 9,
   "metadata": {},
   "outputs": [
    {
     "data": {
      "text/plain": [
       "Male            195071\n",
       "Female          162654\n",
       "Not Recorded         2\n",
       "Name: sex, dtype: int64"
      ]
     },
     "execution_count": 9,
     "metadata": {},
     "output_type": "execute_result"
    }
   ],
   "source": [
    "df['sex'].value_counts()"
   ]
  },
  {
   "cell_type": "markdown",
   "metadata": {},
   "source": [
    "## Graph the number of men and women, but don’t included the “Not Recorded” records"
   ]
  },
  {
   "cell_type": "code",
   "execution_count": 10,
   "metadata": {},
   "outputs": [
    {
     "data": {
      "text/plain": [
       "<matplotlib.axes._subplots.AxesSubplot at 0x10e2bbbe0>"
      ]
     },
     "execution_count": 10,
     "metadata": {},
     "output_type": "execute_result"
    },
    {
     "data": {
      "image/png": "[encoded data removed]",
      "text/plain": [
       "<matplotlib.figure.Figure at 0x10ebb1f60>"
      ]
     },
     "metadata": {},
     "output_type": "display_data"
    }
   ],
   "source": [
    "%matplotlib inline\n",
    "\n",
    "# df[df['sex'] != 'Not Recorded']\n",
    "\n",
    "df[df['sex'] != 'Not Recorded']['sex'].value_counts().plot(kind='barh')"
   ]
  },
  {
   "cell_type": "markdown",
   "metadata": {},
   "source": [
    "## \"Not recorded\" seems silly - change it to be `NaN` instead\n",
    "\n",
    "Don't use `na_values` for this."
   ]
  },
  {
   "cell_type": "code",
   "execution_count": 11,
   "metadata": {
    "collapsed": true
   },
   "outputs": [],
   "source": [
    "df.sex.replace('Not Recorded', 'NaN', inplace=True)"
   ]
  },
  {
   "cell_type": "code",
   "execution_count": 12,
   "metadata": {},
   "outputs": [
    {
     "data": {
      "text/plain": [
       "nan"
      ]
     },
     "execution_count": 12,
     "metadata": {},
     "output_type": "execute_result"
    }
   ],
   "source": [
    "import numpy as np\n",
    "np.nan"
   ]
  },
  {
   "cell_type": "code",
   "execution_count": 13,
   "metadata": {
    "collapsed": true
   },
   "outputs": [],
   "source": [
    "df.sex.replace('NaN', np.nan, inplace=True)"
   ]
  },
  {
   "cell_type": "code",
   "execution_count": 14,
   "metadata": {},
   "outputs": [
    {
     "data": {
      "text/plain": [
       "Male      195071\n",
       "Female    162654\n",
       "Name: sex, dtype: int64"
      ]
     },
     "execution_count": 14,
     "metadata": {},
     "output_type": "execute_result"
    }
   ],
   "source": [
    "df.sex.value_counts()"
   ]
  },
  {
   "cell_type": "code",
   "execution_count": 15,
   "metadata": {
    "collapsed": true
   },
   "outputs": [],
   "source": [
    "# If we stll want to see the nans\n",
    "\n",
    "# df.sex.value_counts(dropna=False)"
   ]
  },
  {
   "cell_type": "markdown",
   "metadata": {},
   "source": [
    "## Graph the count of men and women, but don’t included the “Not Recorded” records\n",
    "\n",
    "Yes, again! The code you use should be different this time."
   ]
  },
  {
   "cell_type": "code",
   "execution_count": 16,
   "metadata": {},
   "outputs": [
    {
     "data": {
      "text/plain": [
       "<matplotlib.axes._subplots.AxesSubplot at 0x10c534668>"
      ]
     },
     "execution_count": 16,
     "metadata": {},
     "output_type": "execute_result"
    },
    {
     "data": {
      "image/png": "[encoded data removed]",
      "text/plain": [
       "<matplotlib.figure.Figure at 0x10ebb1c50>"
      ]
     },
     "metadata": {},
     "output_type": "display_data"
    }
   ],
   "source": [
    "df['sex'].value_counts().plot(kind='barh')"
   ]
  },
  {
   "cell_type": "markdown",
   "metadata": {},
   "source": [
    "# Wall punching"
   ]
  },
  {
   "cell_type": "markdown",
   "metadata": {},
   "source": [
    "## Find every instance where the narrative includes punching a wall\n",
    "\n",
    "Include phrases like \"punched a wall\" or \"punch wall\" or \"punched ten thousand walls.\" Do not type them each individually. How do you do that?????"
   ]
  },
  {
   "cell_type": "code",
   "execution_count": 17,
   "metadata": {},
   "outputs": [
    {
     "data": {
      "text/plain": [
       "0    5 YR OLD MALE PLAYING SOCCER BLOCKING BALL AND...\n",
       "1    L WRIST FX(?)/36YOWM 2 WKS AGO@G-FRIENDS HM,MO...\n",
       "2    20 YO F C/O EAR PAIN 1 DAY SAS WAS SWIMMING YE...\n",
       "3    61YOM W/KNEE PAIN S/P FALLING IN SHOWER 2 DAYS...\n",
       "4    88YOF PAIN TO HEAD WHEN FALL TO FLOOR WHEN WAL...\n",
       "Name: narr1, dtype: object"
      ]
     },
     "execution_count": 17,
     "metadata": {},
     "output_type": "execute_result"
    }
   ],
   "source": [
    "df.narr1.head()"
   ]
  },
  {
   "cell_type": "code",
   "execution_count": 18,
   "metadata": {},
   "outputs": [
    {
     "data": {
      "text/html": [
       "<div>\n",
       "<style>\n",
       "    .dataframe thead tr:only-child th {\n",
       "        text-align: right;\n",
       "    }\n",
       "\n",
       "    .dataframe thead th {\n",
       "        text-align: left;\n",
       "    }\n",
       "\n",
       "    .dataframe tbody tr th {\n",
       "        vertical-align: top;\n",
       "    }\n",
       "</style>\n",
       "<table border=\"1\" class=\"dataframe\">\n",
       "  <thead>\n",
       "    <tr style=\"text-align: right;\">\n",
       "      <th></th>\n",
       "      <th>CPSC Case #</th>\n",
       "      <th>trmt_date</th>\n",
       "      <th>psu</th>\n",
       "      <th>weight</th>\n",
       "      <th>stratum</th>\n",
       "      <th>age</th>\n",
       "      <th>sex</th>\n",
       "      <th>race</th>\n",
       "      <th>race_other</th>\n",
       "      <th>diag</th>\n",
       "      <th>diag_other</th>\n",
       "      <th>body_part</th>\n",
       "      <th>disposition</th>\n",
       "      <th>location</th>\n",
       "      <th>fmv</th>\n",
       "      <th>prod1</th>\n",
       "      <th>prod2</th>\n",
       "      <th>narr1</th>\n",
       "      <th>narr2</th>\n",
       "    </tr>\n",
       "  </thead>\n",
       "  <tbody>\n",
       "    <tr>\n",
       "      <th>246</th>\n",
       "      <td>150532226</td>\n",
       "      <td>05/07/2015</td>\n",
       "      <td>63</td>\n",
       "      <td>97.9239</td>\n",
       "      <td>M</td>\n",
       "      <td>38</td>\n",
       "      <td>Male</td>\n",
       "      <td>0</td>\n",
       "      <td>NaN</td>\n",
       "      <td>57</td>\n",
       "      <td>NaN</td>\n",
       "      <td>82</td>\n",
       "      <td>1</td>\n",
       "      <td>0</td>\n",
       "      <td>0</td>\n",
       "      <td>1884</td>\n",
       "      <td>NaN</td>\n",
       "      <td>38YOM PUNCHED A WALL FRACTURED HAND</td>\n",
       "      <td>NaN</td>\n",
       "    </tr>\n",
       "    <tr>\n",
       "      <th>582</th>\n",
       "      <td>150954076</td>\n",
       "      <td>09/16/2015</td>\n",
       "      <td>22</td>\n",
       "      <td>15.7762</td>\n",
       "      <td>V</td>\n",
       "      <td>13</td>\n",
       "      <td>Male</td>\n",
       "      <td>1</td>\n",
       "      <td>NaN</td>\n",
       "      <td>57</td>\n",
       "      <td>NaN</td>\n",
       "      <td>82</td>\n",
       "      <td>1</td>\n",
       "      <td>1</td>\n",
       "      <td>0</td>\n",
       "      <td>1884</td>\n",
       "      <td>NaN</td>\n",
       "      <td>PT PUNCHED A WALL. FRACTURE METACARPAL, RIGHT,...</td>\n",
       "      <td>NaN</td>\n",
       "    </tr>\n",
       "    <tr>\n",
       "      <th>604</th>\n",
       "      <td>150541260</td>\n",
       "      <td>04/09/2015</td>\n",
       "      <td>53</td>\n",
       "      <td>15.0591</td>\n",
       "      <td>V</td>\n",
       "      <td>22</td>\n",
       "      <td>Male</td>\n",
       "      <td>1</td>\n",
       "      <td>NaN</td>\n",
       "      <td>71</td>\n",
       "      <td>HAND INJURY</td>\n",
       "      <td>82</td>\n",
       "      <td>1</td>\n",
       "      <td>1</td>\n",
       "      <td>0</td>\n",
       "      <td>1884</td>\n",
       "      <td>NaN</td>\n",
       "      <td>22YOM-HAND INJURY-PUNCHED A CEMENT WALL IN ANG...</td>\n",
       "      <td>NaN</td>\n",
       "    </tr>\n",
       "    <tr>\n",
       "      <th>704</th>\n",
       "      <td>151017458</td>\n",
       "      <td>10/05/2015</td>\n",
       "      <td>61</td>\n",
       "      <td>16.5650</td>\n",
       "      <td>V</td>\n",
       "      <td>15</td>\n",
       "      <td>Female</td>\n",
       "      <td>1</td>\n",
       "      <td>NaN</td>\n",
       "      <td>53</td>\n",
       "      <td>NaN</td>\n",
       "      <td>82</td>\n",
       "      <td>1</td>\n",
       "      <td>1</td>\n",
       "      <td>0</td>\n",
       "      <td>1884</td>\n",
       "      <td>NaN</td>\n",
       "      <td>15 YOF C/O RIGHT HAND PAIN SINCE PUNCHING A WA...</td>\n",
       "      <td>DX: CONTUSION OF HAND</td>\n",
       "    </tr>\n",
       "    <tr>\n",
       "      <th>741</th>\n",
       "      <td>150433154</td>\n",
       "      <td>04/02/2015</td>\n",
       "      <td>91</td>\n",
       "      <td>15.0591</td>\n",
       "      <td>V</td>\n",
       "      <td>33</td>\n",
       "      <td>Male</td>\n",
       "      <td>1</td>\n",
       "      <td>NaN</td>\n",
       "      <td>57</td>\n",
       "      <td>NaN</td>\n",
       "      <td>82</td>\n",
       "      <td>1</td>\n",
       "      <td>0</td>\n",
       "      <td>0</td>\n",
       "      <td>1884</td>\n",
       "      <td>NaN</td>\n",
       "      <td>33YOM PUNCHED A WALL X1 WEEK AGO W/ SHARP PAIN...</td>\n",
       "      <td>DX: ACUTE CLOSED FX OF FIFTH METACARPAL, BOXER...</td>\n",
       "    </tr>\n",
       "  </tbody>\n",
       "</table>\n",
       "</div>"
      ],
      "text/plain": [
       "     CPSC Case #   trmt_date  psu   weight stratum  age     sex  race  \\\n",
       "246    150532226  05/07/2015   63  97.9239       M   38    Male     0   \n",
       "582    150954076  09/16/2015   22  15.7762       V   13    Male     1   \n",
       "604    150541260  04/09/2015   53  15.0591       V   22    Male     1   \n",
       "704    151017458  10/05/2015   61  16.5650       V   15  Female     1   \n",
       "741    150433154  04/02/2015   91  15.0591       V   33    Male     1   \n",
       "\n",
       "    race_other  diag   diag_other  body_part  disposition  location  fmv  \\\n",
       "246        NaN    57          NaN         82            1         0    0   \n",
       "582        NaN    57          NaN         82            1         1    0   \n",
       "604        NaN    71  HAND INJURY         82            1         1    0   \n",
       "704        NaN    53          NaN         82            1         1    0   \n",
       "741        NaN    57          NaN         82            1         0    0   \n",
       "\n",
       "     prod1  prod2                                              narr1  \\\n",
       "246   1884    NaN                38YOM PUNCHED A WALL FRACTURED HAND   \n",
       "582   1884    NaN  PT PUNCHED A WALL. FRACTURE METACARPAL, RIGHT,...   \n",
       "604   1884    NaN  22YOM-HAND INJURY-PUNCHED A CEMENT WALL IN ANG...   \n",
       "704   1884    NaN  15 YOF C/O RIGHT HAND PAIN SINCE PUNCHING A WA...   \n",
       "741   1884    NaN  33YOM PUNCHED A WALL X1 WEEK AGO W/ SHARP PAIN...   \n",
       "\n",
       "                                                 narr2  \n",
       "246                                                NaN  \n",
       "582                                                NaN  \n",
       "604                                                NaN  \n",
       "704                              DX: CONTUSION OF HAND  \n",
       "741  DX: ACUTE CLOSED FX OF FIFTH METACARPAL, BOXER...  "
      ]
     },
     "execution_count": 18,
     "metadata": {},
     "output_type": "execute_result"
    }
   ],
   "source": [
    "# Find fell of bicycle\n",
    "# Fall off bike\n",
    "# TC\n",
    "\n",
    "# df[df.narr1.stry.contains('F[AE]ALL.*BI[CK]')]\n",
    "\n",
    "\n",
    "df[df['narr1'].str.contains(\"punch.*wall\", regex=True, case=False)].head()"
   ]
  },
  {
   "cell_type": "markdown",
   "metadata": {},
   "source": [
    "## Graph the gender distribution of wall-punching."
   ]
  },
  {
   "cell_type": "code",
   "execution_count": 19,
   "metadata": {},
   "outputs": [
    {
     "data": {
      "text/plain": [
       "<matplotlib.axes._subplots.AxesSubplot at 0x10c662748>"
      ]
     },
     "execution_count": 19,
     "metadata": {},
     "output_type": "execute_result"
    },
    {
     "data": {
      "image/png": "[encoded data removed]",
      "text/plain": [
       "<matplotlib.figure.Figure at 0x10c6621d0>"
      ]
     },
     "metadata": {},
     "output_type": "display_data"
    }
   ],
   "source": [
    "df[df['narr1'].str.contains(\"punch.*wall\", case=False)]['sex'].value_counts().plot(kind='barh')"
   ]
  },
  {
   "cell_type": "markdown",
   "metadata": {},
   "source": [
    "## Find the average age of a wall-puncher.\n",
    "\n",
    "Graph the distribution of the ages, too."
   ]
  },
  {
   "cell_type": "code",
   "execution_count": 20,
   "metadata": {},
   "outputs": [
    {
     "data": {
      "text/plain": [
       "24"
      ]
     },
     "execution_count": 20,
     "metadata": {},
     "output_type": "execute_result"
    }
   ],
   "source": [
    "df[df['narr1'].str.contains(\"punch.*wall\", case=False)]['age'].mean().astype(int)"
   ]
  },
  {
   "cell_type": "code",
   "execution_count": 21,
   "metadata": {},
   "outputs": [
    {
     "data": {
      "text/plain": [
       "<matplotlib.axes._subplots.AxesSubplot at 0x10c716198>"
      ]
     },
     "execution_count": 21,
     "metadata": {},
     "output_type": "execute_result"
    },
    {
     "data": {
      "image/png": "[encoded data removed]",
      "text/plain": [
       "<matplotlib.figure.Figure at 0x10c76f2b0>"
      ]
     },
     "metadata": {},
     "output_type": "display_data"
    }
   ],
   "source": [
    "df[df['narr1'].str.contains(\"punch.*wall\", case=False)]['age'].value_counts().plot(kind='barh', figsize=(5,10))"
   ]
  },
  {
   "cell_type": "markdown",
   "metadata": {},
   "source": [
    "# Which months are the most popular for wall punching?\n",
    "\n",
    "The month is hidden inside of the `trmt_date` column - you'll need to extract it. To check, January should have 27109 cases."
   ]
  },
  {
   "cell_type": "code",
   "execution_count": 22,
   "metadata": {},
   "outputs": [
    {
     "data": {
      "text/plain": [
       "dtype('O')"
      ]
     },
     "execution_count": 22,
     "metadata": {},
     "output_type": "execute_result"
    }
   ],
   "source": [
    "df.trmt_date.dtypes"
   ]
  },
  {
   "cell_type": "code",
   "execution_count": 23,
   "metadata": {},
   "outputs": [
    {
     "name": "stderr",
     "output_type": "stream",
     "text": [
      "/usr/local/lib/python3.6/site-packages/ipykernel_launcher.py:1: FutureWarning: currently extract(expand=None) means expand=False (return Index/Series/DataFrame) but in a future version of pandas this will be changed to expand=True (return DataFrame)\n",
      "  \"\"\"Entry point for launching an IPython kernel.\n"
     ]
    },
    {
     "data": {
      "text/plain": [
       "Series([], Name: narr1, dtype: object)"
      ]
     },
     "execution_count": 23,
     "metadata": {},
     "output_type": "execute_result"
    }
   ],
   "source": [
    "df.narr1.str.extract(\"FEll OFF (\\w+)\").dropna()"
   ]
  },
  {
   "cell_type": "code",
   "execution_count": 24,
   "metadata": {
    "collapsed": true
   },
   "outputs": [],
   "source": [
    "# Orlando, Florida\n",
    "# df.trmt_date.str.extract('\\d\\d\\d\\d')"
   ]
  },
  {
   "cell_type": "code",
   "execution_count": 25,
   "metadata": {},
   "outputs": [
    {
     "data": {
      "text/plain": [
       "04/21/2015    12\n",
       "06/16/2015    12\n",
       "06/10/2015    12\n",
       "07/11/2015    11\n",
       "06/04/2015    10\n",
       "05/14/2015    10\n",
       "04/01/2015    10\n",
       "11/01/2015    10\n",
       "09/21/2015    10\n",
       "11/18/2015    10\n",
       "04/13/2015    10\n",
       "10/22/2015    10\n",
       "09/02/2015     9\n",
       "09/08/2015     9\n",
       "01/28/2015     9\n",
       "06/23/2015     9\n",
       "06/22/2015     9\n",
       "03/24/2015     9\n",
       "12/07/2015     9\n",
       "09/20/2015     9\n",
       "06/03/2015     9\n",
       "02/04/2015     9\n",
       "10/21/2015     9\n",
       "09/24/2015     8\n",
       "04/19/2015     8\n",
       "03/01/2015     8\n",
       "12/21/2015     8\n",
       "05/07/2015     8\n",
       "04/10/2015     8\n",
       "11/19/2015     8\n",
       "              ..\n",
       "08/20/2015     2\n",
       "06/11/2015     2\n",
       "10/13/2015     2\n",
       "05/02/2015     2\n",
       "03/25/2015     2\n",
       "11/11/2015     2\n",
       "12/31/2015     2\n",
       "04/12/2015     2\n",
       "02/09/2015     2\n",
       "01/01/2015     2\n",
       "07/16/2015     2\n",
       "12/28/2015     2\n",
       "08/19/2015     2\n",
       "04/22/2015     2\n",
       "07/09/2015     2\n",
       "03/06/2015     2\n",
       "07/14/2015     1\n",
       "08/21/2015     1\n",
       "01/08/2015     1\n",
       "04/03/2015     1\n",
       "10/15/2015     1\n",
       "01/29/2015     1\n",
       "12/05/2015     1\n",
       "08/03/2015     1\n",
       "02/05/2015     1\n",
       "08/06/2015     1\n",
       "02/21/2015     1\n",
       "08/10/2015     1\n",
       "03/14/2015     1\n",
       "01/09/2015     1\n",
       "Name: trmt_date, Length: 361, dtype: int64"
      ]
     },
     "execution_count": 25,
     "metadata": {},
     "output_type": "execute_result"
    }
   ],
   "source": [
    "df[df['narr1'].str.contains(\"punch.*wall\", case=False)]['trmt_date'].value_counts()"
   ]
  },
  {
   "cell_type": "code",
   "execution_count": 26,
   "metadata": {},
   "outputs": [
    {
     "name": "stderr",
     "output_type": "stream",
     "text": [
      "/usr/local/lib/python3.6/site-packages/ipykernel_launcher.py:1: FutureWarning: currently extract(expand=None) means expand=False (return Index/Series/DataFrame) but in a future version of pandas this will be changed to expand=True (return DataFrame)\n",
      "  \"\"\"Entry point for launching an IPython kernel.\n"
     ]
    },
    {
     "data": {
      "text/plain": [
       "05    34066\n",
       "08    32917\n",
       "09    32473\n",
       "07    32184\n",
       "06    31315\n",
       "10    30587\n",
       "04    30154\n",
       "03    29220\n",
       "11    27154\n",
       "01    27109\n",
       "12    26845\n",
       "02    23703\n",
       "Name: trmt_date, dtype: int64"
      ]
     },
     "execution_count": 26,
     "metadata": {},
     "output_type": "execute_result"
    }
   ],
   "source": [
    "df.trmt_date.str.extract('(\\d\\d)').dropna().value_counts()"
   ]
  },
  {
   "cell_type": "markdown",
   "metadata": {},
   "source": [
    "## Graph the amount of wall punching in each month\n",
    "\n",
    "Having numbers on the x axis (1-12) is fine."
   ]
  },
  {
   "cell_type": "code",
   "execution_count": 27,
   "metadata": {},
   "outputs": [
    {
     "name": "stderr",
     "output_type": "stream",
     "text": [
      "/usr/local/lib/python3.6/site-packages/ipykernel_launcher.py:1: FutureWarning: currently extract(expand=None) means expand=False (return Index/Series/DataFrame) but in a future version of pandas this will be changed to expand=True (return DataFrame)\n",
      "  \"\"\"Entry point for launching an IPython kernel.\n"
     ]
    },
    {
     "data": {
      "text/plain": [
       "<matplotlib.axes._subplots.AxesSubplot at 0x10ef6f128>"
      ]
     },
     "execution_count": 27,
     "metadata": {},
     "output_type": "execute_result"
    },
    {
     "data": {
      "image/png": "[encoded data removed]",
      "text/plain": [
       "<matplotlib.figure.Figure at 0x10ef6feb8>"
      ]
     },
     "metadata": {},
     "output_type": "display_data"
    }
   ],
   "source": [
    "df.trmt_date.str.extract('(\\d\\d)').dropna().value_counts().sort_values(ascending = True).plot(kind='barh')\n",
    "\n"
   ]
  },
  {
   "cell_type": "markdown",
   "metadata": {},
   "source": [
    "## Sort the graph so that the months are in order from Jan-Dec (or 01-12)"
   ]
  },
  {
   "cell_type": "code",
   "execution_count": 28,
   "metadata": {},
   "outputs": [
    {
     "name": "stderr",
     "output_type": "stream",
     "text": [
      "/usr/local/lib/python3.6/site-packages/ipykernel_launcher.py:1: FutureWarning: currently extract(expand=None) means expand=False (return Index/Series/DataFrame) but in a future version of pandas this will be changed to expand=True (return DataFrame)\n",
      "  \"\"\"Entry point for launching an IPython kernel.\n"
     ]
    },
    {
     "data": {
      "text/plain": [
       "<matplotlib.axes._subplots.AxesSubplot at 0x10771f780>"
      ]
     },
     "execution_count": 28,
     "metadata": {},
     "output_type": "execute_result"
    },
    {
     "data": {
      "image/png": "[encoded data removed]",
      "text/plain": [
       "<matplotlib.figure.Figure at 0x10771ffd0>"
      ]
     },
     "metadata": {},
     "output_type": "display_data"
    }
   ],
   "source": [
    "df.trmt_date.str.extract('(\\d\\d)').dropna().value_counts().sort_index(ascending = False).plot(kind='barh')"
   ]
  },
  {
   "cell_type": "markdown",
   "metadata": {},
   "source": [
    "## What month is most common for air conditioner-related injuries?\n",
    "\n",
    "Use the product code, which you can find in `2017ComparabilityTable.pdf` or `categories-cleaned.txt`."
   ]
  },
  {
   "cell_type": "code",
   "execution_count": 29,
   "metadata": {
    "collapsed": true
   },
   "outputs": [],
   "source": [
    "# df['prod1'].str.pad(4, fillchar='0')\n"
   ]
  },
  {
   "cell_type": "code",
   "execution_count": 30,
   "metadata": {},
   "outputs": [
    {
     "name": "stderr",
     "output_type": "stream",
     "text": [
      "/usr/local/lib/python3.6/site-packages/ipykernel_launcher.py:3: FutureWarning: currently extract(expand=None) means expand=False (return Index/Series/DataFrame) but in a future version of pandas this will be changed to expand=True (return DataFrame)\n",
      "  This is separate from the ipykernel package so we can avoid doing imports until\n"
     ]
    },
    {
     "data": {
      "text/plain": [
       "07    45\n",
       "06    43\n",
       "08    42\n",
       "09    36\n",
       "05    32\n",
       "10    32\n",
       "04    17\n",
       "12    17\n",
       "11    15\n",
       "03    14\n",
       "02     9\n",
       "01     8\n",
       "Name: trmt_date, dtype: int64"
      ]
     },
     "execution_count": 30,
     "metadata": {},
     "output_type": "execute_result"
    }
   ],
   "source": [
    "# 0381,\"Air conditioners\"\n",
    "\n",
    "df[df['prod1'] == 381].trmt_date.str.extract('(\\d\\d)').value_counts()\n",
    "\n",
    "# df[df.prod1 == \"0381\"]\n"
   ]
  },
  {
   "cell_type": "markdown",
   "metadata": {},
   "source": [
    "## Find what else people punched using the prod1 and prod2 columns.\n",
    "\n",
    "Look at the top 10 for each separately."
   ]
  },
  {
   "cell_type": "code",
   "execution_count": 31,
   "metadata": {},
   "outputs": [
    {
     "data": {
      "text/plain": [
       "1884    1796\n",
       "1894     566\n",
       "1893     244\n",
       "1207     159\n",
       "4004     122\n",
       "Name: prod1, dtype: int64"
      ]
     },
     "execution_count": 31,
     "metadata": {},
     "output_type": "execute_result"
    }
   ],
   "source": [
    "# df.prod1.value_counts()\n",
    "\n",
    "df[df['narr1'].str.contains('punch', case=False)]['prod1'].value_counts().head()\n",
    "\n",
    "prod1_column = df[df['narr1'].str.contains('punch', case=False)]['prod1'].value_counts().head()\n",
    "prod1_column"
   ]
  },
  {
   "cell_type": "code",
   "execution_count": 32,
   "metadata": {},
   "outputs": [
    {
     "data": {
      "text/plain": [
       "1884.0    31\n",
       "1893.0    13\n",
       "1207.0     7\n",
       "1807.0     7\n",
       "1892.0     6\n",
       "Name: prod2, dtype: int64"
      ]
     },
     "execution_count": 32,
     "metadata": {},
     "output_type": "execute_result"
    }
   ],
   "source": [
    "prod2_column = df[df['narr1'].str.contains('punch', case=False)]['prod2'].value_counts().head()\n",
    "prod2_column"
   ]
  },
  {
   "cell_type": "code",
   "execution_count": 33,
   "metadata": {},
   "outputs": [
    {
     "data": {
      "text/plain": [
       "1884.0    1827.0\n",
       "1894.0     566.0\n",
       "1893.0     257.0\n",
       "1207.0     166.0\n",
       "4004.0     122.0\n",
       "1807.0       7.0\n",
       "1892.0       6.0\n",
       "dtype: float64"
      ]
     },
     "execution_count": 33,
     "metadata": {},
     "output_type": "execute_result"
    }
   ],
   "source": [
    "prod_combined = prod1_column.add(prod2_column, fill_value=0).sort_values(ascending=False).head(10)\n",
    "prod_combined"
   ]
  },
  {
   "cell_type": "markdown",
   "metadata": {},
   "source": [
    "## Uh, they're the same!"
   ]
  },
  {
   "cell_type": "markdown",
   "metadata": {},
   "source": [
    "The order of `prod1` and `prod2` don't actually matter!\n",
    "\n",
    "> When only one product is associated with an injury, place the product code for that product in the space allocated for \"First Product Code\" and fill in the \"Second Product Code\" spaces with 4 zeros (0000).\n",
    "When two products are associated with an injury, either product may be coded as the first product and the other as the second product.\n",
    ">\n",
    "> Example: An 11-year old boy riding a bicycle ran into a swing. Code: Product 1 = 5040 (bicycle) and Product 2 = 3246 (swings) or\n",
    ">\n",
    "> Code: Product 1 = 3246 (swings) and Product 2 = 5040 (bicycle)\n",
    "\n",
    "## Okay, okay, there’s no difference between prod1 and prod2, so you should add their frequencies together for an overall count!\n",
    "\n",
    "It's *almost* as easy as adding together the `value_counts()`.\n",
    "\n",
    "Take a look at the air conditioner question and the `.value_counts()` you just did, though, to see why combining them might not be that simple. **What is different about `prod1` and `prod2`?** You probably have to go all the way back up to where you read the file in to make them match."
   ]
  },
  {
   "cell_type": "code",
   "execution_count": 34,
   "metadata": {
    "collapsed": true
   },
   "outputs": [],
   "source": [
    "# prod1\n",
    "# df[df.prod1 == '03']\n",
    "   \n",
    "# df[(df'prod1' == '03']\n",
    "\n",
    " # Give me eveything where \n",
    "    \n",
    "\n",
    "# df[df.prod1.isin(['####', '####'])]"
   ]
  },
  {
   "cell_type": "code",
   "execution_count": 35,
   "metadata": {},
   "outputs": [
    {
     "data": {
      "text/html": [
       "<div>\n",
       "<style>\n",
       "    .dataframe thead tr:only-child th {\n",
       "        text-align: right;\n",
       "    }\n",
       "\n",
       "    .dataframe thead th {\n",
       "        text-align: left;\n",
       "    }\n",
       "\n",
       "    .dataframe tbody tr th {\n",
       "        vertical-align: top;\n",
       "    }\n",
       "</style>\n",
       "<table border=\"1\" class=\"dataframe\">\n",
       "  <thead>\n",
       "    <tr style=\"text-align: right;\">\n",
       "      <th></th>\n",
       "      <th>index</th>\n",
       "      <th>0</th>\n",
       "    </tr>\n",
       "  </thead>\n",
       "  <tbody>\n",
       "    <tr>\n",
       "      <th>0</th>\n",
       "      <td>1884.0</td>\n",
       "      <td>1827.0</td>\n",
       "    </tr>\n",
       "    <tr>\n",
       "      <th>1</th>\n",
       "      <td>1894.0</td>\n",
       "      <td>566.0</td>\n",
       "    </tr>\n",
       "    <tr>\n",
       "      <th>2</th>\n",
       "      <td>1893.0</td>\n",
       "      <td>257.0</td>\n",
       "    </tr>\n",
       "    <tr>\n",
       "      <th>3</th>\n",
       "      <td>1207.0</td>\n",
       "      <td>166.0</td>\n",
       "    </tr>\n",
       "    <tr>\n",
       "      <th>4</th>\n",
       "      <td>4004.0</td>\n",
       "      <td>122.0</td>\n",
       "    </tr>\n",
       "    <tr>\n",
       "      <th>5</th>\n",
       "      <td>1807.0</td>\n",
       "      <td>7.0</td>\n",
       "    </tr>\n",
       "    <tr>\n",
       "      <th>6</th>\n",
       "      <td>1892.0</td>\n",
       "      <td>6.0</td>\n",
       "    </tr>\n",
       "  </tbody>\n",
       "</table>\n",
       "</div>"
      ],
      "text/plain": [
       "    index       0\n",
       "0  1884.0  1827.0\n",
       "1  1894.0   566.0\n",
       "2  1893.0   257.0\n",
       "3  1207.0   166.0\n",
       "4  4004.0   122.0\n",
       "5  1807.0     7.0\n",
       "6  1892.0     6.0"
      ]
     },
     "execution_count": 35,
     "metadata": {},
     "output_type": "execute_result"
    }
   ],
   "source": [
    "prod_df = prod_combined.reset_index()\n",
    "prod_df"
   ]
  },
  {
   "cell_type": "markdown",
   "metadata": {},
   "source": [
    "## Turn that into a dataframe\n",
    "\n",
    "Use `.reset_index()` on the result to turn it into a dataframe. Rename your columns to be `product_code` and `injury_count`."
   ]
  },
  {
   "cell_type": "code",
   "execution_count": 36,
   "metadata": {
    "collapsed": true
   },
   "outputs": [],
   "source": [
    "# see above"
   ]
  },
  {
   "cell_type": "code",
   "execution_count": 37,
   "metadata": {
    "collapsed": true
   },
   "outputs": [],
   "source": [
    "prod_columns = {\n",
    "    'index': 'product_code',\n",
    "    0: 'injury_count'\n",
    "}"
   ]
  },
  {
   "cell_type": "code",
   "execution_count": 38,
   "metadata": {},
   "outputs": [
    {
     "data": {
      "text/html": [
       "<div>\n",
       "<style>\n",
       "    .dataframe thead tr:only-child th {\n",
       "        text-align: right;\n",
       "    }\n",
       "\n",
       "    .dataframe thead th {\n",
       "        text-align: left;\n",
       "    }\n",
       "\n",
       "    .dataframe tbody tr th {\n",
       "        vertical-align: top;\n",
       "    }\n",
       "</style>\n",
       "<table border=\"1\" class=\"dataframe\">\n",
       "  <thead>\n",
       "    <tr style=\"text-align: right;\">\n",
       "      <th></th>\n",
       "      <th>product_code</th>\n",
       "      <th>injury_count</th>\n",
       "    </tr>\n",
       "  </thead>\n",
       "  <tbody>\n",
       "    <tr>\n",
       "      <th>0</th>\n",
       "      <td>1884.0</td>\n",
       "      <td>1827.0</td>\n",
       "    </tr>\n",
       "    <tr>\n",
       "      <th>1</th>\n",
       "      <td>1894.0</td>\n",
       "      <td>566.0</td>\n",
       "    </tr>\n",
       "    <tr>\n",
       "      <th>2</th>\n",
       "      <td>1893.0</td>\n",
       "      <td>257.0</td>\n",
       "    </tr>\n",
       "    <tr>\n",
       "      <th>3</th>\n",
       "      <td>1207.0</td>\n",
       "      <td>166.0</td>\n",
       "    </tr>\n",
       "    <tr>\n",
       "      <th>4</th>\n",
       "      <td>4004.0</td>\n",
       "      <td>122.0</td>\n",
       "    </tr>\n",
       "    <tr>\n",
       "      <th>5</th>\n",
       "      <td>1807.0</td>\n",
       "      <td>7.0</td>\n",
       "    </tr>\n",
       "    <tr>\n",
       "      <th>6</th>\n",
       "      <td>1892.0</td>\n",
       "      <td>6.0</td>\n",
       "    </tr>\n",
       "  </tbody>\n",
       "</table>\n",
       "</div>"
      ],
      "text/plain": [
       "   product_code  injury_count\n",
       "0        1884.0        1827.0\n",
       "1        1894.0         566.0\n",
       "2        1893.0         257.0\n",
       "3        1207.0         166.0\n",
       "4        4004.0         122.0\n",
       "5        1807.0           7.0\n",
       "6        1892.0           6.0"
      ]
     },
     "execution_count": 38,
     "metadata": {},
     "output_type": "execute_result"
    }
   ],
   "source": [
    "prod_df.rename(columns=prod_columns, inplace=True)\n",
    "prod_df"
   ]
  },
  {
   "cell_type": "markdown",
   "metadata": {},
   "source": [
    "## Fix the product codes\n",
    "\n",
    "Uh, wait, look at those product codes. \"102\" shouldn't be possible, it should be `0102` - this actually doesn't have to do with coding, it has to do with *the data doesn't match the codebook*.\n",
    "\n",
    "### Add zeroes to the left of the product code until it is 4 characters long"
   ]
  },
  {
   "cell_type": "code",
   "execution_count": 41,
   "metadata": {},
   "outputs": [],
   "source": [
    "prod_df.product_code = prod_df.product_code.astype(str).str.pad(6, fillchar=\"0\").str.rstrip(\"0\").str.rstrip(\".\")"
   ]
  },
  {
   "cell_type": "code",
   "execution_count": 42,
   "metadata": {},
   "outputs": [
    {
     "data": {
      "text/html": [
       "<div>\n",
       "<style>\n",
       "    .dataframe thead tr:only-child th {\n",
       "        text-align: right;\n",
       "    }\n",
       "\n",
       "    .dataframe thead th {\n",
       "        text-align: left;\n",
       "    }\n",
       "\n",
       "    .dataframe tbody tr th {\n",
       "        vertical-align: top;\n",
       "    }\n",
       "</style>\n",
       "<table border=\"1\" class=\"dataframe\">\n",
       "  <thead>\n",
       "    <tr style=\"text-align: right;\">\n",
       "      <th></th>\n",
       "      <th>product_code</th>\n",
       "      <th>injury_count</th>\n",
       "    </tr>\n",
       "  </thead>\n",
       "  <tbody>\n",
       "    <tr>\n",
       "      <th>0</th>\n",
       "      <td>1884</td>\n",
       "      <td>1827.0</td>\n",
       "    </tr>\n",
       "    <tr>\n",
       "      <th>1</th>\n",
       "      <td>1894</td>\n",
       "      <td>566.0</td>\n",
       "    </tr>\n",
       "    <tr>\n",
       "      <th>2</th>\n",
       "      <td>1893</td>\n",
       "      <td>257.0</td>\n",
       "    </tr>\n",
       "    <tr>\n",
       "      <th>3</th>\n",
       "      <td>1207</td>\n",
       "      <td>166.0</td>\n",
       "    </tr>\n",
       "    <tr>\n",
       "      <th>4</th>\n",
       "      <td>4004</td>\n",
       "      <td>122.0</td>\n",
       "    </tr>\n",
       "  </tbody>\n",
       "</table>\n",
       "</div>"
      ],
      "text/plain": [
       "  product_code  injury_count\n",
       "0         1884        1827.0\n",
       "1         1894         566.0\n",
       "2         1893         257.0\n",
       "3         1207         166.0\n",
       "4         4004         122.0"
      ]
     },
     "execution_count": 42,
     "metadata": {},
     "output_type": "execute_result"
    }
   ],
   "source": [
    "prod_df.head()"
   ]
  },
  {
   "cell_type": "markdown",
   "metadata": {},
   "source": [
    "## Get meaningful names for \"product code\"\n",
    "\n",
    "Join with `categories-cleaned.txt` to turn the codes into actual words. **When you read in `categories-cleaned.txt`, make sure it has 803 rows and 2 columns.**"
   ]
  },
  {
   "cell_type": "code",
   "execution_count": 48,
   "metadata": {
    "collapsed": true
   },
   "outputs": [],
   "source": [
    "categories_df = pd.read_csv(\"categories-cleaned.txt\", header=None, names=[\"product_code\", \"prod_desc\"], dtype=str)"
   ]
  },
  {
   "cell_type": "code",
   "execution_count": 49,
   "metadata": {},
   "outputs": [
    {
     "data": {
      "text/plain": [
       "(803, 2)"
      ]
     },
     "execution_count": 49,
     "metadata": {},
     "output_type": "execute_result"
    }
   ],
   "source": [
    "categories_df.shape"
   ]
  },
  {
   "cell_type": "markdown",
   "metadata": {},
   "source": [
    "### Confirm that it worked by seeing if product code '0102' gives you 'Wringer washing machines\""
   ]
  },
  {
   "cell_type": "code",
   "execution_count": 50,
   "metadata": {},
   "outputs": [
    {
     "data": {
      "text/html": [
       "<div>\n",
       "<style>\n",
       "    .dataframe thead tr:only-child th {\n",
       "        text-align: right;\n",
       "    }\n",
       "\n",
       "    .dataframe thead th {\n",
       "        text-align: left;\n",
       "    }\n",
       "\n",
       "    .dataframe tbody tr th {\n",
       "        vertical-align: top;\n",
       "    }\n",
       "</style>\n",
       "<table border=\"1\" class=\"dataframe\">\n",
       "  <thead>\n",
       "    <tr style=\"text-align: right;\">\n",
       "      <th></th>\n",
       "      <th>product_code</th>\n",
       "      <th>prod_desc</th>\n",
       "    </tr>\n",
       "  </thead>\n",
       "  <tbody>\n",
       "    <tr>\n",
       "      <th>0</th>\n",
       "      <td>0102</td>\n",
       "      <td>Wringer washing machines</td>\n",
       "    </tr>\n",
       "  </tbody>\n",
       "</table>\n",
       "</div>"
      ],
      "text/plain": [
       "  product_code                 prod_desc\n",
       "0         0102  Wringer washing machines"
      ]
     },
     "execution_count": 50,
     "metadata": {},
     "output_type": "execute_result"
    }
   ],
   "source": [
    "categories_df[categories_df.product_code == \"0102\"]"
   ]
  },
  {
   "cell_type": "markdown",
   "metadata": {},
   "source": [
    "## Graph the top 10 most popular products for injuries "
   ]
  },
  {
   "cell_type": "code",
   "execution_count": 51,
   "metadata": {
    "collapsed": true
   },
   "outputs": [],
   "source": [
    "# First merge the two datasets\n",
    "\n",
    "combine = prod_df.merge(categories_df, left_on=\"product_code\", right_on=\"product_code\")\n"
   ]
  },
  {
   "cell_type": "code",
   "execution_count": 56,
   "metadata": {},
   "outputs": [
    {
     "data": {
      "text/plain": [
       "<matplotlib.axes._subplots.AxesSubplot at 0x10d01ca90>"
      ]
     },
     "execution_count": 56,
     "metadata": {},
     "output_type": "execute_result"
    },
    {
     "data": {
      "image/png": "[encoded data removed]",
      "text/plain": [
       "<matplotlib.figure.Figure at 0x10d015780>"
      ]
     },
     "metadata": {},
     "output_type": "display_data"
    }
   ],
   "source": [
    "combine.sort_values('injury_count', ascending=False).head(10).sort_values('injury_count').plot(x='prod_desc', y='injury_count', kind=\"barh\")"
   ]
  }
 ],
 "metadata": {
  "kernelspec": {
   "display_name": "Python 3",
   "language": "python",
   "name": "python3"
  },
  "language_info": {
   "codemirror_mode": {
    "name": "ipython",
    "version": 3
   },
   "file_extension": ".py",
   "mimetype": "text/x-python",
   "name": "python",
   "nbconvert_exporter": "python",
   "pygments_lexer": "ipython3",
   "version": "3.6.1"
  }
 },
 "nbformat": 4,
 "nbformat_minor": 2
}
