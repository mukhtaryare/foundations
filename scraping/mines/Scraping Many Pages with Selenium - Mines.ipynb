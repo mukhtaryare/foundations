{
 "cells": [
  {
   "cell_type": "markdown",
   "metadata": {},
   "source": [
    "# Scraping many pages + Using Selenium\n",
    "\n",
    "## The pages we'll be looking at\n",
    "\n",
    "If I wanted to read specific information about a specfic mine, it takes a few steps. **Do these steps with your browser before you try any programming.**\n",
    "\n",
    "1. Visit the [Mine Data Retrieval System](https://arlweb.msha.gov/drs/drshome.htm)\n",
    "2. Scroll down to **Mine Identification Number (ID) Search**\n",
    "3. Type in a mine ID number, such as `3503598`, click **Search**\n",
    "4. I'm on a page! It lists the MINE NAME and MINE OWNER.\n",
    "\n",
    "After searching for and finding a mine, I can use this page to **find reports about this mine**. Some of the reports are on accidents, violations, inspections, health samples and more. To get those reports:\n",
    "\n",
    "1. Search for a mine (if you haven't already)\n",
    "2. Scroll down and change **Beginning Date** to `1/1/1995` (violation reports begin in 1995, accidents begin in 1983)\n",
    "3. Select the report type of `Violations`\n",
    "4. Click **Get Report**\n",
    "5. I'm on a page! It lists ALL OF THE MINE'S VIOLATIONS.\n",
    "\n",
    "By changing the report type you're searching for you can find all sorts of different data."
   ]
  },
  {
   "cell_type": "markdown",
   "metadata": {},
   "source": [
    "# Researching mine information"
   ]
  },
  {
   "cell_type": "markdown",
   "metadata": {},
   "source": [
    "## Preparation \n",
    "\n",
    "### When you search for information on a specific mine, what URL should Selenium visit first?\n",
    "\n",
    "- *TIP: the answer is NOT `https://arlweb.msha.gov/drs/ASP/BasicMineInfonew.asp`*"
   ]
  },
  {
   "cell_type": "code",
   "execution_count": 1,
   "metadata": {
    "collapsed": true
   },
   "outputs": [],
   "source": [
    "# url = \"https://arlweb.msha.gov/drs/drshome.htm\""
   ]
  },
  {
   "cell_type": "markdown",
   "metadata": {},
   "source": [
    "### How can you identify the text field we're going to type the Mine ID into?\n",
    "\n",
    "Selenium can find elements by:\n",
    "\n",
    "- name\n",
    "- Class\n",
    "- ID\n",
    "- CSS selector (**ASK ME WHAT THIS IS** if you don't know)\n",
    "- XPath (**ASK ME WHAT THIS IS** because you definitely don't know)\n",
    "- Link text\n",
    "- Partial link text\n",
    "\n",
    "So in other words, what's unique about this element?"
   ]
  },
  {
   "cell_type": "code",
   "execution_count": 2,
   "metadata": {
    "collapsed": true
   },
   "outputs": [],
   "source": [
    "# mine_id = driver.find_element_by_name('MineId')"
   ]
  },
  {
   "cell_type": "markdown",
   "metadata": {},
   "source": [
    "### How can you identify the search button we're going to click, or the form we're going to submit?\n",
    "\n",
    "Selenium can submit forms by either\n",
    "\n",
    "- Selecting the form and using `.submit()`, or\n",
    "- Selecting the button and using `.click()`\n",
    "\n",
    "You only need to be able to get **one, not both.**"
   ]
  },
  {
   "cell_type": "code",
   "execution_count": 3,
   "metadata": {
    "collapsed": true
   },
   "outputs": [],
   "source": [
    "# search = driver.find_element_by_xpath('//*[@id=\"content\"]/table[3]/tbody/tr[3]/td[2]/input')"
   ]
  },
  {
   "cell_type": "markdown",
   "metadata": {},
   "source": [
    "### Use Selenium to search using the mine ID `3901432`. Get me the operator's name by scraping.\n",
    "\n",
    "- *TIP: You can find elements/text using Selenium, or use BeautifulSoup with `doc = BeautifulSoup(driver.page_source)`*"
   ]
  },
  {
   "cell_type": "code",
   "execution_count": 34,
   "metadata": {},
   "outputs": [
    {
     "data": {
      "text/plain": [
       "'Krueger Brothers Gravel & Dirt'"
      ]
     },
     "execution_count": 34,
     "metadata": {},
     "output_type": "execute_result"
    }
   ],
   "source": [
    "# Putting all together\n",
    "\n",
    "from selenium import webdriver\n",
    "from selenium.webdriver.common.keys import Keys\n",
    "\n",
    "# Driver is the thing that controls the browser. Opens a separate Chrome browser\n",
    "driver = webdriver.Chrome()\n",
    "# Tell Selenium to go to a url\n",
    "driver.get('https://arlweb.msha.gov/drs/drshome.htm')\n",
    "\n",
    "# Driver is the thing that controls the browser. Opens a separate Chrome browser\n",
    "driver = webdriver.Chrome()\n",
    "# Tell Selenium to go to a url\n",
    "driver.get('https://arlweb.msha.gov/drs/drshome.htm')\n",
    "# use by_name to get the Mine ID box\n",
    "# Use send.keys to insert ID\n",
    "mine_field = driver.find_element_by_name('MineId')\n",
    "mine_field.send_keys('3901432')\n",
    "\n",
    "search_field = driver.find_element_by_xpath('//*[@id=\"content\"]/table[3]/tbody/tr[3]/td[2]/input')\n",
    "search_field.click()\n",
    "\n",
    "# from bs4 import BeautifulSoup\n",
    "# doc = BeautifulSoup(driver.page_source, \"html.parser\")\n",
    "# operator_names = doc.find_all('tr')[3].find_all('td')[1].find('b').text\n",
    "# operator_names   \n",
    "\n",
    "# Using Selenium\n",
    "operator_names = driver.find_element_by_xpath('//*[@id=\"content\"]/form[1]/table[1]/tbody/tr[3]/td[2]/font/b')\n",
    "operator_names.text # all we want from this is a text. Do NOT use .click()"
   ]
  },
  {
   "cell_type": "markdown",
   "metadata": {},
   "source": [
    "# Using .apply to find data about SEVERAL mines\n",
    "\n",
    "The file `mines-subset.csv` has a list of mine IDs. We're going to scrape the operator's name for each of those mines.\n",
    "\n",
    "### Open up `mines-subset.csv` and save it into a dataframe"
   ]
  },
  {
   "cell_type": "code",
   "execution_count": 9,
   "metadata": {},
   "outputs": [
    {
     "data": {
      "text/html": [
       "<div>\n",
       "<style>\n",
       "    .dataframe thead tr:only-child th {\n",
       "        text-align: right;\n",
       "    }\n",
       "\n",
       "    .dataframe thead th {\n",
       "        text-align: left;\n",
       "    }\n",
       "\n",
       "    .dataframe tbody tr th {\n",
       "        vertical-align: top;\n",
       "    }\n",
       "</style>\n",
       "<table border=\"1\" class=\"dataframe\">\n",
       "  <thead>\n",
       "    <tr style=\"text-align: right;\">\n",
       "      <th></th>\n",
       "      <th>id</th>\n",
       "    </tr>\n",
       "  </thead>\n",
       "  <tbody>\n",
       "    <tr>\n",
       "      <th>0</th>\n",
       "      <td>4104757</td>\n",
       "    </tr>\n",
       "    <tr>\n",
       "      <th>1</th>\n",
       "      <td>801306</td>\n",
       "    </tr>\n",
       "    <tr>\n",
       "      <th>2</th>\n",
       "      <td>3609931</td>\n",
       "    </tr>\n",
       "  </tbody>\n",
       "</table>\n",
       "</div>"
      ],
      "text/plain": [
       "        id\n",
       "0  4104757\n",
       "1   801306\n",
       "2  3609931"
      ]
     },
     "execution_count": 9,
     "metadata": {},
     "output_type": "execute_result"
    }
   ],
   "source": [
    "import pandas as pd\n",
    "df = pd.read_csv('mines-subset.csv')\n",
    "df"
   ]
  },
  {
   "cell_type": "markdown",
   "metadata": {},
   "source": [
    "### Open up `mines-subset.csv` in a text editor, then look at your dataframe. Is something different about them?"
   ]
  },
  {
   "cell_type": "code",
   "execution_count": 35,
   "metadata": {},
   "outputs": [
    {
     "name": "stdout",
     "output_type": "stream",
     "text": [
      "id\r\n",
      "4104757\r\n",
      "0801306\r\n",
      "3609931"
     ]
    }
   ],
   "source": [
    "# Original second number has 0 in it.\n",
    "# Use dtype={'id': 'str'} to bring it back -- treats as integers\n",
    "# !cat - terminal\n",
    "\n",
    "!cat mines-subset.csv"
   ]
  },
  {
   "cell_type": "code",
   "execution_count": 36,
   "metadata": {},
   "outputs": [
    {
     "data": {
      "text/html": [
       "<div>\n",
       "<style>\n",
       "    .dataframe thead tr:only-child th {\n",
       "        text-align: right;\n",
       "    }\n",
       "\n",
       "    .dataframe thead th {\n",
       "        text-align: left;\n",
       "    }\n",
       "\n",
       "    .dataframe tbody tr th {\n",
       "        vertical-align: top;\n",
       "    }\n",
       "</style>\n",
       "<table border=\"1\" class=\"dataframe\">\n",
       "  <thead>\n",
       "    <tr style=\"text-align: right;\">\n",
       "      <th></th>\n",
       "      <th>id</th>\n",
       "    </tr>\n",
       "  </thead>\n",
       "  <tbody>\n",
       "    <tr>\n",
       "      <th>0</th>\n",
       "      <td>4104757</td>\n",
       "    </tr>\n",
       "    <tr>\n",
       "      <th>1</th>\n",
       "      <td>0801306</td>\n",
       "    </tr>\n",
       "    <tr>\n",
       "      <th>2</th>\n",
       "      <td>3609931</td>\n",
       "    </tr>\n",
       "  </tbody>\n",
       "</table>\n",
       "</div>"
      ],
      "text/plain": [
       "        id\n",
       "0  4104757\n",
       "1  0801306\n",
       "2  3609931"
      ]
     },
     "execution_count": 36,
     "metadata": {},
     "output_type": "execute_result"
    }
   ],
   "source": [
    "df = pd.read_csv('mines-subset.csv', dtype={'id': 'str'})\n",
    "df"
   ]
  },
  {
   "cell_type": "markdown",
   "metadata": {},
   "source": [
    "### Scrape the operator's name for each of those mines and print it\n",
    "\n",
    "- *TIP: use .apply and a function*\n",
    "- *TIP: If you need help with .apply, look at the \"Using apply in pandas\" notebook *"
   ]
  },
  {
   "cell_type": "code",
   "execution_count": 12,
   "metadata": {
    "scrolled": true
   },
   "outputs": [
    {
     "data": {
      "text/plain": [
       "0                  Dirt Works\n",
       "1    Holley Dirt Company, Inc\n",
       "2              M.R. Dirt Inc.\n",
       "Name: name, dtype: object"
      ]
     },
     "execution_count": 12,
     "metadata": {},
     "output_type": "execute_result"
    }
   ],
   "source": [
    "# You have ID numbers\n",
    "# Open up the page\n",
    "# Type ID in\n",
    "# Click search\n",
    "# Scrape info off of page\n",
    "\n",
    "\n",
    "driver = webdriver.Chrome() \n",
    "import time \n",
    "def scrape_mine_info(row):\n",
    "    # a dict called row and a key called id - on order to get id number, you will use row['id] \n",
    "    # puts some delay when loading next search\n",
    "    time.sleep(1)\n",
    "    # first visit the site\n",
    "    driver.get('https://arlweb.msha.gov/drs/drshome.htm')\n",
    "    # put ids one by one using row['id]\n",
    "    mine_id_field = driver.find_element_by_name('MineId') \n",
    "    mine_id_field.send_keys(row['id']) \n",
    "    # hit the search button\n",
    "    search_field = driver.find_element_by_xpath('//*[@id=\"content\"]/table[3]/tbody/tr[3]/td[2]/input')\n",
    "    search_field.click() \n",
    "    # all we want from this is a text. Do NOT use .click(), but use .text to get name\n",
    "    # When scraping pages that just has single things on it, it's easy to use xpath\n",
    "    operator_names_field = driver.find_element_by_xpath('//*[@id=\"content\"]/form[1]/table[1]/tbody/tr[3]/td[2]/font/b')\n",
    "    \n",
    "    # When sending data from .apply() use return to send data back from the apply()\n",
    "    return operator_names_field.text\n",
    "\n",
    "# opens one new Chrome just before we go thro all the row. Then scrapes all thr rows on one browser.\n",
    "# driver = webdriver.Chrome() \n",
    "\n",
    "# df.apply() takes the dataframe and runs a function (scrape_mine_info) for every single row\n",
    "# axis=1 is a like a loop for pandas - means do it for every single row in df ids.\n",
    "# axis=0 does each column at a time\n",
    "# df.apply(scrape_mine_info, axis=1)\n",
    "\n",
    "# Take the result (names) of df.apply(scrape_mine_info, axis=1) \n",
    "# Send it back and save it into a column: df['name']\n",
    "\n",
    "\n",
    "df['name'] = df.apply(scrape_mine_info, axis=1)\n",
    "df['name']\n",
    "\n",
    "# Closes browser after it finishes scraping.\n",
    "# driver.close()"
   ]
  },
  {
   "cell_type": "markdown",
   "metadata": {},
   "source": [
    "### Scrape the operator's name and save it into a new column\n",
    "\n",
    "- *TIP: Use .apply and a function*\n",
    "- *TIP: Remember to use `return`*"
   ]
  },
  {
   "cell_type": "code",
   "execution_count": 13,
   "metadata": {},
   "outputs": [
    {
     "data": {
      "text/html": [
       "<div>\n",
       "<style>\n",
       "    .dataframe thead tr:only-child th {\n",
       "        text-align: right;\n",
       "    }\n",
       "\n",
       "    .dataframe thead th {\n",
       "        text-align: left;\n",
       "    }\n",
       "\n",
       "    .dataframe tbody tr th {\n",
       "        vertical-align: top;\n",
       "    }\n",
       "</style>\n",
       "<table border=\"1\" class=\"dataframe\">\n",
       "  <thead>\n",
       "    <tr style=\"text-align: right;\">\n",
       "      <th></th>\n",
       "      <th>id</th>\n",
       "      <th>name</th>\n",
       "    </tr>\n",
       "  </thead>\n",
       "  <tbody>\n",
       "    <tr>\n",
       "      <th>0</th>\n",
       "      <td>4104757</td>\n",
       "      <td>Dirt Works</td>\n",
       "    </tr>\n",
       "    <tr>\n",
       "      <th>1</th>\n",
       "      <td>0801306</td>\n",
       "      <td>Holley Dirt Company, Inc</td>\n",
       "    </tr>\n",
       "    <tr>\n",
       "      <th>2</th>\n",
       "      <td>3609931</td>\n",
       "      <td>M.R. Dirt Inc.</td>\n",
       "    </tr>\n",
       "  </tbody>\n",
       "</table>\n",
       "</div>"
      ],
      "text/plain": [
       "        id                      name\n",
       "0  4104757                Dirt Works\n",
       "1  0801306  Holley Dirt Company, Inc\n",
       "2  3609931            M.R. Dirt Inc."
      ]
     },
     "execution_count": 13,
     "metadata": {},
     "output_type": "execute_result"
    }
   ],
   "source": [
    "# Look at the datafram to see if worked\n",
    "# Save it into a new column: df['name']\n",
    "df.head()"
   ]
  },
  {
   "cell_type": "markdown",
   "metadata": {},
   "source": [
    "# Researching mine violations\n",
    "\n",
    "Read the very top again to remember how to find mine violations"
   ]
  },
  {
   "cell_type": "markdown",
   "metadata": {},
   "source": [
    "### When you search for a mine's violations, what URL is Selenium going to start on?\n",
    "\n",
    "- *TIP: `requests` can send form data to load in the middle of a bunch of steps, but Selenium has to start at the beginning"
   ]
  },
  {
   "cell_type": "code",
   "execution_count": 14,
   "metadata": {
    "collapsed": true
   },
   "outputs": [],
   "source": [
    "# https://arlweb.msha.gov/drs/drshome.htm\n",
    "\n",
    "# The Trump White House has not announced iftar plans. And Ramadan is almost over. "
   ]
  },
  {
   "cell_type": "markdown",
   "metadata": {},
   "source": [
    "### When you're searching for violations from the Mine Information page, how are you going to identify the \"Beginning Date\" field?"
   ]
  },
  {
   "cell_type": "code",
   "execution_count": 15,
   "metadata": {
    "collapsed": true
   },
   "outputs": [],
   "source": [
    "# date = '//*[@id=\"content\"]/form[1]/table[2]/tbody/tr[2]/td/font/input[1]'"
   ]
  },
  {
   "cell_type": "markdown",
   "metadata": {},
   "source": [
    "### When you're searching for violations from the Mine Information page, how are you going to identify the \"Violations\" button?"
   ]
  },
  {
   "cell_type": "code",
   "execution_count": 16,
   "metadata": {
    "collapsed": true
   },
   "outputs": [],
   "source": [
    "# violations = driver.find_element_by_xpath('//*[@id=\"content\"]/form[1]/table[3]/tbody/tr[2]/td[2]/table/tbody/tr[1]/td/input')"
   ]
  },
  {
   "cell_type": "markdown",
   "metadata": {
    "collapsed": true
   },
   "source": [
    "### When you're searching for violations from the Mine Information page, how are you going to identify the form or the button to click to get a list of the violations?"
   ]
  },
  {
   "cell_type": "code",
   "execution_count": 17,
   "metadata": {
    "collapsed": true
   },
   "outputs": [],
   "source": [
    "# get_report = //*[@id=\"content\"]/form[1]/table[3]/tbody/tr[3]/td[2]/input"
   ]
  },
  {
   "cell_type": "markdown",
   "metadata": {},
   "source": [
    "### Using the mine ID `3901432`, scrape all of their violations since 1/1/1995\n",
    "\n",
    "**Save this into a CSV called `3901432-violations.csv`.** This CSV must include the following fields:\n",
    "\n",
    "- Citation number\n",
    "- Case number\n",
    "- Standard violated\n",
    "- Link to standard\n",
    "- Proposed penalty\n",
    "- Amount paid to date\n",
    "\n",
    "**Tips:**\n",
    "\n",
    "- *TIP: It's probably worth it to print them all first, then save them to a CSV once you know it's all working.*\n",
    "- *TIP: You'll use the parent pattern - get the ROWS first (tr), then loop through and get the TABLE CELLS (td)*"
   ]
  },
  {
   "cell_type": "code",
   "execution_count": 37,
   "metadata": {},
   "outputs": [
    {
     "name": "stdout",
     "output_type": "stream",
     "text": [
      "Citation number 8750964                        \n",
      "Case number 000361866           \n",
      "Standard violated \n",
      "56.18010            \n",
      "Link to standard http://www.gpo.gov/fdsys/pkg/CFR-2014-title30-vol1/pdf/CFR-2014-title30-vol1-sec56-18010.pdf\n",
      "Proposed penalty 100.00\n",
      "Amount paid to date 100.00 \n",
      "Citation number 6426438                        \n",
      "Case number 000260865           \n",
      "Standard violated \n",
      "56.4101             \n",
      "Link to standard http://www.gpo.gov/fdsys/pkg/CFR-2011-title30-vol1/pdf/CFR-2011-title30-vol1-sec56-4101.pdf\n",
      "Proposed penalty 100.00\n",
      "Amount paid to date 100.00 \n",
      "Citation number 6426439                        \n",
      "Case number 000260865           \n",
      "Standard violated \n",
      "56.4201(a)(2)       \n",
      "Link to standard http://www.gpo.gov/fdsys/pkg/CFR-2011-title30-vol1/pdf/CFR-2011-title30-vol1-sec56-4201.pdf\n",
      "Proposed penalty 100.00\n",
      "Amount paid to date 100.00 \n",
      "Citation number 6588189                        \n",
      "Case number 000260865           \n",
      "Standard violated \n",
      "56.14200            \n",
      "Link to standard http://www.gpo.gov/fdsys/pkg/CFR-2011-title30-vol1/pdf/CFR-2011-title30-vol1-sec56-14200.pdf\n",
      "Proposed penalty 100.00\n",
      "Amount paid to date 100.00 \n",
      "Citation number 6588210                        \n",
      "Case number 000238554           \n",
      "Standard violated \n",
      "50.30(a)            \n",
      "Link to standard http://www.gpo.gov/fdsys/pkg/CFR-2010-title30-vol1/pdf/CFR-2010-title30-vol1-sec50-30.pdf\n",
      "Proposed penalty 100.00\n",
      "Amount paid to date 100.00 \n",
      "Citation number 6328074                        \n",
      "Case number 000188398           \n",
      "Standard violated \n",
      "56.11003            \n",
      "Link to standard http://www.gpo.gov/fdsys/pkg/CFR-2009-title30-vol1/pdf/CFR-2009-title30-vol1-sec56-11003.pdf\n",
      "Proposed penalty 100.00\n",
      "Amount paid to date 100.00 \n",
      "Citation number 7916116                        \n",
      "Case number 390143205501        \n",
      "Standard violated \n",
      "50.30               \n",
      "Link to standard http://www.gpo.gov/fdsys/pkg/CFR-1998-title30-vol1/pdf/CFR-1998-title30-vol1-sec50-30.pdf\n",
      "Proposed penalty 55.00\n",
      "Amount paid to date 55.00 \n",
      "Citation number 7916122                        \n",
      "Case number 390143205501        \n",
      "Standard violated \n",
      "56.20008            \n",
      "Link to standard http://www.gpo.gov/fdsys/pkg/CFR-1998-title30-vol1/pdf/CFR-1998-title30-vol1-sec56-20008.pdf\n",
      "Proposed penalty 55.00\n",
      "Amount paid to date 55.00 \n",
      "Citation number 7916119                        \n",
      "Case number 390143205502        \n",
      "Standard violated \n",
      "56.18010            \n",
      "Link to standard http://www.gpo.gov/fdsys/pkg/CFR-1998-title30-vol1/pdf/CFR-1998-title30-vol1-sec56-18010.pdf\n",
      "Proposed penalty 55.00\n",
      "Amount paid to date 55.00 \n",
      "Citation number 7916117                        \n",
      "Case number 390143205501        \n",
      "Standard violated \n",
      "56.1000             \n",
      "Link to standard http://www.gpo.gov/fdsys/pkg/CFR-1998-title30-vol1/pdf/CFR-1998-title30-vol1-sec56-1000.pdf\n",
      "Proposed penalty 55.00\n",
      "Amount paid to date 55.00 \n",
      "Citation number 7916115                        \n",
      "Case number 390143205501        \n",
      "Standard violated \n",
      "41.20               \n",
      "Link to standard http://www.gpo.gov/fdsys/pkg/CFR-1998-title30-vol1/pdf/CFR-1998-title30-vol1-sec41-20.pdf\n",
      "Proposed penalty 55.00\n",
      "Amount paid to date 55.00 \n",
      "Citation number 7916124                        \n",
      "Case number 390143205501        \n",
      "Standard violated \n",
      "56.14132(a)         \n",
      "Link to standard http://www.gpo.gov/fdsys/pkg/CFR-1998-title30-vol1/pdf/CFR-1998-title30-vol1-sec56-14132.pdf\n",
      "Proposed penalty 55.00\n",
      "Amount paid to date 55.00 \n",
      "Citation number 7916118                        \n",
      "Case number 390143205501        \n",
      "Standard violated \n",
      "56.12028            \n",
      "Link to standard http://www.gpo.gov/fdsys/pkg/CFR-1998-title30-vol1/pdf/CFR-1998-title30-vol1-sec56-12028.pdf\n",
      "Proposed penalty 55.00\n",
      "Amount paid to date 55.00 \n",
      "Citation number 7916120                        \n",
      "Case number 390143205501        \n",
      "Standard violated \n",
      "56.15001            \n",
      "Link to standard http://www.gpo.gov/fdsys/pkg/CFR-1998-title30-vol1/pdf/CFR-1998-title30-vol1-sec56-15001.pdf\n",
      "Proposed penalty 55.00\n",
      "Amount paid to date 55.00 \n",
      "Citation number 7916126                        \n",
      "Case number 390143205501        \n",
      "Standard violated \n",
      "56.14100(d)         \n",
      "Link to standard http://www.gpo.gov/fdsys/pkg/CFR-1998-title30-vol1/pdf/CFR-1998-title30-vol1-sec56-14100.pdf\n",
      "Proposed penalty 55.00\n",
      "Amount paid to date 55.00 \n",
      "Citation number 7916123                        \n",
      "Case number 390143205501        \n",
      "Standard violated \n",
      "56.14132(a)         \n",
      "Link to standard http://www.gpo.gov/fdsys/pkg/CFR-1998-title30-vol1/pdf/CFR-1998-title30-vol1-sec56-14132.pdf\n",
      "Proposed penalty 55.00\n",
      "Amount paid to date 55.00 \n",
      "Citation number 7916125                        \n",
      "Case number 390143205501        \n",
      "Standard violated \n",
      "56.4200             \n",
      "Link to standard http://www.gpo.gov/fdsys/pkg/CFR-1998-title30-vol1/pdf/CFR-1998-title30-vol1-sec56-4200.pdf\n",
      "Proposed penalty 55.00\n",
      "Amount paid to date 55.00 \n",
      "Citation number 7916121                        \n",
      "Case number 390143205501        \n",
      "Standard violated \n",
      "56.18002            \n",
      "Link to standard http://www.gpo.gov/fdsys/pkg/CFR-1998-title30-vol1/pdf/CFR-1998-title30-vol1-sec56-18002.pdf\n",
      "Proposed penalty 55.00\n",
      "Amount paid to date 55.00 \n"
     ]
    }
   ],
   "source": [
    "driver = webdriver.Chrome() \n",
    "# gets to the mine info page\n",
    "driver.get('https://arlweb.msha.gov/drs/drshome.htm')\n",
    "# put ids one by one using row['id]\n",
    "mine_id_field = driver.find_element_by_name('MineId') \n",
    "# mine ID we are interested in: 3901432\n",
    "mine_id_field.send_keys('3901432') \n",
    "# hit the search button\n",
    "search_field = driver.find_element_by_xpath('//*[@id=\"content\"]/table[3]/tbody/tr[3]/td[2]/input')\n",
    "search_field.click() \n",
    "\n",
    "# Entering date data into the form\n",
    "# use find_element_by_xpath because we only want one of them.\n",
    "date_field = driver.find_element_by_xpath('//*[@id=\"content\"]/form[1]/table[2]/tbody/tr[2]/td/font/input[1]')\n",
    "# use send.keys() to put in the date\n",
    "date_field.send_keys('1/1/1995')\n",
    "\n",
    "\n",
    "violations_field = driver.find_element_by_xpath('//*[@id=\"content\"]/form[1]/table[3]/tbody/tr[2]/td[2]/table/tbody/tr[1]/td/input')\n",
    "violations_field.click()\n",
    "\n",
    "reports_field = driver.find_element_by_xpath('//*[@id=\"content\"]/form[1]/table[3]/tbody/tr[3]/td[2]/input')\n",
    "reports_field.click()\n",
    "\n",
    "from bs4 import BeautifulSoup\n",
    "# Do not use request because Selenium has already loaded the page.\n",
    "# Request is a library that allows us to download info from the internet\n",
    "# response = requests.get('')\n",
    "# doc = BeautifulSoup(response.text, 'html.parser')\n",
    "\n",
    "# Use drive.page_source to give the source code of the page we are currently on to BeautifulSoup\n",
    "# Process it with html.parser\n",
    "\n",
    "doc = BeautifulSoup(driver.page_source, 'html.parser')\n",
    "\n",
    "# take a look at our current page and get info inside from table rows 'trs' on it\n",
    "# this gives you the data on first table row\n",
    "\n",
    "violations_data = doc.find_all('tr', class_='drsviols') \n",
    "\n",
    "\n",
    "# len(violations_data) gives us 18 rows\n",
    "# Grab each of the table cells and - if we want the citation #, that's the 3rd one, etc\n",
    "# DO NOT USE XPATH TO SELECT MORE THAN ONE ELEMENT. USE IT IF IT'S UNIQUE FOR THE PAGE\n",
    "# We are trying to get every rows with the class drsviols\n",
    "# Give me this row and loop thro each of them. We don't need a DataFrame\n",
    "# What we need from the table about the violations:\n",
    "\n",
    "    # Citation number\n",
    "    # Case number\n",
    "    # Standard violated\n",
    "    # Link to standard\n",
    "    # Proposed penalty\n",
    "    # Amount paid to date\n",
    "    \n",
    "# Loop thro each row. \n",
    "# This is not a DataFrame, so do not use .apply()\n",
    "# violations_data is basically a LITS.\n",
    "\n",
    "for item in violations_data:\n",
    "    # td is each cell\n",
    "    cells = item.find_all('td')\n",
    "    print('Citation number', cells[2].text)\n",
    "    print('Case number', cells[3].text)\n",
    "    # Standard violated element has a JS in it. Just get the \"a\" tag (text) inside the cell.\n",
    "    print('Standard violated', cells[10].find('a').text)\n",
    "    # In order to get an attribute like [href] from an element, treat it like a dict\n",
    "    print('Link to standard', cells[10].find('a')['href'])\n",
    "    print('Proposed penalty', cells[11].text)\n",
    "    print('Amount paid to date', cells[14].text)\n"
   ]
  },
  {
   "cell_type": "code",
   "execution_count": 24,
   "metadata": {
    "scrolled": false
   },
   "outputs": [
    {
     "data": {
      "text/plain": [
       "[{'Amount paid to date': '100.00',\n",
       "  'Case number': '000361866',\n",
       "  'Citation number': '8750964',\n",
       "  'Link to standard': 'http://www.gpo.gov/fdsys/pkg/CFR-2014-title30-vol1/pdf/CFR-2014-title30-vol1-sec56-18010.pdf',\n",
       "  'Proposed penalty': '100.00',\n",
       "  'Standard violated': '56.18010'},\n",
       " {'Amount paid to date': '100.00',\n",
       "  'Case number': '000260865',\n",
       "  'Citation number': '6426438',\n",
       "  'Link to standard': 'http://www.gpo.gov/fdsys/pkg/CFR-2011-title30-vol1/pdf/CFR-2011-title30-vol1-sec56-4101.pdf',\n",
       "  'Proposed penalty': '100.00',\n",
       "  'Standard violated': '56.4101'},\n",
       " {'Amount paid to date': '100.00',\n",
       "  'Case number': '000260865',\n",
       "  'Citation number': '6426439',\n",
       "  'Link to standard': 'http://www.gpo.gov/fdsys/pkg/CFR-2011-title30-vol1/pdf/CFR-2011-title30-vol1-sec56-4201.pdf',\n",
       "  'Proposed penalty': '100.00',\n",
       "  'Standard violated': '56.4201(a)(2)'},\n",
       " {'Amount paid to date': '100.00',\n",
       "  'Case number': '000260865',\n",
       "  'Citation number': '6588189',\n",
       "  'Link to standard': 'http://www.gpo.gov/fdsys/pkg/CFR-2011-title30-vol1/pdf/CFR-2011-title30-vol1-sec56-14200.pdf',\n",
       "  'Proposed penalty': '100.00',\n",
       "  'Standard violated': '56.14200'},\n",
       " {'Amount paid to date': '100.00',\n",
       "  'Case number': '000238554',\n",
       "  'Citation number': '6588210',\n",
       "  'Link to standard': 'http://www.gpo.gov/fdsys/pkg/CFR-2010-title30-vol1/pdf/CFR-2010-title30-vol1-sec50-30.pdf',\n",
       "  'Proposed penalty': '100.00',\n",
       "  'Standard violated': '50.30(a)'},\n",
       " {'Amount paid to date': '100.00',\n",
       "  'Case number': '000188398',\n",
       "  'Citation number': '6328074',\n",
       "  'Link to standard': 'http://www.gpo.gov/fdsys/pkg/CFR-2009-title30-vol1/pdf/CFR-2009-title30-vol1-sec56-11003.pdf',\n",
       "  'Proposed penalty': '100.00',\n",
       "  'Standard violated': '56.11003'},\n",
       " {'Amount paid to date': '55.00',\n",
       "  'Case number': '390143205501',\n",
       "  'Citation number': '7916120',\n",
       "  'Link to standard': 'http://www.gpo.gov/fdsys/pkg/CFR-1998-title30-vol1/pdf/CFR-1998-title30-vol1-sec56-15001.pdf',\n",
       "  'Proposed penalty': '55.00',\n",
       "  'Standard violated': '56.15001'},\n",
       " {'Amount paid to date': '55.00',\n",
       "  'Case number': '390143205501',\n",
       "  'Citation number': '7916126',\n",
       "  'Link to standard': 'http://www.gpo.gov/fdsys/pkg/CFR-1998-title30-vol1/pdf/CFR-1998-title30-vol1-sec56-14100.pdf',\n",
       "  'Proposed penalty': '55.00',\n",
       "  'Standard violated': '56.14100(d)'},\n",
       " {'Amount paid to date': '55.00',\n",
       "  'Case number': '390143205501',\n",
       "  'Citation number': '7916123',\n",
       "  'Link to standard': 'http://www.gpo.gov/fdsys/pkg/CFR-1998-title30-vol1/pdf/CFR-1998-title30-vol1-sec56-14132.pdf',\n",
       "  'Proposed penalty': '55.00',\n",
       "  'Standard violated': '56.14132(a)'},\n",
       " {'Amount paid to date': '55.00',\n",
       "  'Case number': '390143205501',\n",
       "  'Citation number': '7916121',\n",
       "  'Link to standard': 'http://www.gpo.gov/fdsys/pkg/CFR-1998-title30-vol1/pdf/CFR-1998-title30-vol1-sec56-18002.pdf',\n",
       "  'Proposed penalty': '55.00',\n",
       "  'Standard violated': '56.18002'},\n",
       " {'Amount paid to date': '55.00',\n",
       "  'Case number': '390143205501',\n",
       "  'Citation number': '7916116',\n",
       "  'Link to standard': 'http://www.gpo.gov/fdsys/pkg/CFR-1998-title30-vol1/pdf/CFR-1998-title30-vol1-sec50-30.pdf',\n",
       "  'Proposed penalty': '55.00',\n",
       "  'Standard violated': '50.30'},\n",
       " {'Amount paid to date': '55.00',\n",
       "  'Case number': '390143205501',\n",
       "  'Citation number': '7916115',\n",
       "  'Link to standard': 'http://www.gpo.gov/fdsys/pkg/CFR-1998-title30-vol1/pdf/CFR-1998-title30-vol1-sec41-20.pdf',\n",
       "  'Proposed penalty': '55.00',\n",
       "  'Standard violated': '41.20'},\n",
       " {'Amount paid to date': '55.00',\n",
       "  'Case number': '390143205501',\n",
       "  'Citation number': '7916124',\n",
       "  'Link to standard': 'http://www.gpo.gov/fdsys/pkg/CFR-1998-title30-vol1/pdf/CFR-1998-title30-vol1-sec56-14132.pdf',\n",
       "  'Proposed penalty': '55.00',\n",
       "  'Standard violated': '56.14132(a)'},\n",
       " {'Amount paid to date': '55.00',\n",
       "  'Case number': '390143205502',\n",
       "  'Citation number': '7916119',\n",
       "  'Link to standard': 'http://www.gpo.gov/fdsys/pkg/CFR-1998-title30-vol1/pdf/CFR-1998-title30-vol1-sec56-18010.pdf',\n",
       "  'Proposed penalty': '55.00',\n",
       "  'Standard violated': '56.18010'},\n",
       " {'Amount paid to date': '55.00',\n",
       "  'Case number': '390143205501',\n",
       "  'Citation number': '7916117',\n",
       "  'Link to standard': 'http://www.gpo.gov/fdsys/pkg/CFR-1998-title30-vol1/pdf/CFR-1998-title30-vol1-sec56-1000.pdf',\n",
       "  'Proposed penalty': '55.00',\n",
       "  'Standard violated': '56.1000'},\n",
       " {'Amount paid to date': '55.00',\n",
       "  'Case number': '390143205501',\n",
       "  'Citation number': '7916122',\n",
       "  'Link to standard': 'http://www.gpo.gov/fdsys/pkg/CFR-1998-title30-vol1/pdf/CFR-1998-title30-vol1-sec56-20008.pdf',\n",
       "  'Proposed penalty': '55.00',\n",
       "  'Standard violated': '56.20008'},\n",
       " {'Amount paid to date': '55.00',\n",
       "  'Case number': '390143205501',\n",
       "  'Citation number': '7916125',\n",
       "  'Link to standard': 'http://www.gpo.gov/fdsys/pkg/CFR-1998-title30-vol1/pdf/CFR-1998-title30-vol1-sec56-4200.pdf',\n",
       "  'Proposed penalty': '55.00',\n",
       "  'Standard violated': '56.4200'},\n",
       " {'Amount paid to date': '55.00',\n",
       "  'Case number': '390143205501',\n",
       "  'Citation number': '7916118',\n",
       "  'Link to standard': 'http://www.gpo.gov/fdsys/pkg/CFR-1998-title30-vol1/pdf/CFR-1998-title30-vol1-sec56-12028.pdf',\n",
       "  'Proposed penalty': '55.00',\n",
       "  'Standard violated': '56.12028'}]"
      ]
     },
     "execution_count": 24,
     "metadata": {},
     "output_type": "execute_result"
    }
   ],
   "source": [
    "# The above code only gives the firt rows of the table: cells[2], cells[3]....etc\n",
    "# What we want to do instead is to get the whole data on the table and save it into a CSV:\n",
    "\n",
    "# Follow these steps to do that:\n",
    "    # 1. First make an empty list []\n",
    "    # 2. Every time thro the loop, create a dict {} of your data\n",
    "    # 3. Add the dic to the list\n",
    "    # 4. When the entire loop is over, convert the list to a DataFrame\n",
    "    # 5. And save that to a DataFrame\n",
    "    \n",
    "# Before we go thro any violations row in the table, our violations is empty list\n",
    "\n",
    "violations = []\n",
    "for item in violations_data: # the whole row\n",
    "    # everty time we go thro the loop, we save new set violations to the dic (keys - violations[] and values)\n",
    "    # Use strip() after text to make data clean\n",
    "    violation = {}\n",
    "    cells = item.find_all('td') # td is each cell\n",
    "    violation['Citation number'] = cells[2].text.strip()\n",
    "    violation['Case number'] = cells[3].text.strip()\n",
    "    # Standard violated element has a JS in it. Just get the a tag (text) inside the cell.\n",
    "    violation['Standard violated'] = cells[10].find('a').text.strip()\n",
    "    # In order to get an attribute like [href] from an element, treat it like a dict\n",
    "    violation['Link to standard'] = cells[10].find('a')['href']\n",
    "    violation['Proposed penalty'] = cells[11].text.strip()\n",
    "    violation['Amount paid to date'] = cells[14].text.strip()\n",
    "    \n",
    "    # add them to the list of dictionaries\n",
    "    violations.append(violation)\n",
    "violations"
   ]
  },
  {
   "cell_type": "code",
   "execution_count": 25,
   "metadata": {},
   "outputs": [
    {
     "data": {
      "text/html": [
       "<div>\n",
       "<style>\n",
       "    .dataframe thead tr:only-child th {\n",
       "        text-align: right;\n",
       "    }\n",
       "\n",
       "    .dataframe thead th {\n",
       "        text-align: left;\n",
       "    }\n",
       "\n",
       "    .dataframe tbody tr th {\n",
       "        vertical-align: top;\n",
       "    }\n",
       "</style>\n",
       "<table border=\"1\" class=\"dataframe\">\n",
       "  <thead>\n",
       "    <tr style=\"text-align: right;\">\n",
       "      <th></th>\n",
       "      <th>Amount paid to date</th>\n",
       "      <th>Case number</th>\n",
       "      <th>Citation number</th>\n",
       "      <th>Link to standard</th>\n",
       "      <th>Proposed penalty</th>\n",
       "      <th>Standard violated</th>\n",
       "    </tr>\n",
       "  </thead>\n",
       "  <tbody>\n",
       "    <tr>\n",
       "      <th>0</th>\n",
       "      <td>100.00</td>\n",
       "      <td>000361866</td>\n",
       "      <td>8750964</td>\n",
       "      <td>http://www.gpo.gov/fdsys/pkg/CFR-2014-title30-...</td>\n",
       "      <td>100.00</td>\n",
       "      <td>56.18010</td>\n",
       "    </tr>\n",
       "    <tr>\n",
       "      <th>1</th>\n",
       "      <td>100.00</td>\n",
       "      <td>000260865</td>\n",
       "      <td>6426438</td>\n",
       "      <td>http://www.gpo.gov/fdsys/pkg/CFR-2011-title30-...</td>\n",
       "      <td>100.00</td>\n",
       "      <td>56.4101</td>\n",
       "    </tr>\n",
       "    <tr>\n",
       "      <th>2</th>\n",
       "      <td>100.00</td>\n",
       "      <td>000260865</td>\n",
       "      <td>6426439</td>\n",
       "      <td>http://www.gpo.gov/fdsys/pkg/CFR-2011-title30-...</td>\n",
       "      <td>100.00</td>\n",
       "      <td>56.4201(a)(2)</td>\n",
       "    </tr>\n",
       "    <tr>\n",
       "      <th>3</th>\n",
       "      <td>100.00</td>\n",
       "      <td>000260865</td>\n",
       "      <td>6588189</td>\n",
       "      <td>http://www.gpo.gov/fdsys/pkg/CFR-2011-title30-...</td>\n",
       "      <td>100.00</td>\n",
       "      <td>56.14200</td>\n",
       "    </tr>\n",
       "    <tr>\n",
       "      <th>4</th>\n",
       "      <td>100.00</td>\n",
       "      <td>000238554</td>\n",
       "      <td>6588210</td>\n",
       "      <td>http://www.gpo.gov/fdsys/pkg/CFR-2010-title30-...</td>\n",
       "      <td>100.00</td>\n",
       "      <td>50.30(a)</td>\n",
       "    </tr>\n",
       "  </tbody>\n",
       "</table>\n",
       "</div>"
      ],
      "text/plain": [
       "  Amount paid to date Case number Citation number  \\\n",
       "0              100.00   000361866         8750964   \n",
       "1              100.00   000260865         6426438   \n",
       "2              100.00   000260865         6426439   \n",
       "3              100.00   000260865         6588189   \n",
       "4              100.00   000238554         6588210   \n",
       "\n",
       "                                    Link to standard Proposed penalty  \\\n",
       "0  http://www.gpo.gov/fdsys/pkg/CFR-2014-title30-...           100.00   \n",
       "1  http://www.gpo.gov/fdsys/pkg/CFR-2011-title30-...           100.00   \n",
       "2  http://www.gpo.gov/fdsys/pkg/CFR-2011-title30-...           100.00   \n",
       "3  http://www.gpo.gov/fdsys/pkg/CFR-2011-title30-...           100.00   \n",
       "4  http://www.gpo.gov/fdsys/pkg/CFR-2010-title30-...           100.00   \n",
       "\n",
       "  Standard violated  \n",
       "0          56.18010  \n",
       "1           56.4101  \n",
       "2     56.4201(a)(2)  \n",
       "3          56.14200  \n",
       "4          50.30(a)  "
      ]
     },
     "execution_count": 25,
     "metadata": {},
     "output_type": "execute_result"
    }
   ],
   "source": [
    "# Save above data into a DataFrame\n",
    "import pandas as pd\n",
    "df = pd.DataFrame(violations)\n",
    "df.head()"
   ]
  },
  {
   "cell_type": "code",
   "execution_count": 26,
   "metadata": {
    "collapsed": true
   },
   "outputs": [],
   "source": [
    "# save it into a CSV\n",
    "df.to_csv('3901432-violations.csv', index=False)"
   ]
  },
  {
   "cell_type": "markdown",
   "metadata": {},
   "source": [
    "# Using .apply to save mine data for SEVERAL mines\n",
    "\n",
    "The file `mines-subset.csv` has a list of mine IDs. We're going to scrape the operator's name for each of those mines.\n",
    "\n",
    "### Open up `mines-subset.csv` and save it into a dataframe"
   ]
  },
  {
   "cell_type": "code",
   "execution_count": 27,
   "metadata": {},
   "outputs": [
    {
     "data": {
      "text/html": [
       "<div>\n",
       "<style>\n",
       "    .dataframe thead tr:only-child th {\n",
       "        text-align: right;\n",
       "    }\n",
       "\n",
       "    .dataframe thead th {\n",
       "        text-align: left;\n",
       "    }\n",
       "\n",
       "    .dataframe tbody tr th {\n",
       "        vertical-align: top;\n",
       "    }\n",
       "</style>\n",
       "<table border=\"1\" class=\"dataframe\">\n",
       "  <thead>\n",
       "    <tr style=\"text-align: right;\">\n",
       "      <th></th>\n",
       "      <th>id</th>\n",
       "    </tr>\n",
       "  </thead>\n",
       "  <tbody>\n",
       "    <tr>\n",
       "      <th>0</th>\n",
       "      <td>4104757</td>\n",
       "    </tr>\n",
       "    <tr>\n",
       "      <th>1</th>\n",
       "      <td>0801306</td>\n",
       "    </tr>\n",
       "    <tr>\n",
       "      <th>2</th>\n",
       "      <td>3609931</td>\n",
       "    </tr>\n",
       "  </tbody>\n",
       "</table>\n",
       "</div>"
      ],
      "text/plain": [
       "        id\n",
       "0  4104757\n",
       "1  0801306\n",
       "2  3609931"
      ]
     },
     "execution_count": 27,
     "metadata": {},
     "output_type": "execute_result"
    }
   ],
   "source": [
    "df = pd.read_csv('mines-subset.csv', dtype={'id' : 'str'})\n",
    "df"
   ]
  },
  {
   "cell_type": "markdown",
   "metadata": {},
   "source": [
    "### Scrape the violations for each mine\n",
    "\n",
    "**Save each mine's violations into separate CSV files.** Each CSV file must include the following fields:\n",
    "\n",
    "- Citation number\n",
    "- Case number\n",
    "- Standard violated\n",
    "- Link to standard\n",
    "- Proposed penalty\n",
    "- Amount paid to date\n",
    "\n",
    "Make sure you are saving them into **separate files.** It might be nice to name them after the mine id.\n",
    "\n",
    "- *TIP: Use .apply for this*\n",
    "- *TIP: Print out the ID before you start scraping. That way you can take that ID and search manually to see if there is anything weird about the results.*\n",
    "- *TIP: If you need help with .apply, look at the \"Using apply in pandas\" notebook \n",
    "- *TIP: It's probably worth it to print the fields first, then save them to a CSV once you know it's all working.*"
   ]
  },
  {
   "cell_type": "code",
   "execution_count": 32,
   "metadata": {},
   "outputs": [
    {
     "data": {
      "text/plain": [
       "0    None\n",
       "1    None\n",
       "2    None\n",
       "dtype: object"
      ]
     },
     "execution_count": 32,
     "metadata": {},
     "output_type": "execute_result"
    }
   ],
   "source": [
    "from selenium import webdriver\n",
    "from selenium.webdriver.common.keys import Keys\n",
    "driver = webdriver.Chrome() \n",
    "import time\n",
    "def scrape_violations(row):\n",
    "    # gets mine info page\n",
    "    driver.get('https://arlweb.msha.gov/drs/drshome.htm')\n",
    "    mine_id_field = driver.find_element_by_name('MineId') \n",
    "    # Insert IDs into the field one by one using row['id]\n",
    "    mine_id_field.send_keys(row['id']) # treat it like a dic\n",
    "    # hits search button\n",
    "    search_field = driver.find_element_by_xpath('//*[@id=\"content\"]/table[3]/tbody/tr[3]/td[2]/input')\n",
    "    search_field.click() \n",
    "    # Use find_element_by_xpath because we only want one of them.\n",
    "    date_field = driver.find_element_by_xpath('//*[@id=\"content\"]/form[1]/table[2]/tbody/tr[2]/td/font/input[1]')\n",
    "    # Use send.keys() to put date into field\n",
    "    date_field.send_keys('1/1/1995')  \n",
    "    # clicks violations button\n",
    "    violations_field = driver.find_element_by_xpath('//*[@id=\"content\"]/form[1]/table[3]/tbody/tr[2]/td[2]/table/tbody/tr[1]/td/input')\n",
    "    violations_field.click()\n",
    "    # gets the report\n",
    "    reports_field = driver.find_element_by_xpath('//*[@id=\"content\"]/form[1]/table[3]/tbody/tr[3]/td[2]/input')\n",
    "    reports_field.click()\n",
    "    \n",
    "    # After we get the report with all the data, use BeautifulSoup to find all the rows that are important to us\n",
    "    # drive.page_source loads current page so we don't need to use 'request'\n",
    "    doc = BeautifulSoup(driver.page_source, 'html.parser')\n",
    "    # take a look at our current page and the trs on it\n",
    "    violations_data = doc.find_all('tr', class_='drsviols') \n",
    "\n",
    "    # Now start searching for violations\n",
    "    violations = []\n",
    "    for item in violations_data: # the whole row\n",
    "        # everty time we go thro the loop, we save new set violations to the dic (keys - violations[] and values)\n",
    "        # Use strip() after text to make data clean\n",
    "        violation = {}\n",
    "        cells = item.find_all('td') # td is each cell\n",
    "        violation['Citation number'] = cells[2].text.strip()\n",
    "        violation['Case number'] = cells[3].text.strip()\n",
    "\n",
    "        # 'Standard violated' element has JS in it. Just get the 'a' tag (text) inside the cell.\n",
    "        # if some of cells don't have an 'a' tag\n",
    "        # if you can't find an 'a' tag, don't give me an error\n",
    "        a_tag = cells[10].find('a')\n",
    "        if a_tag:\n",
    "            violation['Standard violated'] = a_tag.text.strip()\n",
    "            # In order to get an attribute like [href] from an element, treat it like a dict\n",
    "            violation['Link to standard'] = a_tag['href']\n",
    "\n",
    "        # these two below rows have fewer cells than the rest. Use 'if' statement to get rid of error\n",
    "        # if the cells are more than 14, run the code\n",
    "        if len(cells) > 14:\n",
    "            violation['Proposed penalty'] = cells[11].text.strip()\n",
    "            violation['Amount paid to date'] = cells[14].text.strip()\n",
    "\n",
    "        # add it to list of dictionaries\n",
    "        violations.append(violation)\n",
    "\n",
    "    # Save new data into a new dataframe\n",
    "    violations_df = pd.DataFrame(violations)\n",
    "    # save that into a different filename for every single using row IDs\n",
    "    violations_df.to_csv(row['id'] + '-violations.csv', index=False)\n",
    "\n",
    "df.apply(scrape_violations, axis=1)"
   ]
  },
  {
   "cell_type": "code",
   "execution_count": 33,
   "metadata": {},
   "outputs": [
    {
     "data": {
      "text/html": [
       "<div>\n",
       "<style>\n",
       "    .dataframe thead tr:only-child th {\n",
       "        text-align: right;\n",
       "    }\n",
       "\n",
       "    .dataframe thead th {\n",
       "        text-align: left;\n",
       "    }\n",
       "\n",
       "    .dataframe tbody tr th {\n",
       "        vertical-align: top;\n",
       "    }\n",
       "</style>\n",
       "<table border=\"1\" class=\"dataframe\">\n",
       "  <thead>\n",
       "    <tr style=\"text-align: right;\">\n",
       "      <th></th>\n",
       "      <th>Amount paid to date</th>\n",
       "      <th>Case number</th>\n",
       "      <th>Citation number</th>\n",
       "      <th>Link to standard</th>\n",
       "      <th>Proposed penalty</th>\n",
       "      <th>Standard violated</th>\n",
       "    </tr>\n",
       "  </thead>\n",
       "  <tbody>\n",
       "    <tr>\n",
       "      <th>0</th>\n",
       "      <td>NaN</td>\n",
       "      <td></td>\n",
       "      <td>8912694</td>\n",
       "      <td>http://www.ecfr.gov/cgi-bin/text-idx?SID=f462b...</td>\n",
       "      <td>NaN</td>\n",
       "      <td>56.14132(a)</td>\n",
       "    </tr>\n",
       "    <tr>\n",
       "      <th>1</th>\n",
       "      <td>351.00</td>\n",
       "      <td>000427623</td>\n",
       "      <td>8638781</td>\n",
       "      <td>http://www.gpo.gov/fdsys/pkg/CFR-2016-title30-...</td>\n",
       "      <td>351.00</td>\n",
       "      <td>56.12028</td>\n",
       "    </tr>\n",
       "    <tr>\n",
       "      <th>2</th>\n",
       "      <td>117.00</td>\n",
       "      <td>000411633</td>\n",
       "      <td>8903435</td>\n",
       "      <td>http://www.gpo.gov/fdsys/pkg/CFR-2016-title30-...</td>\n",
       "      <td>117.00</td>\n",
       "      <td>56.9300(a)</td>\n",
       "    </tr>\n",
       "    <tr>\n",
       "      <th>3</th>\n",
       "      <td>117.00</td>\n",
       "      <td>000411633</td>\n",
       "      <td>8903434</td>\n",
       "      <td>http://www.gpo.gov/fdsys/pkg/CFR-2016-title30-...</td>\n",
       "      <td>117.00</td>\n",
       "      <td>46.11(d)</td>\n",
       "    </tr>\n",
       "    <tr>\n",
       "      <th>4</th>\n",
       "      <td>100.00</td>\n",
       "      <td>000411633</td>\n",
       "      <td>8903436</td>\n",
       "      <td>http://www.gpo.gov/fdsys/pkg/CFR-2016-title30-...</td>\n",
       "      <td>100.00</td>\n",
       "      <td>56.12004</td>\n",
       "    </tr>\n",
       "  </tbody>\n",
       "</table>\n",
       "</div>"
      ],
      "text/plain": [
       "  Amount paid to date Case number Citation number  \\\n",
       "0                 NaN                     8912694   \n",
       "1              351.00   000427623         8638781   \n",
       "2              117.00   000411633         8903435   \n",
       "3              117.00   000411633         8903434   \n",
       "4              100.00   000411633         8903436   \n",
       "\n",
       "                                    Link to standard Proposed penalty  \\\n",
       "0  http://www.ecfr.gov/cgi-bin/text-idx?SID=f462b...              NaN   \n",
       "1  http://www.gpo.gov/fdsys/pkg/CFR-2016-title30-...           351.00   \n",
       "2  http://www.gpo.gov/fdsys/pkg/CFR-2016-title30-...           117.00   \n",
       "3  http://www.gpo.gov/fdsys/pkg/CFR-2016-title30-...           117.00   \n",
       "4  http://www.gpo.gov/fdsys/pkg/CFR-2016-title30-...           100.00   \n",
       "\n",
       "  Standard violated  \n",
       "0       56.14132(a)  \n",
       "1          56.12028  \n",
       "2        56.9300(a)  \n",
       "3          46.11(d)  \n",
       "4          56.12004  "
      ]
     },
     "execution_count": 33,
     "metadata": {},
     "output_type": "execute_result"
    }
   ],
   "source": [
    "pd.DataFrame(violations).head()"
   ]
  },
  {
   "cell_type": "code",
   "execution_count": null,
   "metadata": {
    "collapsed": true
   },
   "outputs": [],
   "source": [
    "# if code doesn't run, you can sometimes us 'try' and 'except'\n",
    "# try:\n",
    "# This will show you where your code has failed\n",
    "# except:\n",
    "#     print('Failed on', row['id'])"
   ]
  }
 ],
 "metadata": {
  "kernelspec": {
   "display_name": "Python 3",
   "language": "python",
   "name": "python3"
  },
  "language_info": {
   "codemirror_mode": {
    "name": "ipython",
    "version": 3
   },
   "file_extension": ".py",
   "mimetype": "text/x-python",
   "name": "python",
   "nbconvert_exporter": "python",
   "pygments_lexer": "ipython3",
   "version": "3.6.1"
  }
 },
 "nbformat": 4,
 "nbformat_minor": 2
}
