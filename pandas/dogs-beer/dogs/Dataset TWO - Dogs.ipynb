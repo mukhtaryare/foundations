{
 "cells": [
  {
   "cell_type": "markdown",
   "metadata": {},
   "source": [
    "**A dataset about dogs.**\n",
    "\n",
    "Data from [a FOIL request to New York City](https://www.muckrock.com/foi/new-york-city-17/pet-licensing-data-for-new-york-city-23826/)"
   ]
  },
  {
   "cell_type": "markdown",
   "metadata": {},
   "source": [
    "**Do your importing and your setup**"
   ]
  },
  {
   "cell_type": "code",
   "execution_count": 1,
   "metadata": {
    "collapsed": true
   },
   "outputs": [],
   "source": [
    "import pandas as pd\n",
    "%matplotlib inline"
   ]
  },
  {
   "cell_type": "markdown",
   "metadata": {},
   "source": [
    "**Read in the file `NYC_Dog_Licenses_Current_as_of_4-28-2016.xlsx` and look at the first five rows**"
   ]
  },
  {
   "cell_type": "code",
   "execution_count": 212,
   "metadata": {
    "scrolled": true
   },
   "outputs": [
    {
     "data": {
      "text/html": [
       "<div>\n",
       "<style>\n",
       "    .dataframe thead tr:only-child th {\n",
       "        text-align: right;\n",
       "    }\n",
       "\n",
       "    .dataframe thead th {\n",
       "        text-align: left;\n",
       "    }\n",
       "\n",
       "    .dataframe tbody tr th {\n",
       "        vertical-align: top;\n",
       "    }\n",
       "</style>\n",
       "<table border=\"1\" class=\"dataframe\">\n",
       "  <thead>\n",
       "    <tr style=\"text-align: right;\">\n",
       "      <th></th>\n",
       "      <th>Owner Zip Code</th>\n",
       "      <th>Animal Name</th>\n",
       "      <th>Animal Gender</th>\n",
       "      <th>Primary Breed</th>\n",
       "      <th>Secondary Breed</th>\n",
       "      <th>Animal Dominant Color</th>\n",
       "      <th>Animal Secondary Color</th>\n",
       "      <th>Animal Third Color</th>\n",
       "      <th>Animal Birth</th>\n",
       "      <th>Spayed or Neut</th>\n",
       "      <th>Guard or Trained</th>\n",
       "      <th>Vaccinated</th>\n",
       "      <th>Application Date</th>\n",
       "      <th>License Issued Date</th>\n",
       "      <th>License Expired Date</th>\n",
       "    </tr>\n",
       "  </thead>\n",
       "  <tbody>\n",
       "    <tr>\n",
       "      <th>0</th>\n",
       "      <td>10024</td>\n",
       "      <td>BLUE MACK</td>\n",
       "      <td>M</td>\n",
       "      <td>NaN</td>\n",
       "      <td>AIREDALE TERR</td>\n",
       "      <td>BROWN</td>\n",
       "      <td>BLACK</td>\n",
       "      <td>NaN</td>\n",
       "      <td>2007-11-01</td>\n",
       "      <td>Yes</td>\n",
       "      <td>No</td>\n",
       "      <td>Yes</td>\n",
       "      <td>2012-09-19 16:01:19.647</td>\n",
       "      <td>2015-09-19</td>\n",
       "      <td>2016-09-19</td>\n",
       "    </tr>\n",
       "    <tr>\n",
       "      <th>1</th>\n",
       "      <td>10461</td>\n",
       "      <td>Indie Zephir</td>\n",
       "      <td>M</td>\n",
       "      <td>Rottweiler</td>\n",
       "      <td>NaN</td>\n",
       "      <td>BLACK</td>\n",
       "      <td>TAN</td>\n",
       "      <td>NaN</td>\n",
       "      <td>2013-04-01</td>\n",
       "      <td>No</td>\n",
       "      <td>No</td>\n",
       "      <td>Yes</td>\n",
       "      <td>2013-09-20 11:41:36.647</td>\n",
       "      <td>2014-09-20</td>\n",
       "      <td>2018-09-20</td>\n",
       "    </tr>\n",
       "    <tr>\n",
       "      <th>2</th>\n",
       "      <td>10013</td>\n",
       "      <td>Bilal</td>\n",
       "      <td>M</td>\n",
       "      <td>Australian Cattledog</td>\n",
       "      <td>NaN</td>\n",
       "      <td>Rust</td>\n",
       "      <td>NaN</td>\n",
       "      <td>NaN</td>\n",
       "      <td>2014-09-01</td>\n",
       "      <td>Yes</td>\n",
       "      <td>NaN</td>\n",
       "      <td>No</td>\n",
       "      <td>2014-09-12 13:13:36.713</td>\n",
       "      <td>2014-09-12</td>\n",
       "      <td>2019-09-12</td>\n",
       "    </tr>\n",
       "    <tr>\n",
       "      <th>3</th>\n",
       "      <td>10025</td>\n",
       "      <td>Buddy</td>\n",
       "      <td>M</td>\n",
       "      <td>NaN</td>\n",
       "      <td>Cockapoo</td>\n",
       "      <td>BLOND</td>\n",
       "      <td>WHITE</td>\n",
       "      <td>NaN</td>\n",
       "      <td>2008-04-01</td>\n",
       "      <td>Yes</td>\n",
       "      <td>No</td>\n",
       "      <td>Yes</td>\n",
       "      <td>2014-09-12 15:26:51.417</td>\n",
       "      <td>2014-09-12</td>\n",
       "      <td>2017-10-20</td>\n",
       "    </tr>\n",
       "    <tr>\n",
       "      <th>4</th>\n",
       "      <td>10013</td>\n",
       "      <td>Ali</td>\n",
       "      <td>M</td>\n",
       "      <td>Basenji</td>\n",
       "      <td>NaN</td>\n",
       "      <td>Black</td>\n",
       "      <td>NaN</td>\n",
       "      <td>NaN</td>\n",
       "      <td>2014-01-01</td>\n",
       "      <td>No</td>\n",
       "      <td>NaN</td>\n",
       "      <td>No</td>\n",
       "      <td>2014-09-12 15:43:17.707</td>\n",
       "      <td>2014-09-12</td>\n",
       "      <td>2019-09-12</td>\n",
       "    </tr>\n",
       "  </tbody>\n",
       "</table>\n",
       "</div>"
      ],
      "text/plain": [
       "   Owner Zip Code   Animal Name Animal Gender         Primary Breed  \\\n",
       "0           10024     BLUE MACK             M                   NaN   \n",
       "1           10461  Indie Zephir             M            Rottweiler   \n",
       "2           10013         Bilal             M  Australian Cattledog   \n",
       "3           10025         Buddy             M                   NaN   \n",
       "4           10013           Ali             M               Basenji   \n",
       "\n",
       "  Secondary Breed Animal Dominant Color Animal Secondary Color  \\\n",
       "0   AIREDALE TERR                 BROWN                  BLACK   \n",
       "1             NaN                 BLACK                    TAN   \n",
       "2             NaN                  Rust                    NaN   \n",
       "3        Cockapoo                 BLOND                  WHITE   \n",
       "4             NaN                 Black                    NaN   \n",
       "\n",
       "  Animal Third Color Animal Birth Spayed or Neut Guard or Trained Vaccinated  \\\n",
       "0                NaN   2007-11-01            Yes               No        Yes   \n",
       "1                NaN   2013-04-01             No               No        Yes   \n",
       "2                NaN   2014-09-01            Yes              NaN         No   \n",
       "3                NaN   2008-04-01            Yes               No        Yes   \n",
       "4                NaN   2014-01-01             No              NaN         No   \n",
       "\n",
       "         Application Date License Issued Date License Expired Date  \n",
       "0 2012-09-19 16:01:19.647          2015-09-19           2016-09-19  \n",
       "1 2013-09-20 11:41:36.647          2014-09-20           2018-09-20  \n",
       "2 2014-09-12 13:13:36.713          2014-09-12           2019-09-12  \n",
       "3 2014-09-12 15:26:51.417          2014-09-12           2017-10-20  \n",
       "4 2014-09-12 15:43:17.707          2014-09-12           2019-09-12  "
      ]
     },
     "execution_count": 212,
     "metadata": {},
     "output_type": "execute_result"
    }
   ],
   "source": [
    "df = pd.read_excel(\"NYC_Dog_Licenses_Current_as_of_4-28-2016.xlsx\", na_values=[\"Unknown\", \"UNKNOWN\", \"unknown\", \"-999\", \"???\"])\n",
    "df.head(5)"
   ]
  },
  {
   "cell_type": "markdown",
   "metadata": {},
   "source": [
    "**How many rows do you have in the data? What are the column types?**\n",
    "\n",
    "If there are more than 30,000 rows in your dataset, go back and only read in the first 30,000."
   ]
  },
  {
   "cell_type": "code",
   "execution_count": 213,
   "metadata": {},
   "outputs": [
    {
     "data": {
      "text/plain": [
       "(81937, 15)"
      ]
     },
     "execution_count": 213,
     "metadata": {},
     "output_type": "execute_result"
    }
   ],
   "source": [
    "df.shape"
   ]
  },
  {
   "cell_type": "code",
   "execution_count": 214,
   "metadata": {},
   "outputs": [
    {
     "data": {
      "text/plain": [
       "(30000, 15)"
      ]
     },
     "execution_count": 214,
     "metadata": {},
     "output_type": "execute_result"
    }
   ],
   "source": [
    "new_df = df[:30000]\n",
    "new_df.shape"
   ]
  },
  {
   "cell_type": "code",
   "execution_count": 215,
   "metadata": {},
   "outputs": [
    {
     "data": {
      "text/plain": [
       "Owner Zip Code                     int64\n",
       "Animal Name                       object\n",
       "Animal Gender                     object\n",
       "Primary Breed                     object\n",
       "Secondary Breed                   object\n",
       "Animal Dominant Color             object\n",
       "Animal Secondary Color            object\n",
       "Animal Third Color                object\n",
       "Animal Birth              datetime64[ns]\n",
       "Spayed or Neut                    object\n",
       "Guard or Trained                  object\n",
       "Vaccinated                        object\n",
       "Application Date          datetime64[ns]\n",
       "License Issued Date       datetime64[ns]\n",
       "License Expired Date      datetime64[ns]\n",
       "dtype: object"
      ]
     },
     "execution_count": 215,
     "metadata": {},
     "output_type": "execute_result"
    }
   ],
   "source": [
    "new_df.dtypes"
   ]
  },
  {
   "cell_type": "markdown",
   "metadata": {},
   "source": [
    "**Describe the dataset in words. What is each row? List two column titles along with what each of those columns means.**\n",
    "\n",
    "For example: “Each row is an animal in the zoo. `is_reptile` is whether the animal is a reptile or not”"
   ]
  },
  {
   "cell_type": "code",
   "execution_count": 216,
   "metadata": {
    "collapsed": true
   },
   "outputs": [],
   "source": [
    "# Each row in the dataset is a profile of each dog in New York.\n",
    "# Animal Name is a string with name of the dog.\n",
    "# Animal birth is a number value with the date of birth of the dog."
   ]
  },
  {
   "cell_type": "markdown",
   "metadata": {},
   "source": [
    "**Your thoughts**\n",
    "\n",
    "Think of four questions you could ask this dataset. **Don't ask them**, just write them down in the cell below."
   ]
  },
  {
   "cell_type": "code",
   "execution_count": 217,
   "metadata": {
    "collapsed": true
   },
   "outputs": [],
   "source": [
    "# How many dogs are being vaccinated?\n",
    "# How many dogs were born in 2005?\n",
    "# How many dog licenses are going to expire within a year?\n",
    "# What's the most popular dog color?"
   ]
  },
  {
   "cell_type": "markdown",
   "metadata": {},
   "source": [
    "**Looking at some dogs**"
   ]
  },
  {
   "cell_type": "markdown",
   "metadata": {},
   "source": [
    "**What are the most popular (primary) breeds of dogs? Graph the top 10.**"
   ]
  },
  {
   "cell_type": "code",
   "execution_count": 218,
   "metadata": {},
   "outputs": [
    {
     "data": {
      "text/plain": [
       "Yorkshire Terrier                       1882\n",
       "Shih Tzu                                1760\n",
       "Chihuahua                               1535\n",
       "Maltese                                 1133\n",
       "Labrador Retriever                      1074\n",
       "American Pit Bull Terrier/Pit Bull       780\n",
       "Labrador Retriever Crossbreed            738\n",
       "American Pit Bull Mix / Pit Bull Mix     722\n",
       "Jack Russell Terrier                     553\n",
       "Beagle                                   546\n",
       "Name: Primary Breed, dtype: int64"
      ]
     },
     "execution_count": 218,
     "metadata": {},
     "output_type": "execute_result"
    }
   ],
   "source": [
    "#new_df.groupby(\"Primary Breed\")['Primary Breed'].value_counts().head(10)\n",
    "primary_breeds = new_df['Primary Breed'].value_counts().head(10)\n",
    "primary_breeds"
   ]
  },
  {
   "cell_type": "code",
   "execution_count": 219,
   "metadata": {},
   "outputs": [
    {
     "data": {
      "text/plain": [
       "<matplotlib.axes._subplots.AxesSubplot at 0x111d89cc0>"
      ]
     },
     "execution_count": 219,
     "metadata": {},
     "output_type": "execute_result"
    },
    {
     "data": {
      "image/png": "[encoded data removed]",
      "text/plain": [
       "<matplotlib.figure.Figure at 0x11286d898>"
      ]
     },
     "metadata": {},
     "output_type": "display_data"
    }
   ],
   "source": [
    "primary_breeds.sort_values(ascending=True).plot(kind='barh')"
   ]
  },
  {
   "cell_type": "markdown",
   "metadata": {},
   "source": [
    "**\"Unknown\" is a terrible breed! Graph the top 10 breeds that are NOT Unknown**"
   ]
  },
  {
   "cell_type": "code",
   "execution_count": 220,
   "metadata": {},
   "outputs": [
    {
     "data": {
      "text/plain": [
       "<matplotlib.axes._subplots.AxesSubplot at 0x111d79898>"
      ]
     },
     "execution_count": 220,
     "metadata": {},
     "output_type": "execute_result"
    },
    {
     "data": {
      "image/png": "[encoded data removed]",
      "text/plain": [
       "<matplotlib.figure.Figure at 0x118259a20>"
      ]
     },
     "metadata": {},
     "output_type": "display_data"
    }
   ],
   "source": [
    "breed_unknown = new_df[new_df['Primary Breed'] != 'Unknown']['Primary Breed'].value_counts().head(10)\n",
    "\n",
    "breed_unknown.sort_values(ascending = True).plot(kind='barh')"
   ]
  },
  {
   "cell_type": "markdown",
   "metadata": {},
   "source": [
    "**What are the most popular dog names?**"
   ]
  },
  {
   "cell_type": "code",
   "execution_count": 221,
   "metadata": {},
   "outputs": [
    {
     "data": {
      "text/plain": [
       "Max        202\n",
       "Bella      193\n",
       "Charlie    172\n",
       "Lola       146\n",
       "Rocky      140\n",
       "Name: Animal Name, dtype: int64"
      ]
     },
     "execution_count": 221,
     "metadata": {},
     "output_type": "execute_result"
    }
   ],
   "source": [
    "new_df['Animal Name'].value_counts().head()"
   ]
  },
  {
   "cell_type": "markdown",
   "metadata": {},
   "source": [
    "**Do any dogs have your name? How many dogs are named \"Max,\" and how many are named \"Maxwell\"?**"
   ]
  },
  {
   "cell_type": "code",
   "execution_count": 222,
   "metadata": {},
   "outputs": [
    {
     "data": {
      "text/plain": [
       "Max    202\n",
       "Name: Animal Name, dtype: int64"
      ]
     },
     "execution_count": 222,
     "metadata": {},
     "output_type": "execute_result"
    }
   ],
   "source": [
    "new_df[new_df[\"Animal Name\"] == 'Max'][\"Animal Name\"].value_counts()"
   ]
  },
  {
   "cell_type": "code",
   "execution_count": 223,
   "metadata": {},
   "outputs": [
    {
     "data": {
      "text/plain": [
       "Maxwell    11\n",
       "Name: Animal Name, dtype: int64"
      ]
     },
     "execution_count": 223,
     "metadata": {},
     "output_type": "execute_result"
    }
   ],
   "source": [
    "new_df[new_df[\"Animal Name\"] == 'Maxwell'][\"Animal Name\"].value_counts()"
   ]
  },
  {
   "cell_type": "markdown",
   "metadata": {},
   "source": [
    "**What percentage of dogs are guard dogs?**\n",
    "\n",
    "Check out the documentation for [value counts](https://pandas.pydata.org/pandas-docs/stable/generated/pandas.Series.value_counts.html)."
   ]
  },
  {
   "cell_type": "code",
   "execution_count": 224,
   "metadata": {},
   "outputs": [
    {
     "data": {
      "text/plain": [
       "No     19809\n",
       "Yes       17\n",
       "Name: Guard or Trained, dtype: int64"
      ]
     },
     "execution_count": 224,
     "metadata": {},
     "output_type": "execute_result"
    }
   ],
   "source": [
    "new_df['Guard or Trained'].value_counts()"
   ]
  },
  {
   "cell_type": "code",
   "execution_count": 225,
   "metadata": {},
   "outputs": [
    {
     "data": {
      "text/plain": [
       "No    66.03\n",
       "Name: Guard or Trained, dtype: float64"
      ]
     },
     "execution_count": 225,
     "metadata": {},
     "output_type": "execute_result"
    }
   ],
   "source": [
    "new_df[new_df['Guard or Trained'] == 'No']['Guard or Trained'].value_counts()/len(new_df)*100"
   ]
  },
  {
   "cell_type": "markdown",
   "metadata": {},
   "source": [
    "**What are the actual numbers?**"
   ]
  },
  {
   "cell_type": "code",
   "execution_count": 226,
   "metadata": {},
   "outputs": [
    {
     "data": {
      "text/plain": [
       "No     19809\n",
       "Yes       17\n",
       "Name: Guard or Trained, dtype: int64"
      ]
     },
     "execution_count": 226,
     "metadata": {},
     "output_type": "execute_result"
    }
   ],
   "source": [
    "new_df['Guard or Trained'].value_counts()"
   ]
  },
  {
   "cell_type": "markdown",
   "metadata": {},
   "source": [
    "**Wait... if you add that up, is it the same as your number of rows? Where are the other dogs???? How can we find them??????**\n",
    "\n",
    "Use your `.head()` to think about it, then you'll do some magic with `.value_counts()`"
   ]
  },
  {
   "cell_type": "code",
   "execution_count": 227,
   "metadata": {},
   "outputs": [
    {
     "data": {
      "text/plain": [
       "0     No\n",
       "1     No\n",
       "2    NaN\n",
       "3     No\n",
       "4    NaN\n",
       "Name: Guard or Trained, dtype: object"
      ]
     },
     "execution_count": 227,
     "metadata": {},
     "output_type": "execute_result"
    }
   ],
   "source": [
    "new_df['Guard or Trained'].head()"
   ]
  },
  {
   "cell_type": "code",
   "execution_count": 278,
   "metadata": {},
   "outputs": [
    {
     "data": {
      "text/plain": [
       "No     19809\n",
       "NaN    10174\n",
       "Yes       17\n",
       "Name: Guard or Trained, dtype: int64"
      ]
     },
     "execution_count": 278,
     "metadata": {},
     "output_type": "execute_result"
    }
   ],
   "source": [
    "new_df['Guard or Trained'].value_counts(dropna=False)"
   ]
  },
  {
   "cell_type": "markdown",
   "metadata": {},
   "source": [
    "**Fill in all of those empty \"Guard or Trained\" columns with \"No\"**\n",
    "\n",
    "Then check your result with another `.value_counts()`"
   ]
  },
  {
   "cell_type": "code",
   "execution_count": 229,
   "metadata": {},
   "outputs": [
    {
     "data": {
      "text/plain": [
       "No     29983\n",
       "Yes       17\n",
       "Name: Guard or Trained, dtype: int64"
      ]
     },
     "execution_count": 229,
     "metadata": {},
     "output_type": "execute_result"
    }
   ],
   "source": [
    "new_df['Guard or Trained'].fillna(\"No\").value_counts()"
   ]
  },
  {
   "cell_type": "markdown",
   "metadata": {},
   "source": [
    "**What are the top dog breeds for guard dogs?**"
   ]
  },
  {
   "cell_type": "code",
   "execution_count": 230,
   "metadata": {},
   "outputs": [
    {
     "data": {
      "text/plain": [
       "Primary Breed               Guard or Trained\n",
       "German Shepherd Dog         Yes                 3\n",
       "Yorkshire Terrier           Yes                 1\n",
       "Shih Tzu                    Yes                 1\n",
       "Schnauzer, Miniature        Yes                 1\n",
       "Rottweiler                  Yes                 1\n",
       "Poodle, Standard            Yes                 1\n",
       "Labrador Retriever          Yes                 1\n",
       "Golden Retriever            Yes                 1\n",
       "German Shepherd Crossbreed  Yes                 1\n",
       "Doberman Pinscher           Yes                 1\n",
       "Name: Guard or Trained, dtype: int64"
      ]
     },
     "execution_count": 230,
     "metadata": {},
     "output_type": "execute_result"
    }
   ],
   "source": [
    "new_df_guard = new_df[new_df['Guard or Trained'] == 'Yes']\n",
    "new_df_guard_unknown = new_df_guard[new_df_guard['Primary Breed'] != 'Unknown']\n",
    "new_df_guard_unknown.groupby('Primary Breed')[\"Guard or Trained\"].value_counts().sort_values(ascending=False)#.head(5)"
   ]
  },
  {
   "cell_type": "markdown",
   "metadata": {},
   "source": [
    "**Create a new column called \"year\" that is the dog's year of birth**\n",
    "\n",
    "The `Animal Birth` column is a datetime, so you can get the year out of it with the code `df['Animal Birth'].apply(lambda birth: birth.year)`."
   ]
  },
  {
   "cell_type": "code",
   "execution_count": 231,
   "metadata": {},
   "outputs": [
    {
     "name": "stderr",
     "output_type": "stream",
     "text": [
      "/usr/local/lib/python3.6/site-packages/ipykernel_launcher.py:1: SettingWithCopyWarning: \n",
      "A value is trying to be set on a copy of a slice from a DataFrame.\n",
      "Try using .loc[row_indexer,col_indexer] = value instead\n",
      "\n",
      "See the caveats in the documentation: http://pandas.pydata.org/pandas-docs/stable/indexing.html#indexing-view-versus-copy\n",
      "  \"\"\"Entry point for launching an IPython kernel.\n"
     ]
    },
    {
     "data": {
      "text/plain": [
       "0    2007\n",
       "1    2013\n",
       "2    2014\n",
       "3    2008\n",
       "4    2014\n",
       "Name: year, dtype: int64"
      ]
     },
     "execution_count": 231,
     "metadata": {},
     "output_type": "execute_result"
    }
   ],
   "source": [
    "new_df[\"year\"] = new_df['Animal Birth'].apply(lambda birth: birth.year)\n",
    "new_df[\"year\"].head()"
   ]
  },
  {
   "cell_type": "markdown",
   "metadata": {},
   "source": [
    "**Calculate a new column called “age” that shows approximately how old the dog is. How old are dogs on average?**"
   ]
  },
  {
   "cell_type": "code",
   "execution_count": 232,
   "metadata": {},
   "outputs": [],
   "source": [
    "#import date\n",
    "from datetime import date"
   ]
  },
  {
   "cell_type": "code",
   "execution_count": 233,
   "metadata": {},
   "outputs": [
    {
     "name": "stdout",
     "output_type": "stream",
     "text": [
      "2017\n"
     ]
    }
   ],
   "source": [
    "now = datetime.datetime.now()\n",
    "print(now.year)"
   ]
  },
  {
   "cell_type": "code",
   "execution_count": 234,
   "metadata": {},
   "outputs": [
    {
     "name": "stderr",
     "output_type": "stream",
     "text": [
      "/usr/local/lib/python3.6/site-packages/ipykernel_launcher.py:1: SettingWithCopyWarning: \n",
      "A value is trying to be set on a copy of a slice from a DataFrame.\n",
      "Try using .loc[row_indexer,col_indexer] = value instead\n",
      "\n",
      "See the caveats in the documentation: http://pandas.pydata.org/pandas-docs/stable/indexing.html#indexing-view-versus-copy\n",
      "  \"\"\"Entry point for launching an IPython kernel.\n"
     ]
    },
    {
     "data": {
      "text/plain": [
       "0    10\n",
       "1     4\n",
       "2     3\n",
       "3     9\n",
       "4     3\n",
       "Name: age, dtype: int64"
      ]
     },
     "execution_count": 234,
     "metadata": {},
     "output_type": "execute_result"
    }
   ],
   "source": [
    "new_df['age'] = now.year-new_df['year']\n",
    "new_df['age'].head()"
   ]
  },
  {
   "cell_type": "code",
   "execution_count": 235,
   "metadata": {},
   "outputs": [
    {
     "data": {
      "text/plain": [
       "7.7124333333333333"
      ]
     },
     "execution_count": 235,
     "metadata": {},
     "output_type": "execute_result"
    }
   ],
   "source": [
    "new_df['age'].mean()"
   ]
  },
  {
   "cell_type": "markdown",
   "metadata": {},
   "source": [
    "**Joining data together**"
   ]
  },
  {
   "cell_type": "code",
   "execution_count": 255,
   "metadata": {},
   "outputs": [],
   "source": [
    "neighborhoods = pd.read_csv('zipcodes-neighborhoods.csv', na_values=[\"NaN\", \"Unknown\", \"UNKNOWN\", \"unknown\", \"-999\", \"???\"])\n",
    "new_frames = new_df.merge(neighborhoods, left_on=\"Owner Zip Code\", right_on=\"zip\")"
   ]
  },
  {
   "cell_type": "markdown",
   "metadata": {},
   "source": [
    "**Which neighborhood does each dog live in?**\n",
    "\n",
    "You also have a (terrible) list of NYC neighborhoods in `zipcodes-neighborhoods.csv`. Join these two datasets together, so we know what neighborhood each dog lives in. **Be sure to not read it in as `df`, or else you'll overwrite your dogs dataframe.**"
   ]
  },
  {
   "cell_type": "code",
   "execution_count": 309,
   "metadata": {},
   "outputs": [
    {
     "data": {
      "text/plain": [
       "array(['BROWN', 'Black', 'BLUE MERLE', 'BLACK', 'BRINDLE', 'GOLD', 'Red',\n",
       "       'White', 'FAWN', 'Brown', 'Gray', 'Rust', 'Silver', 'Tan', 'GRAY',\n",
       "       'Chocolate', 'Blond', 'CHOCOLATE', 'WHITE', 'TAN', 'BLOND',\n",
       "       'APRICOT', 'BLUE', 'Fawn', 'CHARCOAL', 'Apricot', 'RED', 'RUST',\n",
       "       'Brindle', 'SILVER', 'CREAM', 'Blue', 'ORANGE', 'Cream', 'Gold',\n",
       "       'Orange', 'Charcoal', nan, 'Blue Merle', 'Sable', 'Red Sesame'], dtype=object)"
      ]
     },
     "execution_count": 309,
     "metadata": {},
     "output_type": "execute_result"
    }
   ],
   "source": [
    "new_frames['Animal Dominant Color'].unique()"
   ]
  },
  {
   "cell_type": "code",
   "execution_count": 307,
   "metadata": {},
   "outputs": [
    {
     "data": {
      "text/html": [
       "<div>\n",
       "<style>\n",
       "    .dataframe thead tr:only-child th {\n",
       "        text-align: right;\n",
       "    }\n",
       "\n",
       "    .dataframe thead th {\n",
       "        text-align: left;\n",
       "    }\n",
       "\n",
       "    .dataframe tbody tr th {\n",
       "        vertical-align: top;\n",
       "    }\n",
       "</style>\n",
       "<table border=\"1\" class=\"dataframe\">\n",
       "  <thead>\n",
       "    <tr style=\"text-align: right;\">\n",
       "      <th></th>\n",
       "      <th>Owner Zip Code</th>\n",
       "      <th>Animal Name</th>\n",
       "      <th>Animal Gender</th>\n",
       "      <th>Primary Breed</th>\n",
       "      <th>Secondary Breed</th>\n",
       "      <th>Animal Dominant Color</th>\n",
       "      <th>Animal Secondary Color</th>\n",
       "      <th>Animal Third Color</th>\n",
       "      <th>Animal Birth</th>\n",
       "      <th>Spayed or Neut</th>\n",
       "      <th>...</th>\n",
       "      <th>Vaccinated</th>\n",
       "      <th>Application Date</th>\n",
       "      <th>License Issued Date</th>\n",
       "      <th>License Expired Date</th>\n",
       "      <th>year</th>\n",
       "      <th>age</th>\n",
       "      <th>neighborhood</th>\n",
       "      <th>zip</th>\n",
       "      <th>borough</th>\n",
       "      <th>monochrome</th>\n",
       "    </tr>\n",
       "  </thead>\n",
       "  <tbody>\n",
       "    <tr>\n",
       "      <th>0</th>\n",
       "      <td>10024</td>\n",
       "      <td>BLUE MACK</td>\n",
       "      <td>M</td>\n",
       "      <td>NaN</td>\n",
       "      <td>AIREDALE TERR</td>\n",
       "      <td>BROWN</td>\n",
       "      <td>BLACK</td>\n",
       "      <td>NaN</td>\n",
       "      <td>2007-11-01</td>\n",
       "      <td>Yes</td>\n",
       "      <td>...</td>\n",
       "      <td>Yes</td>\n",
       "      <td>2012-09-19 16:01:19.647</td>\n",
       "      <td>2015-09-19</td>\n",
       "      <td>2016-09-19</td>\n",
       "      <td>2007</td>\n",
       "      <td>10</td>\n",
       "      <td>Upper West Side</td>\n",
       "      <td>10024</td>\n",
       "      <td>Manhattan</td>\n",
       "      <td>False</td>\n",
       "    </tr>\n",
       "    <tr>\n",
       "      <th>1</th>\n",
       "      <td>10024</td>\n",
       "      <td>Louie</td>\n",
       "      <td>M</td>\n",
       "      <td>NaN</td>\n",
       "      <td>Coonhound</td>\n",
       "      <td>Black</td>\n",
       "      <td>White</td>\n",
       "      <td>Brown</td>\n",
       "      <td>2008-05-01</td>\n",
       "      <td>Yes</td>\n",
       "      <td>...</td>\n",
       "      <td>Yes</td>\n",
       "      <td>2014-09-15 16:36:20.200</td>\n",
       "      <td>2014-09-15</td>\n",
       "      <td>2017-09-03</td>\n",
       "      <td>2008</td>\n",
       "      <td>9</td>\n",
       "      <td>Upper West Side</td>\n",
       "      <td>10024</td>\n",
       "      <td>Manhattan</td>\n",
       "      <td>True</td>\n",
       "    </tr>\n",
       "    <tr>\n",
       "      <th>2</th>\n",
       "      <td>10024</td>\n",
       "      <td>Tosha</td>\n",
       "      <td>F</td>\n",
       "      <td>Collie, Smooth Coat</td>\n",
       "      <td>NaN</td>\n",
       "      <td>BLUE MERLE</td>\n",
       "      <td>WHITE</td>\n",
       "      <td>TAN</td>\n",
       "      <td>2011-12-01</td>\n",
       "      <td>Yes</td>\n",
       "      <td>...</td>\n",
       "      <td>Yes</td>\n",
       "      <td>2014-09-16 10:22:07.867</td>\n",
       "      <td>2014-09-16</td>\n",
       "      <td>2017-10-11</td>\n",
       "      <td>2011</td>\n",
       "      <td>6</td>\n",
       "      <td>Upper West Side</td>\n",
       "      <td>10024</td>\n",
       "      <td>Manhattan</td>\n",
       "      <td>False</td>\n",
       "    </tr>\n",
       "    <tr>\n",
       "      <th>3</th>\n",
       "      <td>10024</td>\n",
       "      <td>Poppett</td>\n",
       "      <td>F</td>\n",
       "      <td>Dachshund, Long Haired Miniature</td>\n",
       "      <td>NaN</td>\n",
       "      <td>Black</td>\n",
       "      <td>Brown</td>\n",
       "      <td>Silver</td>\n",
       "      <td>2011-02-01</td>\n",
       "      <td>Yes</td>\n",
       "      <td>...</td>\n",
       "      <td>Yes</td>\n",
       "      <td>2014-09-18 16:25:57.323</td>\n",
       "      <td>2014-09-18</td>\n",
       "      <td>2019-09-18</td>\n",
       "      <td>2011</td>\n",
       "      <td>6</td>\n",
       "      <td>Upper West Side</td>\n",
       "      <td>10024</td>\n",
       "      <td>Manhattan</td>\n",
       "      <td>True</td>\n",
       "    </tr>\n",
       "    <tr>\n",
       "      <th>4</th>\n",
       "      <td>10024</td>\n",
       "      <td>Harlen</td>\n",
       "      <td>M</td>\n",
       "      <td>NaN</td>\n",
       "      <td>Plott Hound</td>\n",
       "      <td>BLACK</td>\n",
       "      <td>TAN</td>\n",
       "      <td>BROWN</td>\n",
       "      <td>2007-05-01</td>\n",
       "      <td>Yes</td>\n",
       "      <td>...</td>\n",
       "      <td>Yes</td>\n",
       "      <td>2014-09-25 17:11:20.713</td>\n",
       "      <td>2014-09-25</td>\n",
       "      <td>2016-08-20</td>\n",
       "      <td>2007</td>\n",
       "      <td>10</td>\n",
       "      <td>Upper West Side</td>\n",
       "      <td>10024</td>\n",
       "      <td>Manhattan</td>\n",
       "      <td>False</td>\n",
       "    </tr>\n",
       "    <tr>\n",
       "      <th>5</th>\n",
       "      <td>10024</td>\n",
       "      <td>Barney</td>\n",
       "      <td>M</td>\n",
       "      <td>Beagle</td>\n",
       "      <td>NaN</td>\n",
       "      <td>BROWN</td>\n",
       "      <td>WHITE</td>\n",
       "      <td>ORANGE</td>\n",
       "      <td>2004-06-01</td>\n",
       "      <td>Yes</td>\n",
       "      <td>...</td>\n",
       "      <td>Yes</td>\n",
       "      <td>2014-09-29 15:58:56.570</td>\n",
       "      <td>2014-09-29</td>\n",
       "      <td>2016-10-01</td>\n",
       "      <td>2004</td>\n",
       "      <td>13</td>\n",
       "      <td>Upper West Side</td>\n",
       "      <td>10024</td>\n",
       "      <td>Manhattan</td>\n",
       "      <td>False</td>\n",
       "    </tr>\n",
       "    <tr>\n",
       "      <th>6</th>\n",
       "      <td>10024</td>\n",
       "      <td>Peyton</td>\n",
       "      <td>M</td>\n",
       "      <td>NaN</td>\n",
       "      <td>Black Mouth Cur</td>\n",
       "      <td>BRINDLE</td>\n",
       "      <td>BLACK</td>\n",
       "      <td>NaN</td>\n",
       "      <td>2012-08-01</td>\n",
       "      <td>Yes</td>\n",
       "      <td>...</td>\n",
       "      <td>Yes</td>\n",
       "      <td>2014-10-02 11:23:37.220</td>\n",
       "      <td>2014-10-02</td>\n",
       "      <td>2016-09-24</td>\n",
       "      <td>2012</td>\n",
       "      <td>5</td>\n",
       "      <td>Upper West Side</td>\n",
       "      <td>10024</td>\n",
       "      <td>Manhattan</td>\n",
       "      <td>False</td>\n",
       "    </tr>\n",
       "    <tr>\n",
       "      <th>7</th>\n",
       "      <td>10024</td>\n",
       "      <td>Phoebe</td>\n",
       "      <td>F</td>\n",
       "      <td>Cavalier King Charles Spaniel</td>\n",
       "      <td>NaN</td>\n",
       "      <td>GOLD</td>\n",
       "      <td>APRICOT</td>\n",
       "      <td>WHITE</td>\n",
       "      <td>2009-01-01</td>\n",
       "      <td>Yes</td>\n",
       "      <td>...</td>\n",
       "      <td>Yes</td>\n",
       "      <td>2014-10-06 15:13:32.223</td>\n",
       "      <td>2014-10-06</td>\n",
       "      <td>2016-10-25</td>\n",
       "      <td>2009</td>\n",
       "      <td>8</td>\n",
       "      <td>Upper West Side</td>\n",
       "      <td>10024</td>\n",
       "      <td>Manhattan</td>\n",
       "      <td>False</td>\n",
       "    </tr>\n",
       "    <tr>\n",
       "      <th>8</th>\n",
       "      <td>10024</td>\n",
       "      <td>Baci</td>\n",
       "      <td>F</td>\n",
       "      <td>Dachshund</td>\n",
       "      <td>NaN</td>\n",
       "      <td>Black</td>\n",
       "      <td>Tan</td>\n",
       "      <td>NaN</td>\n",
       "      <td>2013-02-01</td>\n",
       "      <td>Yes</td>\n",
       "      <td>...</td>\n",
       "      <td>Yes</td>\n",
       "      <td>2014-10-06 20:05:14.213</td>\n",
       "      <td>2014-10-06</td>\n",
       "      <td>2016-10-06</td>\n",
       "      <td>2013</td>\n",
       "      <td>4</td>\n",
       "      <td>Upper West Side</td>\n",
       "      <td>10024</td>\n",
       "      <td>Manhattan</td>\n",
       "      <td>True</td>\n",
       "    </tr>\n",
       "    <tr>\n",
       "      <th>9</th>\n",
       "      <td>10024</td>\n",
       "      <td>Delilah Eddy</td>\n",
       "      <td>F</td>\n",
       "      <td>German Shepherd Crossbreed</td>\n",
       "      <td>NaN</td>\n",
       "      <td>BLACK</td>\n",
       "      <td>TAN</td>\n",
       "      <td>NaN</td>\n",
       "      <td>2007-05-01</td>\n",
       "      <td>Yes</td>\n",
       "      <td>...</td>\n",
       "      <td>Yes</td>\n",
       "      <td>2014-10-09 13:55:43.907</td>\n",
       "      <td>2014-10-09</td>\n",
       "      <td>2019-10-11</td>\n",
       "      <td>2007</td>\n",
       "      <td>10</td>\n",
       "      <td>Upper West Side</td>\n",
       "      <td>10024</td>\n",
       "      <td>Manhattan</td>\n",
       "      <td>False</td>\n",
       "    </tr>\n",
       "    <tr>\n",
       "      <th>10</th>\n",
       "      <td>10024</td>\n",
       "      <td>Louis</td>\n",
       "      <td>M</td>\n",
       "      <td>Portuguese Water Dog</td>\n",
       "      <td>NaN</td>\n",
       "      <td>Black</td>\n",
       "      <td>Gray</td>\n",
       "      <td>NaN</td>\n",
       "      <td>2000-11-01</td>\n",
       "      <td>Yes</td>\n",
       "      <td>...</td>\n",
       "      <td>Yes</td>\n",
       "      <td>2014-10-14 10:23:30.370</td>\n",
       "      <td>2014-10-14</td>\n",
       "      <td>2016-10-17</td>\n",
       "      <td>2000</td>\n",
       "      <td>17</td>\n",
       "      <td>Upper West Side</td>\n",
       "      <td>10024</td>\n",
       "      <td>Manhattan</td>\n",
       "      <td>True</td>\n",
       "    </tr>\n",
       "    <tr>\n",
       "      <th>11</th>\n",
       "      <td>10024</td>\n",
       "      <td>Addison</td>\n",
       "      <td>F</td>\n",
       "      <td>Poodle</td>\n",
       "      <td>NaN</td>\n",
       "      <td>Red</td>\n",
       "      <td>NaN</td>\n",
       "      <td>NaN</td>\n",
       "      <td>2012-02-01</td>\n",
       "      <td>Yes</td>\n",
       "      <td>...</td>\n",
       "      <td>Yes</td>\n",
       "      <td>2014-10-23 23:10:00.497</td>\n",
       "      <td>2014-10-23</td>\n",
       "      <td>2016-10-23</td>\n",
       "      <td>2012</td>\n",
       "      <td>5</td>\n",
       "      <td>Upper West Side</td>\n",
       "      <td>10024</td>\n",
       "      <td>Manhattan</td>\n",
       "      <td>False</td>\n",
       "    </tr>\n",
       "    <tr>\n",
       "      <th>12</th>\n",
       "      <td>10024</td>\n",
       "      <td>Scarlett</td>\n",
       "      <td>F</td>\n",
       "      <td>Labrador Retriever Crossbreed</td>\n",
       "      <td>NaN</td>\n",
       "      <td>BLACK</td>\n",
       "      <td>WHITE</td>\n",
       "      <td>NaN</td>\n",
       "      <td>2011-06-01</td>\n",
       "      <td>Yes</td>\n",
       "      <td>...</td>\n",
       "      <td>Yes</td>\n",
       "      <td>2014-10-24 12:33:45.760</td>\n",
       "      <td>2014-10-24</td>\n",
       "      <td>2016-11-14</td>\n",
       "      <td>2011</td>\n",
       "      <td>6</td>\n",
       "      <td>Upper West Side</td>\n",
       "      <td>10024</td>\n",
       "      <td>Manhattan</td>\n",
       "      <td>False</td>\n",
       "    </tr>\n",
       "    <tr>\n",
       "      <th>13</th>\n",
       "      <td>10024</td>\n",
       "      <td>Joey</td>\n",
       "      <td>M</td>\n",
       "      <td>Poodle</td>\n",
       "      <td>NaN</td>\n",
       "      <td>Black</td>\n",
       "      <td>White</td>\n",
       "      <td>NaN</td>\n",
       "      <td>2012-02-01</td>\n",
       "      <td>Yes</td>\n",
       "      <td>...</td>\n",
       "      <td>Yes</td>\n",
       "      <td>2014-10-27 15:54:33.130</td>\n",
       "      <td>2014-10-27</td>\n",
       "      <td>2016-10-27</td>\n",
       "      <td>2012</td>\n",
       "      <td>5</td>\n",
       "      <td>Upper West Side</td>\n",
       "      <td>10024</td>\n",
       "      <td>Manhattan</td>\n",
       "      <td>True</td>\n",
       "    </tr>\n",
       "    <tr>\n",
       "      <th>14</th>\n",
       "      <td>10024</td>\n",
       "      <td>Cooper</td>\n",
       "      <td>M</td>\n",
       "      <td>Beagle</td>\n",
       "      <td>NaN</td>\n",
       "      <td>White</td>\n",
       "      <td>NaN</td>\n",
       "      <td>NaN</td>\n",
       "      <td>2009-09-01</td>\n",
       "      <td>Yes</td>\n",
       "      <td>...</td>\n",
       "      <td>No</td>\n",
       "      <td>2014-10-27 15:56:07.010</td>\n",
       "      <td>2014-10-27</td>\n",
       "      <td>2016-10-27</td>\n",
       "      <td>2009</td>\n",
       "      <td>8</td>\n",
       "      <td>Upper West Side</td>\n",
       "      <td>10024</td>\n",
       "      <td>Manhattan</td>\n",
       "      <td>True</td>\n",
       "    </tr>\n",
       "    <tr>\n",
       "      <th>15</th>\n",
       "      <td>10024</td>\n",
       "      <td>Cleo</td>\n",
       "      <td>F</td>\n",
       "      <td>NaN</td>\n",
       "      <td>Ori-Pei</td>\n",
       "      <td>FAWN</td>\n",
       "      <td>NaN</td>\n",
       "      <td>NaN</td>\n",
       "      <td>2011-06-01</td>\n",
       "      <td>Yes</td>\n",
       "      <td>...</td>\n",
       "      <td>Yes</td>\n",
       "      <td>2014-11-01 12:46:13.153</td>\n",
       "      <td>2014-11-01</td>\n",
       "      <td>2016-11-17</td>\n",
       "      <td>2011</td>\n",
       "      <td>6</td>\n",
       "      <td>Upper West Side</td>\n",
       "      <td>10024</td>\n",
       "      <td>Manhattan</td>\n",
       "      <td>False</td>\n",
       "    </tr>\n",
       "    <tr>\n",
       "      <th>16</th>\n",
       "      <td>10024</td>\n",
       "      <td>Wynter</td>\n",
       "      <td>F</td>\n",
       "      <td>Collie</td>\n",
       "      <td>NaN</td>\n",
       "      <td>Brown</td>\n",
       "      <td>White</td>\n",
       "      <td>NaN</td>\n",
       "      <td>2012-04-01</td>\n",
       "      <td>Yes</td>\n",
       "      <td>...</td>\n",
       "      <td>Yes</td>\n",
       "      <td>2014-11-02 23:09:33.897</td>\n",
       "      <td>2014-11-02</td>\n",
       "      <td>2016-11-02</td>\n",
       "      <td>2012</td>\n",
       "      <td>5</td>\n",
       "      <td>Upper West Side</td>\n",
       "      <td>10024</td>\n",
       "      <td>Manhattan</td>\n",
       "      <td>False</td>\n",
       "    </tr>\n",
       "    <tr>\n",
       "      <th>17</th>\n",
       "      <td>10024</td>\n",
       "      <td>Milo</td>\n",
       "      <td>M</td>\n",
       "      <td>Labrador Retriever</td>\n",
       "      <td>NaN</td>\n",
       "      <td>Black</td>\n",
       "      <td>NaN</td>\n",
       "      <td>NaN</td>\n",
       "      <td>2007-12-01</td>\n",
       "      <td>Yes</td>\n",
       "      <td>...</td>\n",
       "      <td>Yes</td>\n",
       "      <td>2014-11-07 10:38:07.667</td>\n",
       "      <td>2014-11-07</td>\n",
       "      <td>2019-11-07</td>\n",
       "      <td>2007</td>\n",
       "      <td>10</td>\n",
       "      <td>Upper West Side</td>\n",
       "      <td>10024</td>\n",
       "      <td>Manhattan</td>\n",
       "      <td>True</td>\n",
       "    </tr>\n",
       "    <tr>\n",
       "      <th>18</th>\n",
       "      <td>10024</td>\n",
       "      <td>Sasha</td>\n",
       "      <td>F</td>\n",
       "      <td>Australian Terrier</td>\n",
       "      <td>NaN</td>\n",
       "      <td>White</td>\n",
       "      <td>Rust</td>\n",
       "      <td>NaN</td>\n",
       "      <td>2012-11-01</td>\n",
       "      <td>Yes</td>\n",
       "      <td>...</td>\n",
       "      <td>Yes</td>\n",
       "      <td>2014-11-14 10:25:52.447</td>\n",
       "      <td>2014-11-14</td>\n",
       "      <td>2019-11-14</td>\n",
       "      <td>2012</td>\n",
       "      <td>5</td>\n",
       "      <td>Upper West Side</td>\n",
       "      <td>10024</td>\n",
       "      <td>Manhattan</td>\n",
       "      <td>True</td>\n",
       "    </tr>\n",
       "    <tr>\n",
       "      <th>19</th>\n",
       "      <td>10024</td>\n",
       "      <td>Penny</td>\n",
       "      <td>F</td>\n",
       "      <td>Yorkshire Terrier</td>\n",
       "      <td>NaN</td>\n",
       "      <td>Gray</td>\n",
       "      <td>Tan</td>\n",
       "      <td>NaN</td>\n",
       "      <td>2005-04-01</td>\n",
       "      <td>Yes</td>\n",
       "      <td>...</td>\n",
       "      <td>Yes</td>\n",
       "      <td>2014-11-21 18:25:08.663</td>\n",
       "      <td>2014-11-21</td>\n",
       "      <td>2016-11-21</td>\n",
       "      <td>2005</td>\n",
       "      <td>12</td>\n",
       "      <td>Upper West Side</td>\n",
       "      <td>10024</td>\n",
       "      <td>Manhattan</td>\n",
       "      <td>True</td>\n",
       "    </tr>\n",
       "  </tbody>\n",
       "</table>\n",
       "<p>20 rows × 21 columns</p>\n",
       "</div>"
      ],
      "text/plain": [
       "    Owner Zip Code   Animal Name Animal Gender  \\\n",
       "0            10024     BLUE MACK             M   \n",
       "1            10024         Louie             M   \n",
       "2            10024         Tosha             F   \n",
       "3            10024       Poppett             F   \n",
       "4            10024        Harlen             M   \n",
       "5            10024        Barney             M   \n",
       "6            10024        Peyton             M   \n",
       "7            10024        Phoebe             F   \n",
       "8            10024          Baci             F   \n",
       "9            10024  Delilah Eddy             F   \n",
       "10           10024         Louis             M   \n",
       "11           10024       Addison             F   \n",
       "12           10024      Scarlett             F   \n",
       "13           10024          Joey             M   \n",
       "14           10024        Cooper             M   \n",
       "15           10024          Cleo             F   \n",
       "16           10024        Wynter             F   \n",
       "17           10024          Milo             M   \n",
       "18           10024         Sasha             F   \n",
       "19           10024         Penny             F   \n",
       "\n",
       "                       Primary Breed  Secondary Breed Animal Dominant Color  \\\n",
       "0                                NaN    AIREDALE TERR                 BROWN   \n",
       "1                                NaN        Coonhound                 Black   \n",
       "2                Collie, Smooth Coat              NaN            BLUE MERLE   \n",
       "3   Dachshund, Long Haired Miniature              NaN                 Black   \n",
       "4                                NaN      Plott Hound                 BLACK   \n",
       "5                             Beagle              NaN                 BROWN   \n",
       "6                                NaN  Black Mouth Cur               BRINDLE   \n",
       "7      Cavalier King Charles Spaniel              NaN                  GOLD   \n",
       "8                          Dachshund              NaN                 Black   \n",
       "9         German Shepherd Crossbreed              NaN                 BLACK   \n",
       "10              Portuguese Water Dog              NaN                 Black   \n",
       "11                            Poodle              NaN                   Red   \n",
       "12     Labrador Retriever Crossbreed              NaN                 BLACK   \n",
       "13                            Poodle              NaN                 Black   \n",
       "14                            Beagle              NaN                 White   \n",
       "15                               NaN          Ori-Pei                  FAWN   \n",
       "16                            Collie              NaN                 Brown   \n",
       "17                Labrador Retriever              NaN                 Black   \n",
       "18                Australian Terrier              NaN                 White   \n",
       "19                 Yorkshire Terrier              NaN                  Gray   \n",
       "\n",
       "   Animal Secondary Color Animal Third Color Animal Birth Spayed or Neut  \\\n",
       "0                   BLACK                NaN   2007-11-01            Yes   \n",
       "1                   White              Brown   2008-05-01            Yes   \n",
       "2                   WHITE                TAN   2011-12-01            Yes   \n",
       "3                   Brown             Silver   2011-02-01            Yes   \n",
       "4                     TAN              BROWN   2007-05-01            Yes   \n",
       "5                   WHITE             ORANGE   2004-06-01            Yes   \n",
       "6                   BLACK                NaN   2012-08-01            Yes   \n",
       "7                 APRICOT              WHITE   2009-01-01            Yes   \n",
       "8                     Tan                NaN   2013-02-01            Yes   \n",
       "9                     TAN                NaN   2007-05-01            Yes   \n",
       "10                   Gray                NaN   2000-11-01            Yes   \n",
       "11                    NaN                NaN   2012-02-01            Yes   \n",
       "12                  WHITE                NaN   2011-06-01            Yes   \n",
       "13                  White                NaN   2012-02-01            Yes   \n",
       "14                    NaN                NaN   2009-09-01            Yes   \n",
       "15                    NaN                NaN   2011-06-01            Yes   \n",
       "16                  White                NaN   2012-04-01            Yes   \n",
       "17                    NaN                NaN   2007-12-01            Yes   \n",
       "18                   Rust                NaN   2012-11-01            Yes   \n",
       "19                    Tan                NaN   2005-04-01            Yes   \n",
       "\n",
       "      ...     Vaccinated        Application Date License Issued Date  \\\n",
       "0     ...            Yes 2012-09-19 16:01:19.647          2015-09-19   \n",
       "1     ...            Yes 2014-09-15 16:36:20.200          2014-09-15   \n",
       "2     ...            Yes 2014-09-16 10:22:07.867          2014-09-16   \n",
       "3     ...            Yes 2014-09-18 16:25:57.323          2014-09-18   \n",
       "4     ...            Yes 2014-09-25 17:11:20.713          2014-09-25   \n",
       "5     ...            Yes 2014-09-29 15:58:56.570          2014-09-29   \n",
       "6     ...            Yes 2014-10-02 11:23:37.220          2014-10-02   \n",
       "7     ...            Yes 2014-10-06 15:13:32.223          2014-10-06   \n",
       "8     ...            Yes 2014-10-06 20:05:14.213          2014-10-06   \n",
       "9     ...            Yes 2014-10-09 13:55:43.907          2014-10-09   \n",
       "10    ...            Yes 2014-10-14 10:23:30.370          2014-10-14   \n",
       "11    ...            Yes 2014-10-23 23:10:00.497          2014-10-23   \n",
       "12    ...            Yes 2014-10-24 12:33:45.760          2014-10-24   \n",
       "13    ...            Yes 2014-10-27 15:54:33.130          2014-10-27   \n",
       "14    ...             No 2014-10-27 15:56:07.010          2014-10-27   \n",
       "15    ...            Yes 2014-11-01 12:46:13.153          2014-11-01   \n",
       "16    ...            Yes 2014-11-02 23:09:33.897          2014-11-02   \n",
       "17    ...            Yes 2014-11-07 10:38:07.667          2014-11-07   \n",
       "18    ...            Yes 2014-11-14 10:25:52.447          2014-11-14   \n",
       "19    ...            Yes 2014-11-21 18:25:08.663          2014-11-21   \n",
       "\n",
       "   License Expired Date  year  age     neighborhood    zip    borough  \\\n",
       "0            2016-09-19  2007   10  Upper West Side  10024  Manhattan   \n",
       "1            2017-09-03  2008    9  Upper West Side  10024  Manhattan   \n",
       "2            2017-10-11  2011    6  Upper West Side  10024  Manhattan   \n",
       "3            2019-09-18  2011    6  Upper West Side  10024  Manhattan   \n",
       "4            2016-08-20  2007   10  Upper West Side  10024  Manhattan   \n",
       "5            2016-10-01  2004   13  Upper West Side  10024  Manhattan   \n",
       "6            2016-09-24  2012    5  Upper West Side  10024  Manhattan   \n",
       "7            2016-10-25  2009    8  Upper West Side  10024  Manhattan   \n",
       "8            2016-10-06  2013    4  Upper West Side  10024  Manhattan   \n",
       "9            2019-10-11  2007   10  Upper West Side  10024  Manhattan   \n",
       "10           2016-10-17  2000   17  Upper West Side  10024  Manhattan   \n",
       "11           2016-10-23  2012    5  Upper West Side  10024  Manhattan   \n",
       "12           2016-11-14  2011    6  Upper West Side  10024  Manhattan   \n",
       "13           2016-10-27  2012    5  Upper West Side  10024  Manhattan   \n",
       "14           2016-10-27  2009    8  Upper West Side  10024  Manhattan   \n",
       "15           2016-11-17  2011    6  Upper West Side  10024  Manhattan   \n",
       "16           2016-11-02  2012    5  Upper West Side  10024  Manhattan   \n",
       "17           2019-11-07  2007   10  Upper West Side  10024  Manhattan   \n",
       "18           2019-11-14  2012    5  Upper West Side  10024  Manhattan   \n",
       "19           2016-11-21  2005   12  Upper West Side  10024  Manhattan   \n",
       "\n",
       "   monochrome  \n",
       "0       False  \n",
       "1        True  \n",
       "2       False  \n",
       "3        True  \n",
       "4       False  \n",
       "5       False  \n",
       "6       False  \n",
       "7       False  \n",
       "8        True  \n",
       "9       False  \n",
       "10       True  \n",
       "11      False  \n",
       "12      False  \n",
       "13       True  \n",
       "14       True  \n",
       "15      False  \n",
       "16      False  \n",
       "17       True  \n",
       "18       True  \n",
       "19       True  \n",
       "\n",
       "[20 rows x 21 columns]"
      ]
     },
     "execution_count": 307,
     "metadata": {},
     "output_type": "execute_result"
    }
   ],
   "source": [
    "new_frames.head(20)"
   ]
  },
  {
   "cell_type": "code",
   "execution_count": null,
   "metadata": {
    "collapsed": true
   },
   "outputs": [],
   "source": []
  },
  {
   "cell_type": "markdown",
   "metadata": {},
   "source": [
    "**What is the most popular dog name in all parts of the Bronx? How about Brooklyn? The Upper East Side?**"
   ]
  },
  {
   "cell_type": "code",
   "execution_count": 257,
   "metadata": {},
   "outputs": [
    {
     "data": {
      "text/plain": [
       "Bella       22\n",
       "Max         21\n",
       "Rocky       20\n",
       "Princess    15\n",
       "Lucky       15\n",
       "Name: Animal Name, dtype: int64"
      ]
     },
     "execution_count": 257,
     "metadata": {},
     "output_type": "execute_result"
    }
   ],
   "source": [
    "new_frames[new_frames['borough'] == 'Bronx']['Animal Name'].value_counts().head()"
   ]
  },
  {
   "cell_type": "code",
   "execution_count": 258,
   "metadata": {},
   "outputs": [
    {
     "data": {
      "text/plain": [
       "Max        46\n",
       "Bella      45\n",
       "Charlie    42\n",
       "Rocky      36\n",
       "Lucy       32\n",
       "Name: Animal Name, dtype: int64"
      ]
     },
     "execution_count": 258,
     "metadata": {},
     "output_type": "execute_result"
    }
   ],
   "source": [
    "new_frames[new_frames['borough'] == 'Brooklyn']['Animal Name'].value_counts().head()\n",
    "\n",
    "# bronx = new_frames[new_frames['borough'] == 'Bronx']\n",
    "# bronx.head()\n",
    "# new_df[new_df['Guard or Trained'] == 'Yes']"
   ]
  },
  {
   "cell_type": "markdown",
   "metadata": {},
   "source": [
    "**What is the most common dog breed in each of the neighborhoods of NYC?**"
   ]
  },
  {
   "cell_type": "code",
   "execution_count": 263,
   "metadata": {},
   "outputs": [],
   "source": [
    "# new_frames[[\"neighborhood\", \"Primary Breed\"]].groupby(\"neighborhood\").describe().head()"
   ]
  },
  {
   "cell_type": "code",
   "execution_count": 265,
   "metadata": {},
   "outputs": [
    {
     "data": {
      "text/plain": [
       "neighborhood               Primary Breed                     \n",
       "Borough Park               Yorkshire Terrier                      49\n",
       "                           Maltese                                34\n",
       "                           Shih Tzu                               34\n",
       "Bronx Park and Fordham     Yorkshire Terrier                      39\n",
       "                           Shih Tzu                               33\n",
       "                           Chihuahua                              30\n",
       "Bushwick and Williamsburg  Yorkshire Terrier                      47\n",
       "                           Chihuahua                              40\n",
       "                           Shih Tzu                               40\n",
       "Canarsie and Flatlands     Shih Tzu                               56\n",
       "                           Yorkshire Terrier                      48\n",
       "                           Maltese                                28\n",
       "Central Bronx              Yorkshire Terrier                      29\n",
       "                           Shih Tzu                               24\n",
       "                           American Pit Bull Terrier/Pit Bull     22\n",
       "Central Brooklyn           Shih Tzu                               52\n",
       "                           Yorkshire Terrier                      41\n",
       "                           American Pit Bull Terrier/Pit Bull     37\n",
       "Central Harlem             Chihuahua                              48\n",
       "                           Yorkshire Terrier                      44\n",
       "                           Shih Tzu                               32\n",
       "Central Queens             Yorkshire Terrier                      34\n",
       "                           Shih Tzu                               27\n",
       "                           Maltese                                16\n",
       "Chelsea and Clinton        Chihuahua                              80\n",
       "                           Yorkshire Terrier                      77\n",
       "                           Shih Tzu                               70\n",
       "East Harlem                Yorkshire Terrier                      44\n",
       "                           Shih Tzu                               41\n",
       "                           Chihuahua                              35\n",
       "                                                                ... \n",
       "Southeast Queens           Yorkshire Terrier                      35\n",
       "                           Shih Tzu                               24\n",
       "                           Maltese                                21\n",
       "Southern Brooklyn          Yorkshire Terrier                      85\n",
       "                           Shih Tzu                               75\n",
       "                           Chihuahua                              48\n",
       "Southwest Brooklyn         Shih Tzu                               69\n",
       "                           Yorkshire Terrier                      52\n",
       "                           Maltese                                43\n",
       "Southwest Queens           Yorkshire Terrier                      53\n",
       "                           Chihuahua                              43\n",
       "                           Shih Tzu                               40\n",
       "Stapleton and St. George   Shih Tzu                               33\n",
       "                           Yorkshire Terrier                      28\n",
       "                           Chihuahua                              25\n",
       "Sunset Park                Yorkshire Terrier                      32\n",
       "                           Chihuahua                              26\n",
       "                           Shih Tzu                               24\n",
       "Upper East Side            Havanese                               94\n",
       "                           Shih Tzu                               83\n",
       "                           Labrador Retriever                     77\n",
       "Upper West Side            Labrador Retriever                    121\n",
       "                           Chihuahua                              73\n",
       "                           Havanese                               64\n",
       "West Central Queens        Yorkshire Terrier                      72\n",
       "                           Shih Tzu                               50\n",
       "                           Chihuahua                              40\n",
       "West Queens                Shih Tzu                               95\n",
       "                           Yorkshire Terrier                      62\n",
       "                           Chihuahua                              58\n",
       "Name: Primary Breed, Length: 126, dtype: int64"
      ]
     },
     "execution_count": 265,
     "metadata": {},
     "output_type": "execute_result"
    }
   ],
   "source": [
    "new_frames.groupby('neighborhood')['Primary Breed'].value_counts().groupby(level=0).head(3)"
   ]
  },
  {
   "cell_type": "markdown",
   "metadata": {},
   "source": [
    "**What breed of dogs are the least likely to be spayed? Male or female?**"
   ]
  },
  {
   "cell_type": "code",
   "execution_count": 286,
   "metadata": {},
   "outputs": [
    {
     "data": {
      "text/html": [
       "<div>\n",
       "<style>\n",
       "    .dataframe thead tr:only-child th {\n",
       "        text-align: right;\n",
       "    }\n",
       "\n",
       "    .dataframe thead th {\n",
       "        text-align: left;\n",
       "    }\n",
       "\n",
       "    .dataframe tbody tr th {\n",
       "        vertical-align: top;\n",
       "    }\n",
       "</style>\n",
       "<table border=\"1\" class=\"dataframe\">\n",
       "  <thead>\n",
       "    <tr style=\"text-align: right;\">\n",
       "      <th>Spayed or Neut</th>\n",
       "      <th>No</th>\n",
       "      <th>Yes</th>\n",
       "    </tr>\n",
       "    <tr>\n",
       "      <th>Primary Breed</th>\n",
       "      <th></th>\n",
       "      <th></th>\n",
       "    </tr>\n",
       "  </thead>\n",
       "  <tbody>\n",
       "    <tr>\n",
       "      <th>French Spaniel</th>\n",
       "      <td>1.000000</td>\n",
       "      <td>NaN</td>\n",
       "    </tr>\n",
       "    <tr>\n",
       "      <th>Canaan Dog</th>\n",
       "      <td>1.000000</td>\n",
       "      <td>NaN</td>\n",
       "    </tr>\n",
       "    <tr>\n",
       "      <th>Mastiff, Tibetan</th>\n",
       "      <td>1.000000</td>\n",
       "      <td>NaN</td>\n",
       "    </tr>\n",
       "    <tr>\n",
       "      <th>Kooikerhondje</th>\n",
       "      <td>1.000000</td>\n",
       "      <td>NaN</td>\n",
       "    </tr>\n",
       "    <tr>\n",
       "      <th>Mudi</th>\n",
       "      <td>1.000000</td>\n",
       "      <td>NaN</td>\n",
       "    </tr>\n",
       "    <tr>\n",
       "      <th>Karelian Bear Dog</th>\n",
       "      <td>1.000000</td>\n",
       "      <td>NaN</td>\n",
       "    </tr>\n",
       "    <tr>\n",
       "      <th>Polish Hound</th>\n",
       "      <td>1.000000</td>\n",
       "      <td>NaN</td>\n",
       "    </tr>\n",
       "    <tr>\n",
       "      <th>Mastiff, French (Dogue de Bordeaux)</th>\n",
       "      <td>1.000000</td>\n",
       "      <td>NaN</td>\n",
       "    </tr>\n",
       "    <tr>\n",
       "      <th>Borzoi</th>\n",
       "      <td>1.000000</td>\n",
       "      <td>NaN</td>\n",
       "    </tr>\n",
       "    <tr>\n",
       "      <th>Fila Brasileiro</th>\n",
       "      <td>1.000000</td>\n",
       "      <td>NaN</td>\n",
       "    </tr>\n",
       "    <tr>\n",
       "      <th>Dogo Argentino</th>\n",
       "      <td>1.000000</td>\n",
       "      <td>NaN</td>\n",
       "    </tr>\n",
       "    <tr>\n",
       "      <th>Treeing Tennessee Brindle</th>\n",
       "      <td>1.000000</td>\n",
       "      <td>NaN</td>\n",
       "    </tr>\n",
       "    <tr>\n",
       "      <th>Greater Swiss Mountain Dog</th>\n",
       "      <td>0.666667</td>\n",
       "      <td>0.333333</td>\n",
       "    </tr>\n",
       "    <tr>\n",
       "      <th>Cardigan Welsh Corgi</th>\n",
       "      <td>0.666667</td>\n",
       "      <td>0.333333</td>\n",
       "    </tr>\n",
       "    <tr>\n",
       "      <th>Lagotto Romagnolo</th>\n",
       "      <td>0.666667</td>\n",
       "      <td>0.333333</td>\n",
       "    </tr>\n",
       "    <tr>\n",
       "      <th>American Bully</th>\n",
       "      <td>0.647059</td>\n",
       "      <td>0.352941</td>\n",
       "    </tr>\n",
       "    <tr>\n",
       "      <th>Morkie</th>\n",
       "      <td>0.606061</td>\n",
       "      <td>0.393939</td>\n",
       "    </tr>\n",
       "    <tr>\n",
       "      <th>Affenpinscher</th>\n",
       "      <td>0.600000</td>\n",
       "      <td>0.400000</td>\n",
       "    </tr>\n",
       "    <tr>\n",
       "      <th>Miniature American Shepherd</th>\n",
       "      <td>0.571429</td>\n",
       "      <td>0.428571</td>\n",
       "    </tr>\n",
       "    <tr>\n",
       "      <th>Maltipoo</th>\n",
       "      <td>0.538462</td>\n",
       "      <td>0.461538</td>\n",
       "    </tr>\n",
       "    <tr>\n",
       "      <th>Shih Tzu Crossbreed</th>\n",
       "      <td>0.520000</td>\n",
       "      <td>0.480000</td>\n",
       "    </tr>\n",
       "    <tr>\n",
       "      <th>German Pinscher</th>\n",
       "      <td>0.500000</td>\n",
       "      <td>0.500000</td>\n",
       "    </tr>\n",
       "    <tr>\n",
       "      <th>Wirehaired Pointing Griffon</th>\n",
       "      <td>0.500000</td>\n",
       "      <td>0.500000</td>\n",
       "    </tr>\n",
       "    <tr>\n",
       "      <th>English Setter</th>\n",
       "      <td>0.500000</td>\n",
       "      <td>0.500000</td>\n",
       "    </tr>\n",
       "    <tr>\n",
       "      <th>English Toy Spaniel</th>\n",
       "      <td>0.500000</td>\n",
       "      <td>0.500000</td>\n",
       "    </tr>\n",
       "    <tr>\n",
       "      <th>St. Bernard</th>\n",
       "      <td>0.500000</td>\n",
       "      <td>0.500000</td>\n",
       "    </tr>\n",
       "    <tr>\n",
       "      <th>Lakeland Terrier</th>\n",
       "      <td>0.500000</td>\n",
       "      <td>0.500000</td>\n",
       "    </tr>\n",
       "    <tr>\n",
       "      <th>Portuguese Podengo Pequeno</th>\n",
       "      <td>0.500000</td>\n",
       "      <td>0.500000</td>\n",
       "    </tr>\n",
       "    <tr>\n",
       "      <th>Thai Ridgeback</th>\n",
       "      <td>0.500000</td>\n",
       "      <td>0.500000</td>\n",
       "    </tr>\n",
       "    <tr>\n",
       "      <th>Biewer Terrier</th>\n",
       "      <td>0.500000</td>\n",
       "      <td>0.500000</td>\n",
       "    </tr>\n",
       "    <tr>\n",
       "      <th>...</th>\n",
       "      <td>...</td>\n",
       "      <td>...</td>\n",
       "    </tr>\n",
       "    <tr>\n",
       "      <th>Goldendoodle</th>\n",
       "      <td>NaN</td>\n",
       "      <td>1.000000</td>\n",
       "    </tr>\n",
       "    <tr>\n",
       "      <th>Harrier</th>\n",
       "      <td>NaN</td>\n",
       "      <td>1.000000</td>\n",
       "    </tr>\n",
       "    <tr>\n",
       "      <th>Jindo</th>\n",
       "      <td>NaN</td>\n",
       "      <td>1.000000</td>\n",
       "    </tr>\n",
       "    <tr>\n",
       "      <th>Kuvasz</th>\n",
       "      <td>NaN</td>\n",
       "      <td>1.000000</td>\n",
       "    </tr>\n",
       "    <tr>\n",
       "      <th>Lancashire Heeler</th>\n",
       "      <td>NaN</td>\n",
       "      <td>1.000000</td>\n",
       "    </tr>\n",
       "    <tr>\n",
       "      <th>Leonberger</th>\n",
       "      <td>NaN</td>\n",
       "      <td>1.000000</td>\n",
       "    </tr>\n",
       "    <tr>\n",
       "      <th>Lowchen</th>\n",
       "      <td>NaN</td>\n",
       "      <td>1.000000</td>\n",
       "    </tr>\n",
       "    <tr>\n",
       "      <th>Manchester Terrier</th>\n",
       "      <td>NaN</td>\n",
       "      <td>1.000000</td>\n",
       "    </tr>\n",
       "    <tr>\n",
       "      <th>Mastiff, Neapolitan</th>\n",
       "      <td>NaN</td>\n",
       "      <td>1.000000</td>\n",
       "    </tr>\n",
       "    <tr>\n",
       "      <th>Miniature Bull Terrier</th>\n",
       "      <td>NaN</td>\n",
       "      <td>1.000000</td>\n",
       "    </tr>\n",
       "    <tr>\n",
       "      <th>Nova Scotia Duck Tolling Retriever</th>\n",
       "      <td>NaN</td>\n",
       "      <td>1.000000</td>\n",
       "    </tr>\n",
       "    <tr>\n",
       "      <th>Parson Russell Terrier</th>\n",
       "      <td>NaN</td>\n",
       "      <td>1.000000</td>\n",
       "    </tr>\n",
       "    <tr>\n",
       "      <th>Peruvian Inca Orchid</th>\n",
       "      <td>NaN</td>\n",
       "      <td>1.000000</td>\n",
       "    </tr>\n",
       "    <tr>\n",
       "      <th>Petit Basset Griffon Vendeen</th>\n",
       "      <td>NaN</td>\n",
       "      <td>1.000000</td>\n",
       "    </tr>\n",
       "    <tr>\n",
       "      <th>Pointer, German Wirehaired</th>\n",
       "      <td>NaN</td>\n",
       "      <td>1.000000</td>\n",
       "    </tr>\n",
       "    <tr>\n",
       "      <th>Redbone Coonhound</th>\n",
       "      <td>NaN</td>\n",
       "      <td>1.000000</td>\n",
       "    </tr>\n",
       "    <tr>\n",
       "      <th>Russell Terrier</th>\n",
       "      <td>NaN</td>\n",
       "      <td>1.000000</td>\n",
       "    </tr>\n",
       "    <tr>\n",
       "      <th>Schipperke</th>\n",
       "      <td>NaN</td>\n",
       "      <td>1.000000</td>\n",
       "    </tr>\n",
       "    <tr>\n",
       "      <th>Schipperkee</th>\n",
       "      <td>NaN</td>\n",
       "      <td>1.000000</td>\n",
       "    </tr>\n",
       "    <tr>\n",
       "      <th>Scottish Deerhound</th>\n",
       "      <td>NaN</td>\n",
       "      <td>1.000000</td>\n",
       "    </tr>\n",
       "    <tr>\n",
       "      <th>Sealyham Terrier</th>\n",
       "      <td>NaN</td>\n",
       "      <td>1.000000</td>\n",
       "    </tr>\n",
       "    <tr>\n",
       "      <th>Skye Terrier</th>\n",
       "      <td>NaN</td>\n",
       "      <td>1.000000</td>\n",
       "    </tr>\n",
       "    <tr>\n",
       "      <th>Small Munsterlander Pointer</th>\n",
       "      <td>NaN</td>\n",
       "      <td>1.000000</td>\n",
       "    </tr>\n",
       "    <tr>\n",
       "      <th>Smooth Fox Terrier</th>\n",
       "      <td>NaN</td>\n",
       "      <td>1.000000</td>\n",
       "    </tr>\n",
       "    <tr>\n",
       "      <th>Spinone Italiano</th>\n",
       "      <td>NaN</td>\n",
       "      <td>1.000000</td>\n",
       "    </tr>\n",
       "    <tr>\n",
       "      <th>Standard Schnauzer</th>\n",
       "      <td>NaN</td>\n",
       "      <td>1.000000</td>\n",
       "    </tr>\n",
       "    <tr>\n",
       "      <th>Tibetan Mastiff</th>\n",
       "      <td>NaN</td>\n",
       "      <td>1.000000</td>\n",
       "    </tr>\n",
       "    <tr>\n",
       "      <th>Treeing Walker Coonhound</th>\n",
       "      <td>NaN</td>\n",
       "      <td>1.000000</td>\n",
       "    </tr>\n",
       "    <tr>\n",
       "      <th>Welsh Springer Spaniel</th>\n",
       "      <td>NaN</td>\n",
       "      <td>1.000000</td>\n",
       "    </tr>\n",
       "    <tr>\n",
       "      <th>Xoloitzcuintli</th>\n",
       "      <td>NaN</td>\n",
       "      <td>1.000000</td>\n",
       "    </tr>\n",
       "  </tbody>\n",
       "</table>\n",
       "<p>249 rows × 2 columns</p>\n",
       "</div>"
      ],
      "text/plain": [
       "Spayed or Neut                             No       Yes\n",
       "Primary Breed                                          \n",
       "French Spaniel                       1.000000       NaN\n",
       "Canaan Dog                           1.000000       NaN\n",
       "Mastiff, Tibetan                     1.000000       NaN\n",
       "Kooikerhondje                        1.000000       NaN\n",
       "Mudi                                 1.000000       NaN\n",
       "Karelian Bear Dog                    1.000000       NaN\n",
       "Polish Hound                         1.000000       NaN\n",
       "Mastiff, French (Dogue de Bordeaux)  1.000000       NaN\n",
       "Borzoi                               1.000000       NaN\n",
       "Fila Brasileiro                      1.000000       NaN\n",
       "Dogo Argentino                       1.000000       NaN\n",
       "Treeing Tennessee Brindle            1.000000       NaN\n",
       "Greater Swiss Mountain Dog           0.666667  0.333333\n",
       "Cardigan Welsh Corgi                 0.666667  0.333333\n",
       "Lagotto Romagnolo                    0.666667  0.333333\n",
       "American Bully                       0.647059  0.352941\n",
       "Morkie                               0.606061  0.393939\n",
       "Affenpinscher                        0.600000  0.400000\n",
       "Miniature American Shepherd          0.571429  0.428571\n",
       "Maltipoo                             0.538462  0.461538\n",
       "Shih Tzu Crossbreed                  0.520000  0.480000\n",
       "German Pinscher                      0.500000  0.500000\n",
       "Wirehaired Pointing Griffon          0.500000  0.500000\n",
       "English Setter                       0.500000  0.500000\n",
       "English Toy Spaniel                  0.500000  0.500000\n",
       "St. Bernard                          0.500000  0.500000\n",
       "Lakeland Terrier                     0.500000  0.500000\n",
       "Portuguese Podengo Pequeno           0.500000  0.500000\n",
       "Thai Ridgeback                       0.500000  0.500000\n",
       "Biewer Terrier                       0.500000  0.500000\n",
       "...                                       ...       ...\n",
       "Goldendoodle                              NaN  1.000000\n",
       "Harrier                                   NaN  1.000000\n",
       "Jindo                                     NaN  1.000000\n",
       "Kuvasz                                    NaN  1.000000\n",
       "Lancashire Heeler                         NaN  1.000000\n",
       "Leonberger                                NaN  1.000000\n",
       "Lowchen                                   NaN  1.000000\n",
       "Manchester Terrier                        NaN  1.000000\n",
       "Mastiff, Neapolitan                       NaN  1.000000\n",
       "Miniature Bull Terrier                    NaN  1.000000\n",
       "Nova Scotia Duck Tolling Retriever        NaN  1.000000\n",
       "Parson Russell Terrier                    NaN  1.000000\n",
       "Peruvian Inca Orchid                      NaN  1.000000\n",
       "Petit Basset Griffon Vendeen              NaN  1.000000\n",
       "Pointer, German Wirehaired                NaN  1.000000\n",
       "Redbone Coonhound                         NaN  1.000000\n",
       "Russell Terrier                           NaN  1.000000\n",
       "Schipperke                                NaN  1.000000\n",
       "Schipperkee                               NaN  1.000000\n",
       "Scottish Deerhound                        NaN  1.000000\n",
       "Sealyham Terrier                          NaN  1.000000\n",
       "Skye Terrier                              NaN  1.000000\n",
       "Small Munsterlander Pointer               NaN  1.000000\n",
       "Smooth Fox Terrier                        NaN  1.000000\n",
       "Spinone Italiano                          NaN  1.000000\n",
       "Standard Schnauzer                        NaN  1.000000\n",
       "Tibetan Mastiff                           NaN  1.000000\n",
       "Treeing Walker Coonhound                  NaN  1.000000\n",
       "Welsh Springer Spaniel                    NaN  1.000000\n",
       "Xoloitzcuintli                            NaN  1.000000\n",
       "\n",
       "[249 rows x 2 columns]"
      ]
     },
     "execution_count": 286,
     "metadata": {},
     "output_type": "execute_result"
    }
   ],
   "source": [
    "# Soma said we should not do this number. Instead he provided this code.\n",
    "\n",
    "new_frames.groupby('Primary Breed')['Spayed or Neut'].value_counts(normalize=True).reset_index(name='rate').pivot(index='Primary Breed', values='rate', columns='Spayed or Neut').sort_values(by='No', ascending=False)\n",
    "\n"
   ]
  },
  {
   "cell_type": "markdown",
   "metadata": {},
   "source": [
    "**Make a new column called monochrome that is True for any animal that only has black, white or grey as one of its colors. How many animals are monochrome?**"
   ]
  },
  {
   "cell_type": "code",
   "execution_count": 311,
   "metadata": {},
   "outputs": [
    {
     "data": {
      "text/plain": [
       "True     15792\n",
       "False    13781\n",
       "Name: monochrome, dtype: int64"
      ]
     },
     "execution_count": 311,
     "metadata": {},
     "output_type": "execute_result"
    }
   ],
   "source": [
    "# Match many possibilities\n",
    "\n",
    "colors = ['BLACK', 'Black', 'WHITE', 'White', 'GRAY', 'Gray']\n",
    "\n",
    "new_frames['monochrome'] = new_frames[['Animal Dominant Color','Animal Secondary Color','Animal Third Color']].isin(colors)\n",
    "new_frames['monochrome'].value_counts()\n",
    "\n",
    "# new_frames[new_frames['Animal Dominant Color'] == 'Black', 'White', 'Gray']"
   ]
  },
  {
   "cell_type": "markdown",
   "metadata": {},
   "source": [
    "**How many dogs are in each borough? Plot it in a graph.**"
   ]
  },
  {
   "cell_type": "code",
   "execution_count": 325,
   "metadata": {},
   "outputs": [
    {
     "data": {
      "text/plain": [
       "<matplotlib.axes._subplots.AxesSubplot at 0x11479a2e8>"
      ]
     },
     "execution_count": 325,
     "metadata": {},
     "output_type": "execute_result"
    },
    {
     "data": {
      "image/png": "[encoded data removed]",
      "text/plain": [
       "<matplotlib.figure.Figure at 0x112da2668>"
      ]
     },
     "metadata": {},
     "output_type": "display_data"
    }
   ],
   "source": [
    "new_frames['borough'].value_counts().sort_values(ascending=True).plot(kind='barh')\n"
   ]
  },
  {
   "cell_type": "markdown",
   "metadata": {},
   "source": [
    "**Which borough has the highest number of dogs per-capita?**\n",
    "\n",
    "You’ll need to merge in `population_boro.csv`"
   ]
  },
  {
   "cell_type": "code",
   "execution_count": 476,
   "metadata": {},
   "outputs": [],
   "source": [
    "per_capita = pd.read_csv(\"boro_population.csv\", na_values=[\"NaN\", \"Unknown\", \"UNKNOWN\", \"unknown\", \"-999\", \"???\"])"
   ]
  },
  {
   "cell_type": "code",
   "execution_count": 477,
   "metadata": {},
   "outputs": [
    {
     "data": {
      "text/html": [
       "<div>\n",
       "<style>\n",
       "    .dataframe thead tr:only-child th {\n",
       "        text-align: right;\n",
       "    }\n",
       "\n",
       "    .dataframe thead th {\n",
       "        text-align: left;\n",
       "    }\n",
       "\n",
       "    .dataframe tbody tr th {\n",
       "        vertical-align: top;\n",
       "    }\n",
       "</style>\n",
       "<table border=\"1\" class=\"dataframe\">\n",
       "  <thead>\n",
       "    <tr style=\"text-align: right;\">\n",
       "      <th></th>\n",
       "      <th>borough</th>\n",
       "      <th>population</th>\n",
       "      <th>area_sqmi</th>\n",
       "    </tr>\n",
       "  </thead>\n",
       "  <tbody>\n",
       "    <tr>\n",
       "      <th>0</th>\n",
       "      <td>Manhattan</td>\n",
       "      <td>1644518</td>\n",
       "      <td>23</td>\n",
       "    </tr>\n",
       "    <tr>\n",
       "      <th>1</th>\n",
       "      <td>Bronx</td>\n",
       "      <td>1455444</td>\n",
       "      <td>42</td>\n",
       "    </tr>\n",
       "    <tr>\n",
       "      <th>2</th>\n",
       "      <td>Brooklyn</td>\n",
       "      <td>2636735</td>\n",
       "      <td>71</td>\n",
       "    </tr>\n",
       "    <tr>\n",
       "      <th>3</th>\n",
       "      <td>Queens</td>\n",
       "      <td>2339150</td>\n",
       "      <td>109</td>\n",
       "    </tr>\n",
       "    <tr>\n",
       "      <th>4</th>\n",
       "      <td>Staten Island</td>\n",
       "      <td>474558</td>\n",
       "      <td>59</td>\n",
       "    </tr>\n",
       "  </tbody>\n",
       "</table>\n",
       "</div>"
      ],
      "text/plain": [
       "         borough  population  area_sqmi\n",
       "0      Manhattan     1644518         23\n",
       "1          Bronx     1455444         42\n",
       "2       Brooklyn     2636735         71\n",
       "3         Queens     2339150        109\n",
       "4  Staten Island      474558         59"
      ]
     },
     "execution_count": 477,
     "metadata": {},
     "output_type": "execute_result"
    }
   ],
   "source": [
    "per_capita"
   ]
  },
  {
   "cell_type": "code",
   "execution_count": 478,
   "metadata": {},
   "outputs": [
    {
     "data": {
      "text/plain": [
       "borough\n",
       "Bronx            1455444\n",
       "Brooklyn         2636735\n",
       "Manhattan        1644518\n",
       "Queens           2339150\n",
       "Staten Island     474558\n",
       "Name: population, dtype: int64"
      ]
     },
     "execution_count": 478,
     "metadata": {},
     "output_type": "execute_result"
    }
   ],
   "source": [
    "populations = per_capita.groupby('borough')['population'].mean()\n",
    "populations.sort_index()"
   ]
  },
  {
   "cell_type": "code",
   "execution_count": 479,
   "metadata": {},
   "outputs": [
    {
     "data": {
      "text/plain": [
       "Bronx            1\n",
       "Brooklyn         1\n",
       "Manhattan        1\n",
       "Queens           1\n",
       "Staten Island    1\n",
       "Name: borough, dtype: int64"
      ]
     },
     "execution_count": 479,
     "metadata": {},
     "output_type": "execute_result"
    }
   ],
   "source": [
    "dogs_per_capita = per_capita['borough'].value_counts()\n",
    "dogs_per_capita.sort_index()"
   ]
  },
  {
   "cell_type": "code",
   "execution_count": 483,
   "metadata": {},
   "outputs": [
    {
     "data": {
      "text/plain": [
       "Staten Island    2.107224e-06\n",
       "Bronx            6.870756e-07\n",
       "Manhattan        6.080809e-07\n",
       "Queens           4.275057e-07\n",
       "Brooklyn         3.792569e-07\n",
       "dtype: float64"
      ]
     },
     "execution_count": 483,
     "metadata": {},
     "output_type": "execute_result"
    }
   ],
   "source": [
    "numbers = dogs_per_capita / populations\n",
    "numbers = numbers.sort_values(ascending=False)\n",
    "numbers"
   ]
  },
  {
   "cell_type": "markdown",
   "metadata": {},
   "source": [
    "**Make a bar graph of the top 5 breeds in each borough.**\n",
    "\n",
    "How do you groupby and then only take the top X number? You **really** should ask me, because it's kind of crazy."
   ]
  },
  {
   "cell_type": "code",
   "execution_count": 486,
   "metadata": {},
   "outputs": [
    {
     "data": {
      "text/plain": [
       "<matplotlib.axes._subplots.AxesSubplot at 0x111c922b0>"
      ]
     },
     "execution_count": 486,
     "metadata": {},
     "output_type": "execute_result"
    },
    {
     "data": {
      "image/png": "[encoded data removed]",
      "text/plain": [
       "<matplotlib.figure.Figure at 0x114f89e80>"
      ]
     },
     "metadata": {},
     "output_type": "display_data"
    }
   ],
   "source": [
    "top_breeds = new_frames[new_frames['Primary Breed'] != 'Unknown']\n",
    "top_breeds = top_breeds.groupby('borough')['Primary Breed'].value_counts().groupby(level=0).head(5)\n",
    "top_breeds.sort_values(ascending = True).plot(kind='barh')"
   ]
  },
  {
   "cell_type": "markdown",
   "metadata": {},
   "source": [
    "**What percentage of dogs are not guard dogs?**"
   ]
  },
  {
   "cell_type": "code",
   "execution_count": 487,
   "metadata": {},
   "outputs": [
    {
     "data": {
      "text/plain": [
       "No     99.918146\n",
       "Yes     0.081854\n",
       "Name: Guard or Trained, dtype: float64"
      ]
     },
     "execution_count": 487,
     "metadata": {},
     "output_type": "execute_result"
    }
   ],
   "source": [
    "new_frames['Guard or Trained'].value_counts(normalize=True)*100"
   ]
  }
 ],
 "metadata": {
  "kernelspec": {
   "display_name": "Python 3",
   "language": "python",
   "name": "python3"
  },
  "language_info": {
   "codemirror_mode": {
    "name": "ipython",
    "version": 3
   },
   "file_extension": ".py",
   "mimetype": "text/x-python",
   "name": "python",
   "nbconvert_exporter": "python",
   "pygments_lexer": "ipython3",
   "version": "3.6.1"
  }
 },
 "nbformat": 4,
 "nbformat_minor": 2
}
