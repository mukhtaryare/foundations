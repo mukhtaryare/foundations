{
 "cells": [
  {
   "cell_type": "code",
   "execution_count": 1,
   "metadata": {},
   "outputs": [],
   "source": [
    "import requests\n",
    "from bs4 import BeautifulSoup\n",
    "from datetime import datetime\n",
    "import time\n",
    "from twilio.rest import Client"
   ]
  },
  {
   "cell_type": "code",
   "execution_count": 2,
   "metadata": {
    "collapsed": true
   },
   "outputs": [],
   "source": [
    "# https://api.darksky.net/forecast/[key]/[latitude],[longitude] \n",
    "# St. Paul, MN\n",
    "   \n",
    "url = \"https://api.darksky.net/forecast/6a485ea472a83b9b0578bffa3c10d9bb/44.955173,-93.101941\"\n",
    "response = requests.get(url) \n",
    "data = response.json()"
   ]
  },
  {
   "cell_type": "code",
   "execution_count": 3,
   "metadata": {},
   "outputs": [
    {
     "name": "stdout",
     "output_type": "stream",
     "text": [
      "America/Chicago\n"
     ]
    }
   ],
   "source": [
    "print(data[\"timezone\"])"
   ]
  },
  {
   "cell_type": "code",
   "execution_count": 7,
   "metadata": {},
   "outputs": [
    {
     "data": {
      "text/plain": [
       "{'current_temp': 84.52,\n",
       " 'max_temp': 85.93,\n",
       " 'min_temp': 72.02,\n",
       " 'rain': 0.0125,\n",
       " 'rain_warning': \" It's going to rain so bring your umbrella!\",\n",
       " 'summary': 'Clear',\n",
       " 'temp_feel': 'warm'}"
      ]
     },
     "execution_count": 7,
     "metadata": {},
     "output_type": "execute_result"
    }
   ],
   "source": [
    "# Right now it is TEMPERATURE degrees out and SUMMARY. \n",
    "# Today will be TEMP_FEELING with a high of HIGH_TEMP and a low of LOW_TEMP. RAIN_WARNING.\n",
    "\n",
    "temp = {\n",
    "    'current_temp': data['currently']['temperature'],\n",
    "    'summary': data['currently']['summary'],\n",
    "    'temp_feel': '',\n",
    "    'max_temp': data['daily']['data'][0]['temperatureMax'],\n",
    "    'min_temp': data['daily']['data'][0]['temperatureMin'],\n",
    "    'rain': data['daily']['data'][0]['precipIntensity'],\n",
    "    'rain_warning': ''\n",
    "}\n",
    "\n",
    "if temp['max_temp'] > 90:\n",
    "    temp['temp_feel'] = 'hot'\n",
    "elif temp['max_temp'] > 70:\n",
    "    temp['temp_feel'] = 'warm'\n",
    "elif temp['max_temp'] > 50:\n",
    "    temp['temp_feel'] = 'moderate'\n",
    "else:\n",
    "    temp['temp_feel'] = 'cold'\n",
    "\n",
    "if temp['rain'] > 0:\n",
    "    temp['rain_warning'] = ' It\\'s going to rain so bring your umbrella!'\n",
    "\n",
    "temp"
   ]
  },
  {
   "cell_type": "code",
   "execution_count": 6,
   "metadata": {},
   "outputs": [],
   "source": [
    "# Right now it is TEMPERATURE degrees out and SUMMARY. \n",
    "#Today will be TEMP_FEELING with a high of HIGH_TEMP and a low of LOW_TEMP. RAIN_WARNING.\n",
    "\n",
    "temp = 'Right now the temperature in St. Paul is ' + str(temp['current_temp']) + ' degrees and ' + temp['summary'] + '. Today will be ' + temp['temp_feel'] + ' with a high of ' + str(temp['max_temp']) + ' and a low of ' + str(temp['min_temp']) + ' degrees.' + temp['rain_warning']\n",
    "\n",
    "account_sid = ''\n",
    "auth_token  = ''\n",
    "client = Client(account_sid, auth_token)\n",
    "message = client.messages.create(\n",
    "    to = '+1',\n",
    "    from_ = '+1',\n",
    "    body = temp\n",
    ")"
   ]
  }
 ],
 "metadata": {
  "kernelspec": {
   "display_name": "Python 3",
   "language": "python",
   "name": "python3"
  },
  "language_info": {
   "codemirror_mode": {
    "name": "ipython",
    "version": 3
   },
   "file_extension": ".py",
   "mimetype": "text/x-python",
   "name": "python",
   "nbconvert_exporter": "python",
   "pygments_lexer": "ipython3",
   "version": "3.6.1"
  }
 },
 "nbformat": 4,
 "nbformat_minor": 2
}
