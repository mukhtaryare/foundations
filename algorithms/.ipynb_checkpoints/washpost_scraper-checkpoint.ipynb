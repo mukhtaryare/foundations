{
 "cells": [
  {
   "cell_type": "code",
   "execution_count": 66,
   "metadata": {},
   "outputs": [
    {
     "data": {
      "text/plain": [
       "<Response [200]>"
      ]
     },
     "execution_count": 66,
     "metadata": {},
     "output_type": "execute_result"
    }
   ],
   "source": [
    "import requests\n",
    "from bs4 import BeautifulSoup\n",
    "import pandas as pd\n",
    "import time\n",
    "\n",
    "response = requests.get(\"https://www.washingtonpost.com/\")\n",
    "doc = BeautifulSoup(response.text, 'html.parser')\n",
    "stories = doc.find_all(\"div\", { 'class': 'border-top-off' })\n",
    "\n",
    "all_stories = []\n",
    "# Grab their headlines and bylines\n",
    "for story in stories:\n",
    "    # Grab all of the h2's inside of the story\n",
    "    headline = story.find('div', {'class': 'headline'})\n",
    "    # If a headline exists, then process the rest!\n",
    "    if headline:\n",
    "        # They're COVERED in whitespace\n",
    "        headline_text = headline.text.strip()\n",
    "        # Make a dictionary with the headline\n",
    "        this_story = { 'headline': headline_text }\n",
    "        link = story.find('a', href=True)\n",
    "        summary = story.find('div', {'class': 'blurb'})\n",
    "        byline = story.find('li', {'class': 'byline'})\n",
    "        if link:\n",
    "            link_text = link.text.strip()\n",
    "            this_story['link'] = link['href']\n",
    "        if summary:\n",
    "            summary_text = summary.text.strip()\n",
    "            this_story['summary'] = summary_text\n",
    "        # Not all of them have a byline\n",
    "        if byline:\n",
    "            byline_text = byline.text.strip()\n",
    "            this_story['byline'] = byline_text\n",
    "    \n",
    "        all_stories.append(this_story)\n",
    "\n",
    "text = \"\"\n",
    "\n",
    "for story in all_stories: \n",
    "    text = text + story['headline'] + \"\\n\"\n",
    "    if 'byline' in story:\n",
    "        text = text + story['byline'] + \"\\n\"\n",
    "    if 'summary' in story:\n",
    "        text = text + story['summary'] + \"\\n\"\n",
    "    text = text + story['link'] + \"\\n\"\n",
    "    text = text + \"\\n\\n\"\n",
    "text\n",
    "\n",
    "# stories_df = pd.DataFrame(all_stories)\n",
    "# stories_df.to_csv(\"washpost-data.csv\")\n",
    "\n",
    "# datestring = time.strftime(\"%Y-%m-%d-%H-%M\")\n",
    "\n",
    "# filename = \"washpost-data-\" + datestring + \".csv\"\n",
    "# stories_df.to_csv(filename, index=False)\n",
    "\n",
    "# when to use post: when you are sumbiting a form on the web \n",
    "\n",
    "requests.post(\n",
    "    \"https://api.mailgun.net/v3/XXXXXXXX.mailgun.org/messages\",\n",
    "    auth=(\"api\", \"key-XXXXX\"),\n",
    "    data={\"from\": \"postmaster@XXXXXXX.mailgun.org\",\n",
    "          \"to\": [\"mukhtaryare@gmail.com\"],\n",
    "          \"subject\": \"Latest news from The Washington Post \" + time.strftime(\"%Y-%m-%d-%H-%M\"),\n",
    "          \"text\": text\n",
    "         }\n",
    ")"
   ]
  },
  {
   "cell_type": "code",
   "execution_count": 27,
   "metadata": {},
   "outputs": [
    {
     "data": {
      "text/plain": [
       "[{'byline': 'By Abby Phillip, Thomas Gibbons-Neff and Dan Lamothe',\n",
       "  'headline': 'Trump backs ban on transgender people in U.S. military',\n",
       "  'link': 'https://www.washingtonpost.com/news/post-politics/wp/2017/07/26/trump-announces-ban-on-transgender-people-in-u-s-military/?utm_term=.b9639de8178d',\n",
       "  'summary': 'President Trump announced on Twitter that he will ban transgender people from serving in the military in any capacity, reversing an Obama administration decision to allow them to serve openly and drawing dismay and anger from advocates.'},\n",
       " {'byline': \"By Mike DeBonis and Ed O'Keefe\",\n",
       "  'headline': 'As Democrats slam ban, GOP is caught by surprise',\n",
       "  'link': 'https://www.washingtonpost.com/powerpost/hill-democrats-slam-trumps-military-transgender-ban-while-gop-is-caught-by-surprise/2017/07/26/288bf3ae-7212-11e7-8f39-eeb7d3a2d304_story.html',\n",
       "  'summary': 'Senate Armed Services Chairman John McCain said it was “yet another example of why major policy announcements should not be made via Twitter.”'},\n",
       " {'byline': 'By Aaron Blake',\n",
       "  'headline': 'Why Trump’s transgender military ban should frighten the GOP',\n",
       "  'link': 'https://www.washingtonpost.com/news/the-fix/wp/2017/07/26/why-trumps-decision-to-ban-transgender-people-from-the-military-should-frighten-republicans/',\n",
       "  'summary': \"Some White House officials suggest President Trump's ban could be used as a political wedge. And it's not difficult to see an embattled president believing the same.\"},\n",
       " {'byline': 'By Kelsey Snell, Juliet Eilperin and Sean Sullivan',\n",
       "  'headline': 'Senate rejects measure to repeal much of the Affordable Care Act',\n",
       "  'link': 'https://www.washingtonpost.com/powerpost/senate-embarks-on-new-round-of-voting-to-peel-back-affordable-care-act/2017/07/26/a7206f62-71e8-11e7-9eac-d56bd5568db8_story.html',\n",
       "  'summary': 'Senators are hoping to produce some sort of legislation that could garner enough support to serve as the basis of negotiations with the House.'},\n",
       " {'headline': 'What is the Senate GOP trying to pass and why is it so complicated?',\n",
       "  'link': 'https://www.washingtonpost.com/powerpost/5-things-to-know-about-the-senates-bid-to-repeal-the-aca/2017/07/26/97c08b9e-7222-11e7-8f39-eeb7d3a2d304_story.html'},\n",
       " {'headline': \"The Health 202: GOP's Obamacare rollback quest is about to get skinny\",\n",
       "  'link': 'https://www.washingtonpost.com/news/powerpost/paloma/the-health-202/2017/07/26/the-health-202-gop-s-obamacare-rollback-quest-is-about-to-get-skinny/5977a08930fb043679543241/'},\n",
       " {'byline': 'By Matt Zapotosky and Devlin Barrett',\n",
       "  'headline': 'Trump launches new attacks on Sessions',\n",
       "  'link': 'https://www.washingtonpost.com/world/national-security/trump-launches-new-attacks-on-sessions/2017/07/26/e2e10a8e-720b-11e7-8839-ec48ec4cae25_story.html',\n",
       "  'summary': 'The president took to Twitter to question why his attorney general hasn’t replaced the acting FBI director — which Donald Trump himself can do.'},\n",
       " {'byline': 'By Jena McGregor',\n",
       "  'headline': 'Trump’s speech to the Boy Scouts could put AT&T’s CEO in a tricky spot',\n",
       "  'link': 'https://www.washingtonpost.com/news/on-leadership/wp/2017/07/25/how-trumps-speech-to-the-boy-scouts-could-put-atts-ceo-in-a-tricky-spot/',\n",
       "  'summary': \"Randall Stephenson, national president of the Boy Scouts, is awaiting word from the Justice Department on his company's proposed takeover of Time Warner as parents and former Scouts have\\xa0called\\xa0for an apology about the president's speech.\"},\n",
       " {'byline': 'By David Weigel',\n",
       "  'headline': 'Voter by voter, GOP super PAC tries to separate the party from Trump',\n",
       "  'link': 'https://www.washingtonpost.com/powerpost/voter-by-voter-gop-super-pac-tries-to-separate-the-party-from-trump/2017/07/26/b590198a-7099-11e7-8839-ec48ec4cae25_story.html',\n",
       "  'summary': 'The Congressional Leadership Fund, a deep-pocketed super PAC backed by House Speaker Paul Ryan (R.Wisc.), is an ambitious bet that the Republican House majority can be spared from a Trump midterm backlash.'},\n",
       " {'byline': 'By Danielle Paquette, Todd C. Frankel and Hamza Shaban',\n",
       "  'headline': 'Foxconn to announce new factory in Wisconsin in much-needed win for Trump and Scott Walker',\n",
       "  'link': 'https://www.washingtonpost.com/news/wonk/wp/2017/07/26/foxconn-to-announce-new-factory-in-wisconsin-in-much-needed-win-for-trump-and-scott-walker/',\n",
       "  'summary': \"One of the world's largest electronics companies will manufacture flat-screen displays in House Speaker Paul Ryan's home district.\"},\n",
       " {'byline': 'By Cleve R. Wootson Jr.',\n",
       "  'headline': 'Police shot and killed a man while trying to serve a warrant — at the wrong house',\n",
       "  'link': 'https://www.washingtonpost.com/news/post-nation/wp/2017/07/26/police-shot-and-killed-a-man-while-trying-to-serve-a-warrant-at-the-wrong-house/',\n",
       "  'summary': \"The victim's wife and neighbors dispute the claim that he was holding a gun and say that they didn't hear officers tell him multiple times to drop the gun before they opened fire.\"},\n",
       " {'byline': 'By Spencer S. Hsu',\n",
       "  'headline': 'Congressional IT staffer charged with home equity loan fraud',\n",
       "  'link': 'https://www.washingtonpost.com/local/public-safety/congressional-it-staffer-charged-with-home-equity-loan-fraud/2017/07/26/f5f402e8-71a7-11e7-9eac-d56bd5568db8_story.html',\n",
       "  'summary': 'Imran Awan, who had most recently worked for Rep. Debbie Wasserman Schultz (D-Fla.), pleaded not guilty after his arrest Monday at Dulles International Airport.'}]"
      ]
     },
     "execution_count": 27,
     "metadata": {},
     "output_type": "execute_result"
    }
   ],
   "source": [
    "all_stories"
   ]
  },
  {
   "cell_type": "code",
   "execution_count": 65,
   "metadata": {},
   "outputs": [
    {
     "data": {
      "text/plain": [
       "\"Trump backs ban on transgender people in U.S. military\\nBy Abby Phillip, Thomas Gibbons-Neff and Dan Lamothe\\nPresident Trump announced on Twitter that he will ban transgender people from serving in the military in any capacity, reversing an Obama administration decision to allow them to serve openly and drawing dismay and anger from advocates.\\nhttps://www.washingtonpost.com/news/post-politics/wp/2017/07/26/trump-announces-ban-on-transgender-people-in-u-s-military/?utm_term=.b9639de8178d\\n\\n\\nAs Democrats slam ban, GOP is caught by surprise\\nBy Mike DeBonis and Ed O'Keefe\\nSenate Armed Services Chairman John McCain said it was “yet another example of why major policy announcements should not be made via Twitter.”\\nhttps://www.washingtonpost.com/powerpost/hill-democrats-slam-trumps-military-transgender-ban-while-gop-is-caught-by-surprise/2017/07/26/288bf3ae-7212-11e7-8f39-eeb7d3a2d304_story.html\\n\\n\\nWhy Trump’s transgender military ban should frighten the GOP\\nBy Aaron Blake\\nSome White House officials suggest President Trump's ban could be used as a political wedge. And it's not difficult to see an embattled president believing the same.\\nhttps://www.washingtonpost.com/news/the-fix/wp/2017/07/26/why-trumps-decision-to-ban-transgender-people-from-the-military-should-frighten-republicans/\\n\\n\\nSenate rejects measure to repeal much of the Affordable Care Act\\nBy Kelsey Snell, Juliet Eilperin and Sean Sullivan\\nSenators are hoping to produce some sort of legislation that could garner enough support to serve as the basis of negotiations with the House.\\nhttps://www.washingtonpost.com/powerpost/senate-embarks-on-new-round-of-voting-to-peel-back-affordable-care-act/2017/07/26/a7206f62-71e8-11e7-9eac-d56bd5568db8_story.html\\n\\n\\nWhat is the Senate GOP trying to pass and why is it so complicated?\\nhttps://www.washingtonpost.com/powerpost/5-things-to-know-about-the-senates-bid-to-repeal-the-aca/2017/07/26/97c08b9e-7222-11e7-8f39-eeb7d3a2d304_story.html\\n\\n\\nThe Health 202: GOP's Obamacare rollback quest is about to get skinny\\nhttps://www.washingtonpost.com/news/powerpost/paloma/the-health-202/2017/07/26/the-health-202-gop-s-obamacare-rollback-quest-is-about-to-get-skinny/5977a08930fb043679543241/\\n\\n\\nTrump launches new attacks on Sessions\\nBy Matt Zapotosky and Devlin Barrett\\nThe president took to Twitter to question why his attorney general hasn’t replaced the acting FBI director — which Donald Trump himself can do.\\nhttps://www.washingtonpost.com/world/national-security/trump-launches-new-attacks-on-sessions/2017/07/26/e2e10a8e-720b-11e7-8839-ec48ec4cae25_story.html\\n\\n\\nTrump’s speech to the Boy Scouts could put AT&T’s CEO in a tricky spot\\nBy Jena McGregor\\nRandall Stephenson, national president of the Boy Scouts, is awaiting word from the Justice Department on his company's proposed takeover of Time Warner as parents and former Scouts have\\xa0called\\xa0for an apology about the president's speech.\\nhttps://www.washingtonpost.com/news/on-leadership/wp/2017/07/25/how-trumps-speech-to-the-boy-scouts-could-put-atts-ceo-in-a-tricky-spot/\\n\\n\\nVoter by voter, GOP super PAC tries to separate the party from Trump\\nBy David Weigel\\nThe Congressional Leadership Fund, a deep-pocketed super PAC backed by House Speaker Paul Ryan (R.Wisc.), is an ambitious bet that the Republican House majority can be spared from a Trump midterm backlash.\\nhttps://www.washingtonpost.com/powerpost/voter-by-voter-gop-super-pac-tries-to-separate-the-party-from-trump/2017/07/26/b590198a-7099-11e7-8839-ec48ec4cae25_story.html\\n\\n\\nFoxconn to announce new factory in Wisconsin in much-needed win for Trump and Scott Walker\\nBy Danielle Paquette, Todd C. Frankel and Hamza Shaban\\nOne of the world's largest electronics companies will manufacture flat-screen displays in House Speaker Paul Ryan's home district.\\nhttps://www.washingtonpost.com/news/wonk/wp/2017/07/26/foxconn-to-announce-new-factory-in-wisconsin-in-much-needed-win-for-trump-and-scott-walker/\\n\\n\\nPolice shot and killed a man while trying to serve a warrant — at the wrong house\\nBy Cleve R. Wootson Jr.\\nThe victim's wife and neighbors dispute the claim that he was holding a gun and say that they didn't hear officers tell him multiple times to drop the gun before they opened fire.\\nhttps://www.washingtonpost.com/news/post-nation/wp/2017/07/26/police-shot-and-killed-a-man-while-trying-to-serve-a-warrant-at-the-wrong-house/\\n\\n\\nCongressional IT staffer charged with home equity loan fraud\\nBy Spencer S. Hsu\\nImran Awan, who had most recently worked for Rep. Debbie Wasserman Schultz (D-Fla.), pleaded not guilty after his arrest Monday at Dulles International Airport.\\nhttps://www.washingtonpost.com/local/public-safety/congressional-it-staffer-charged-with-home-equity-loan-fraud/2017/07/26/f5f402e8-71a7-11e7-9eac-d56bd5568db8_story.html\\n\\n\\n\""
      ]
     },
     "execution_count": 65,
     "metadata": {},
     "output_type": "execute_result"
    }
   ],
   "source": [
    "text = \"\"\n",
    "\n",
    "for story in all_stories: \n",
    "    text = text + story['headline'] + \"\\n\"\n",
    "    if 'byline' in story:\n",
    "        text = text + story['byline'] + \"\\n\"\n",
    "    if 'summary' in story:\n",
    "        text = text + story['summary'] + \"\\n\"\n",
    "    text = text + story['link'] + \"\\n\"\n",
    "    text = text + \"\\n\\n\"\n",
    "text\n",
    "    \n",
    "#     if 'summary' in story:\n",
    "#         print(story['summary'])\n",
    "#     if 'byline' in story:\n",
    "#         print(story['byline'])\n",
    "#     print(story['link'])\n",
    "    \n",
    "    \n",
    "#     my_string = story['headline'] + story['byline'] + story['summary'] + story['link']\n",
    "    \n",
    "# my_string"
   ]
  },
  {
   "cell_type": "code",
   "execution_count": null,
   "metadata": {
    "collapsed": true
   },
   "outputs": [],
   "source": [
    "for key in mydictionary:\n",
    "    print \"key: %s , value: %s\" % (key, mydictionary[key])"
   ]
  },
  {
   "cell_type": "code",
   "execution_count": 50,
   "metadata": {},
   "outputs": [
    {
     "ename": "TypeError",
     "evalue": "string indices must be integers",
     "output_type": "error",
     "traceback": [
      "\u001b[0;31m---------------------------------------------------------------------------\u001b[0m",
      "\u001b[0;31mTypeError\u001b[0m                                 Traceback (most recent call last)",
      "\u001b[0;32m<ipython-input-50-4cf107f39f6b>\u001b[0m in \u001b[0;36m<module>\u001b[0;34m()\u001b[0m\n\u001b[0;32m----> 1\u001b[0;31m \u001b[0mstory\u001b[0m \u001b[0;34m=\u001b[0m \u001b[0mstory\u001b[0m\u001b[0;34m[\u001b[0m\u001b[0;34m'headline'\u001b[0m\u001b[0;34m]\u001b[0m \u001b[0;34m+\u001b[0m \u001b[0mstory\u001b[0m\u001b[0;34m[\u001b[0m\u001b[0;34m'summary'\u001b[0m\u001b[0;34m]\u001b[0m \u001b[0;34m+\u001b[0m \u001b[0mstory\u001b[0m\u001b[0;34m[\u001b[0m\u001b[0;34m'byline'\u001b[0m\u001b[0;34m]\u001b[0m \u001b[0;34m+\u001b[0m \u001b[0mstory\u001b[0m\u001b[0;34m[\u001b[0m\u001b[0;34m'link'\u001b[0m\u001b[0;34m]\u001b[0m\u001b[0;34m\u001b[0m\u001b[0m\n\u001b[0m\u001b[1;32m      2\u001b[0m \u001b[0mstory\u001b[0m\u001b[0;34m\u001b[0m\u001b[0m\n",
      "\u001b[0;31mTypeError\u001b[0m: string indices must be integers"
     ]
    }
   ],
   "source": [
    "# story = story['headline'] + story['summary'] + story['byline'] + story['link']\n",
    "# story"
   ]
  },
  {
   "cell_type": "code",
   "execution_count": null,
   "metadata": {
    "collapsed": true
   },
   "outputs": [],
   "source": []
  },
  {
   "cell_type": "code",
   "execution_count": null,
   "metadata": {
    "collapsed": true
   },
   "outputs": [],
   "source": []
  }
 ],
 "metadata": {
  "kernelspec": {
   "display_name": "Python 3",
   "language": "python",
   "name": "python3"
  },
  "language_info": {
   "codemirror_mode": {
    "name": "ipython",
    "version": 3
   },
   "file_extension": ".py",
   "mimetype": "text/x-python",
   "name": "python",
   "nbconvert_exporter": "python",
   "pygments_lexer": "ipython3",
   "version": "3.6.1"
  }
 },
 "nbformat": 4,
 "nbformat_minor": 2
}
