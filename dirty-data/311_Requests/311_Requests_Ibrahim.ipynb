{
 "cells": [
  {
   "cell_type": "markdown",
   "metadata": {},
   "source": [
    "# Exercise: 311 Requests\n",
    "\n",
    "#### Summary\n",
    "\n",
    "In NYC, you can call 311 with *anything* about the city - questions, complaints, etc. We'll be analyzing requests from 2015-2016 from the Department of Transportation and NYPD.\n",
    "\n",
    "#### Data Source(s)\n",
    "\n",
    "Filtered from full set, https://nycopendata.socrata.com/Social-Services/311-Service-Requests-from-2010-to-Present/erm2-nwe9\n",
    "\n",
    "#### Files\n",
    "\n",
    "- `data/311_Service_Requests_from_2010_to_Present.csv`, about 1.8 million rows (over 1GB of data)\n",
    "\n",
    "#### Data dictionary\n",
    "\n",
    "Visit [this page](https://nycopendata.socrata.com/Social-Services/311-Service-Requests-from-2010-to-Present/erm2-nwe9#schema-preview) and click 'Show more' on the bottom right of the list (53 columns).\n",
    "\n",
    "#### Skills\n",
    "\n",
    "- Opening large files\n",
    "- Time"
   ]
  },
  {
   "cell_type": "markdown",
   "metadata": {},
   "source": [
    "## Opening the file\n",
    "\n",
    "It's a big one! If your computer is slow or you only have 2GB of RAM, you might want to specify `nrows=50000` (or less). Increase the number until it takes around 20 seconds, maybe!"
   ]
  },
  {
   "cell_type": "code",
   "execution_count": 1,
   "metadata": {},
   "outputs": [
    {
     "name": "stderr",
     "output_type": "stream",
     "text": [
      "<string>:2: DtypeWarning: Columns (17,47) have mixed types. Specify dtype option on import or set low_memory=False.\n"
     ]
    },
    {
     "name": "stdout",
     "output_type": "stream",
     "text": [
      "CPU times: user 29.8 s, sys: 6.44 s, total: 36.3 s\n",
      "Wall time: 37 s\n"
     ]
    }
   ],
   "source": [
    "%%time\n",
    "%matplotlib inline\n",
    "import pandas as pd\n",
    "df = pd.read_csv(\"data/311_Service_Requests_from_2010_to_Present.csv\")"
   ]
  },
  {
   "cell_type": "code",
   "execution_count": 2,
   "metadata": {},
   "outputs": [
    {
     "data": {
      "text/html": [
       "<div>\n",
       "<style>\n",
       "    .dataframe thead tr:only-child th {\n",
       "        text-align: right;\n",
       "    }\n",
       "\n",
       "    .dataframe thead th {\n",
       "        text-align: left;\n",
       "    }\n",
       "\n",
       "    .dataframe tbody tr th {\n",
       "        vertical-align: top;\n",
       "    }\n",
       "</style>\n",
       "<table border=\"1\" class=\"dataframe\">\n",
       "  <thead>\n",
       "    <tr style=\"text-align: right;\">\n",
       "      <th></th>\n",
       "      <th>Unique Key</th>\n",
       "      <th>Created Date</th>\n",
       "      <th>Closed Date</th>\n",
       "      <th>Agency</th>\n",
       "      <th>Agency Name</th>\n",
       "      <th>Complaint Type</th>\n",
       "      <th>Descriptor</th>\n",
       "      <th>Location Type</th>\n",
       "      <th>Incident Zip</th>\n",
       "      <th>Incident Address</th>\n",
       "      <th>...</th>\n",
       "      <th>Bridge Highway Name</th>\n",
       "      <th>Bridge Highway Direction</th>\n",
       "      <th>Road Ramp</th>\n",
       "      <th>Bridge Highway Segment</th>\n",
       "      <th>Garage Lot Name</th>\n",
       "      <th>Ferry Direction</th>\n",
       "      <th>Ferry Terminal Name</th>\n",
       "      <th>Latitude</th>\n",
       "      <th>Longitude</th>\n",
       "      <th>Location</th>\n",
       "    </tr>\n",
       "  </thead>\n",
       "  <tbody>\n",
       "    <tr>\n",
       "      <th>0</th>\n",
       "      <td>31463990</td>\n",
       "      <td>09/04/2015 10:55:25 PM</td>\n",
       "      <td>09/05/2015 02:06:54 AM</td>\n",
       "      <td>NYPD</td>\n",
       "      <td>New York City Police Department</td>\n",
       "      <td>Noise - Street/Sidewalk</td>\n",
       "      <td>Loud Music/Party</td>\n",
       "      <td>Street/Sidewalk</td>\n",
       "      <td>10460.0</td>\n",
       "      <td>1110 WYATT STREET</td>\n",
       "      <td>...</td>\n",
       "      <td>NaN</td>\n",
       "      <td>NaN</td>\n",
       "      <td>NaN</td>\n",
       "      <td>NaN</td>\n",
       "      <td>NaN</td>\n",
       "      <td>NaN</td>\n",
       "      <td>NaN</td>\n",
       "      <td>40.839306</td>\n",
       "      <td>-73.877301</td>\n",
       "      <td>(40.83930620730105, -73.8773009180668)</td>\n",
       "    </tr>\n",
       "    <tr>\n",
       "      <th>1</th>\n",
       "      <td>31463991</td>\n",
       "      <td>09/04/2015 01:53:45 PM</td>\n",
       "      <td>09/04/2015 06:37:24 PM</td>\n",
       "      <td>NYPD</td>\n",
       "      <td>New York City Police Department</td>\n",
       "      <td>Noise - Street/Sidewalk</td>\n",
       "      <td>Loud Music/Party</td>\n",
       "      <td>Street/Sidewalk</td>\n",
       "      <td>10031.0</td>\n",
       "      <td>NaN</td>\n",
       "      <td>...</td>\n",
       "      <td>NaN</td>\n",
       "      <td>NaN</td>\n",
       "      <td>NaN</td>\n",
       "      <td>NaN</td>\n",
       "      <td>NaN</td>\n",
       "      <td>NaN</td>\n",
       "      <td>NaN</td>\n",
       "      <td>40.830222</td>\n",
       "      <td>-73.947684</td>\n",
       "      <td>(40.830222460372724, -73.94768359377827)</td>\n",
       "    </tr>\n",
       "    <tr>\n",
       "      <th>2</th>\n",
       "      <td>31463992</td>\n",
       "      <td>09/04/2015 09:15:43 PM</td>\n",
       "      <td>09/04/2015 10:32:01 PM</td>\n",
       "      <td>NYPD</td>\n",
       "      <td>New York City Police Department</td>\n",
       "      <td>Noise - Street/Sidewalk</td>\n",
       "      <td>Loud Music/Party</td>\n",
       "      <td>Street/Sidewalk</td>\n",
       "      <td>10031.0</td>\n",
       "      <td>545 WEST 144 STREET</td>\n",
       "      <td>...</td>\n",
       "      <td>NaN</td>\n",
       "      <td>NaN</td>\n",
       "      <td>NaN</td>\n",
       "      <td>NaN</td>\n",
       "      <td>NaN</td>\n",
       "      <td>NaN</td>\n",
       "      <td>NaN</td>\n",
       "      <td>40.825104</td>\n",
       "      <td>-73.949368</td>\n",
       "      <td>(40.825104318551325, -73.94936777115372)</td>\n",
       "    </tr>\n",
       "    <tr>\n",
       "      <th>3</th>\n",
       "      <td>31463993</td>\n",
       "      <td>09/05/2015 01:06:57 AM</td>\n",
       "      <td>09/05/2015 02:26:43 AM</td>\n",
       "      <td>NYPD</td>\n",
       "      <td>New York City Police Department</td>\n",
       "      <td>Noise - Commercial</td>\n",
       "      <td>Loud Music/Party</td>\n",
       "      <td>Club/Bar/Restaurant</td>\n",
       "      <td>11203.0</td>\n",
       "      <td>UTICA AVENUE</td>\n",
       "      <td>...</td>\n",
       "      <td>NaN</td>\n",
       "      <td>NaN</td>\n",
       "      <td>NaN</td>\n",
       "      <td>NaN</td>\n",
       "      <td>NaN</td>\n",
       "      <td>NaN</td>\n",
       "      <td>NaN</td>\n",
       "      <td>40.640965</td>\n",
       "      <td>-73.929232</td>\n",
       "      <td>(40.64096464471428, -73.92923194083798)</td>\n",
       "    </tr>\n",
       "    <tr>\n",
       "      <th>4</th>\n",
       "      <td>31463995</td>\n",
       "      <td>09/04/2015 07:48:25 AM</td>\n",
       "      <td>09/04/2015 05:21:18 PM</td>\n",
       "      <td>NYPD</td>\n",
       "      <td>New York City Police Department</td>\n",
       "      <td>Illegal Parking</td>\n",
       "      <td>Overnight Commercial Storage</td>\n",
       "      <td>Street/Sidewalk</td>\n",
       "      <td>11210.0</td>\n",
       "      <td>GLENWOOD ROAD</td>\n",
       "      <td>...</td>\n",
       "      <td>NaN</td>\n",
       "      <td>NaN</td>\n",
       "      <td>NaN</td>\n",
       "      <td>NaN</td>\n",
       "      <td>NaN</td>\n",
       "      <td>NaN</td>\n",
       "      <td>NaN</td>\n",
       "      <td>40.634384</td>\n",
       "      <td>-73.941525</td>\n",
       "      <td>(40.63438406330588, -73.9415248319131)</td>\n",
       "    </tr>\n",
       "  </tbody>\n",
       "</table>\n",
       "<p>5 rows × 53 columns</p>\n",
       "</div>"
      ],
      "text/plain": [
       "   Unique Key            Created Date             Closed Date Agency  \\\n",
       "0    31463990  09/04/2015 10:55:25 PM  09/05/2015 02:06:54 AM   NYPD   \n",
       "1    31463991  09/04/2015 01:53:45 PM  09/04/2015 06:37:24 PM   NYPD   \n",
       "2    31463992  09/04/2015 09:15:43 PM  09/04/2015 10:32:01 PM   NYPD   \n",
       "3    31463993  09/05/2015 01:06:57 AM  09/05/2015 02:26:43 AM   NYPD   \n",
       "4    31463995  09/04/2015 07:48:25 AM  09/04/2015 05:21:18 PM   NYPD   \n",
       "\n",
       "                       Agency Name           Complaint Type  \\\n",
       "0  New York City Police Department  Noise - Street/Sidewalk   \n",
       "1  New York City Police Department  Noise - Street/Sidewalk   \n",
       "2  New York City Police Department  Noise - Street/Sidewalk   \n",
       "3  New York City Police Department       Noise - Commercial   \n",
       "4  New York City Police Department          Illegal Parking   \n",
       "\n",
       "                     Descriptor        Location Type  Incident Zip  \\\n",
       "0              Loud Music/Party      Street/Sidewalk       10460.0   \n",
       "1              Loud Music/Party      Street/Sidewalk       10031.0   \n",
       "2              Loud Music/Party      Street/Sidewalk       10031.0   \n",
       "3              Loud Music/Party  Club/Bar/Restaurant       11203.0   \n",
       "4  Overnight Commercial Storage      Street/Sidewalk       11210.0   \n",
       "\n",
       "      Incident Address                    ...                     \\\n",
       "0    1110 WYATT STREET                    ...                      \n",
       "1                  NaN                    ...                      \n",
       "2  545 WEST 144 STREET                    ...                      \n",
       "3         UTICA AVENUE                    ...                      \n",
       "4        GLENWOOD ROAD                    ...                      \n",
       "\n",
       "  Bridge Highway Name Bridge Highway Direction Road Ramp  \\\n",
       "0                 NaN                      NaN       NaN   \n",
       "1                 NaN                      NaN       NaN   \n",
       "2                 NaN                      NaN       NaN   \n",
       "3                 NaN                      NaN       NaN   \n",
       "4                 NaN                      NaN       NaN   \n",
       "\n",
       "  Bridge Highway Segment Garage Lot Name Ferry Direction Ferry Terminal Name  \\\n",
       "0                    NaN             NaN             NaN                 NaN   \n",
       "1                    NaN             NaN             NaN                 NaN   \n",
       "2                    NaN             NaN             NaN                 NaN   \n",
       "3                    NaN             NaN             NaN                 NaN   \n",
       "4                    NaN             NaN             NaN                 NaN   \n",
       "\n",
       "    Latitude  Longitude                                  Location  \n",
       "0  40.839306 -73.877301    (40.83930620730105, -73.8773009180668)  \n",
       "1  40.830222 -73.947684  (40.830222460372724, -73.94768359377827)  \n",
       "2  40.825104 -73.949368  (40.825104318551325, -73.94936777115372)  \n",
       "3  40.640965 -73.929232   (40.64096464471428, -73.92923194083798)  \n",
       "4  40.634384 -73.941525    (40.63438406330588, -73.9415248319131)  \n",
       "\n",
       "[5 rows x 53 columns]"
      ]
     },
     "execution_count": 2,
     "metadata": {},
     "output_type": "execute_result"
    }
   ],
   "source": [
    "df.head()"
   ]
  },
  {
   "cell_type": "markdown",
   "metadata": {},
   "source": [
    "### Measuring time in Jupyter Notebooks\n",
    "\n",
    "How long did that take? Read it in again, but this time **time how long it takes.** (and no, not with your watch - with Jupyter!)"
   ]
  },
  {
   "cell_type": "code",
   "execution_count": 3,
   "metadata": {
    "collapsed": true
   },
   "outputs": [],
   "source": [
    "# 47.4 s\n",
    "\n",
    "# how to display all columns\n",
    "# pd.set_option('display.max_columns', 100)\n",
    "# pd.options.display.max_options"
   ]
  },
  {
   "cell_type": "markdown",
   "metadata": {},
   "source": [
    "### Look at the first few rows\n",
    "\n",
    "Make sure you can see **every single column.**"
   ]
  },
  {
   "cell_type": "code",
   "execution_count": null,
   "metadata": {
    "collapsed": true
   },
   "outputs": [],
   "source": []
  },
  {
   "cell_type": "code",
   "execution_count": null,
   "metadata": {
    "collapsed": true
   },
   "outputs": [],
   "source": []
  },
  {
   "cell_type": "markdown",
   "metadata": {},
   "source": [
    "### Speeding things up\n",
    "\n",
    "We're going to be looking at open and close times, agencies, and the complaints (both types and descriptor). The only kind of location-based thing we'll want is borough.\n",
    "\n",
    "**How much faster is it if we only read in those columns?**"
   ]
  },
  {
   "cell_type": "code",
   "execution_count": 4,
   "metadata": {},
   "outputs": [
    {
     "name": "stdout",
     "output_type": "stream",
     "text": [
      "CPU times: user 10.8 s, sys: 877 ms, total: 11.6 s\n",
      "Wall time: 11.8 s\n"
     ]
    }
   ],
   "source": [
    "%%time\n",
    "df = pd.read_csv(\"data/311_Service_Requests_from_2010_to_Present.csv\", usecols=[\"Agency\", \"Complaint Type\", \"Descriptor\", \"Closed Date\", \"Created Date\"])\n"
   ]
  },
  {
   "cell_type": "code",
   "execution_count": 5,
   "metadata": {},
   "outputs": [
    {
     "data": {
      "text/html": [
       "<div>\n",
       "<style>\n",
       "    .dataframe thead tr:only-child th {\n",
       "        text-align: right;\n",
       "    }\n",
       "\n",
       "    .dataframe thead th {\n",
       "        text-align: left;\n",
       "    }\n",
       "\n",
       "    .dataframe tbody tr th {\n",
       "        vertical-align: top;\n",
       "    }\n",
       "</style>\n",
       "<table border=\"1\" class=\"dataframe\">\n",
       "  <thead>\n",
       "    <tr style=\"text-align: right;\">\n",
       "      <th></th>\n",
       "      <th>Created Date</th>\n",
       "      <th>Closed Date</th>\n",
       "      <th>Agency</th>\n",
       "      <th>Complaint Type</th>\n",
       "      <th>Descriptor</th>\n",
       "    </tr>\n",
       "  </thead>\n",
       "  <tbody>\n",
       "    <tr>\n",
       "      <th>0</th>\n",
       "      <td>09/04/2015 10:55:25 PM</td>\n",
       "      <td>09/05/2015 02:06:54 AM</td>\n",
       "      <td>NYPD</td>\n",
       "      <td>Noise - Street/Sidewalk</td>\n",
       "      <td>Loud Music/Party</td>\n",
       "    </tr>\n",
       "    <tr>\n",
       "      <th>1</th>\n",
       "      <td>09/04/2015 01:53:45 PM</td>\n",
       "      <td>09/04/2015 06:37:24 PM</td>\n",
       "      <td>NYPD</td>\n",
       "      <td>Noise - Street/Sidewalk</td>\n",
       "      <td>Loud Music/Party</td>\n",
       "    </tr>\n",
       "    <tr>\n",
       "      <th>2</th>\n",
       "      <td>09/04/2015 09:15:43 PM</td>\n",
       "      <td>09/04/2015 10:32:01 PM</td>\n",
       "      <td>NYPD</td>\n",
       "      <td>Noise - Street/Sidewalk</td>\n",
       "      <td>Loud Music/Party</td>\n",
       "    </tr>\n",
       "    <tr>\n",
       "      <th>3</th>\n",
       "      <td>09/05/2015 01:06:57 AM</td>\n",
       "      <td>09/05/2015 02:26:43 AM</td>\n",
       "      <td>NYPD</td>\n",
       "      <td>Noise - Commercial</td>\n",
       "      <td>Loud Music/Party</td>\n",
       "    </tr>\n",
       "    <tr>\n",
       "      <th>4</th>\n",
       "      <td>09/04/2015 07:48:25 AM</td>\n",
       "      <td>09/04/2015 05:21:18 PM</td>\n",
       "      <td>NYPD</td>\n",
       "      <td>Illegal Parking</td>\n",
       "      <td>Overnight Commercial Storage</td>\n",
       "    </tr>\n",
       "    <tr>\n",
       "      <th>5</th>\n",
       "      <td>09/04/2015 11:31:12 AM</td>\n",
       "      <td>09/04/2015 03:01:54 PM</td>\n",
       "      <td>NYPD</td>\n",
       "      <td>Illegal Parking</td>\n",
       "      <td>Overnight Commercial Storage</td>\n",
       "    </tr>\n",
       "    <tr>\n",
       "      <th>6</th>\n",
       "      <td>09/04/2015 07:02:24 AM</td>\n",
       "      <td>09/04/2015 01:55:53 PM</td>\n",
       "      <td>NYPD</td>\n",
       "      <td>Illegal Parking</td>\n",
       "      <td>Posted Parking Sign Violation</td>\n",
       "    </tr>\n",
       "    <tr>\n",
       "      <th>7</th>\n",
       "      <td>09/04/2015 12:34:05 PM</td>\n",
       "      <td>09/04/2015 01:38:47 PM</td>\n",
       "      <td>NYPD</td>\n",
       "      <td>Illegal Parking</td>\n",
       "      <td>Posted Parking Sign Violation</td>\n",
       "    </tr>\n",
       "    <tr>\n",
       "      <th>8</th>\n",
       "      <td>09/04/2015 07:56:42 PM</td>\n",
       "      <td>09/04/2015 09:18:31 PM</td>\n",
       "      <td>NYPD</td>\n",
       "      <td>Illegal Parking</td>\n",
       "      <td>Posted Parking Sign Violation</td>\n",
       "    </tr>\n",
       "    <tr>\n",
       "      <th>9</th>\n",
       "      <td>09/04/2015 09:04:42 PM</td>\n",
       "      <td>09/05/2015 12:39:53 AM</td>\n",
       "      <td>NYPD</td>\n",
       "      <td>Noise - Street/Sidewalk</td>\n",
       "      <td>Loud Music/Party</td>\n",
       "    </tr>\n",
       "    <tr>\n",
       "      <th>10</th>\n",
       "      <td>09/04/2015 08:26:09 PM</td>\n",
       "      <td>09/05/2015 01:09:44 AM</td>\n",
       "      <td>NYPD</td>\n",
       "      <td>Noise - Street/Sidewalk</td>\n",
       "      <td>Loud Music/Party</td>\n",
       "    </tr>\n",
       "    <tr>\n",
       "      <th>11</th>\n",
       "      <td>09/04/2015 11:07:15 AM</td>\n",
       "      <td>09/04/2015 11:16:33 AM</td>\n",
       "      <td>NYPD</td>\n",
       "      <td>Noise - Street/Sidewalk</td>\n",
       "      <td>Loud Music/Party</td>\n",
       "    </tr>\n",
       "    <tr>\n",
       "      <th>12</th>\n",
       "      <td>09/04/2015 10:23:59 PM</td>\n",
       "      <td>09/04/2015 10:49:19 PM</td>\n",
       "      <td>NYPD</td>\n",
       "      <td>Noise - Street/Sidewalk</td>\n",
       "      <td>Loud Music/Party</td>\n",
       "    </tr>\n",
       "    <tr>\n",
       "      <th>13</th>\n",
       "      <td>09/04/2015 11:16:12 PM</td>\n",
       "      <td>09/05/2015 02:49:33 AM</td>\n",
       "      <td>NYPD</td>\n",
       "      <td>Noise - Street/Sidewalk</td>\n",
       "      <td>Loud Music/Party</td>\n",
       "    </tr>\n",
       "    <tr>\n",
       "      <th>14</th>\n",
       "      <td>09/04/2015 04:49:55 PM</td>\n",
       "      <td>09/04/2015 09:20:38 PM</td>\n",
       "      <td>NYPD</td>\n",
       "      <td>Noise - Commercial</td>\n",
       "      <td>Loud Talking</td>\n",
       "    </tr>\n",
       "    <tr>\n",
       "      <th>15</th>\n",
       "      <td>09/04/2015 02:39:46 PM</td>\n",
       "      <td>09/04/2015 02:52:11 PM</td>\n",
       "      <td>NYPD</td>\n",
       "      <td>Illegal Parking</td>\n",
       "      <td>Posted Parking Sign Violation</td>\n",
       "    </tr>\n",
       "    <tr>\n",
       "      <th>16</th>\n",
       "      <td>09/04/2015 08:21:22 PM</td>\n",
       "      <td>09/04/2015 11:41:18 PM</td>\n",
       "      <td>NYPD</td>\n",
       "      <td>Traffic</td>\n",
       "      <td>Congestion/Gridlock</td>\n",
       "    </tr>\n",
       "    <tr>\n",
       "      <th>17</th>\n",
       "      <td>09/04/2015 11:34:23 PM</td>\n",
       "      <td>09/05/2015 12:29:52 AM</td>\n",
       "      <td>NYPD</td>\n",
       "      <td>Noise - Street/Sidewalk</td>\n",
       "      <td>Loud Music/Party</td>\n",
       "    </tr>\n",
       "    <tr>\n",
       "      <th>18</th>\n",
       "      <td>09/04/2015 09:55:19 PM</td>\n",
       "      <td>09/04/2015 11:26:51 PM</td>\n",
       "      <td>NYPD</td>\n",
       "      <td>Noise - Street/Sidewalk</td>\n",
       "      <td>Loud Music/Party</td>\n",
       "    </tr>\n",
       "    <tr>\n",
       "      <th>19</th>\n",
       "      <td>09/04/2015 11:44:07 PM</td>\n",
       "      <td>09/05/2015 12:07:18 AM</td>\n",
       "      <td>NYPD</td>\n",
       "      <td>Noise - Street/Sidewalk</td>\n",
       "      <td>Loud Music/Party</td>\n",
       "    </tr>\n",
       "    <tr>\n",
       "      <th>20</th>\n",
       "      <td>09/04/2015 08:12:10 AM</td>\n",
       "      <td>09/04/2015 03:34:40 PM</td>\n",
       "      <td>NYPD</td>\n",
       "      <td>Noise - Street/Sidewalk</td>\n",
       "      <td>Loud Music/Party</td>\n",
       "    </tr>\n",
       "    <tr>\n",
       "      <th>21</th>\n",
       "      <td>09/04/2015 11:14:40 PM</td>\n",
       "      <td>09/05/2015 02:58:23 AM</td>\n",
       "      <td>NYPD</td>\n",
       "      <td>Noise - Park</td>\n",
       "      <td>Loud Music/Party</td>\n",
       "    </tr>\n",
       "    <tr>\n",
       "      <th>22</th>\n",
       "      <td>09/04/2015 08:17:20 PM</td>\n",
       "      <td>09/05/2015 01:48:21 AM</td>\n",
       "      <td>NYPD</td>\n",
       "      <td>Noise - Street/Sidewalk</td>\n",
       "      <td>Loud Talking</td>\n",
       "    </tr>\n",
       "    <tr>\n",
       "      <th>23</th>\n",
       "      <td>09/04/2015 10:54:59 PM</td>\n",
       "      <td>09/04/2015 11:32:15 PM</td>\n",
       "      <td>NYPD</td>\n",
       "      <td>Noise - Street/Sidewalk</td>\n",
       "      <td>Loud Talking</td>\n",
       "    </tr>\n",
       "    <tr>\n",
       "      <th>24</th>\n",
       "      <td>09/04/2015 03:45:14 PM</td>\n",
       "      <td>09/04/2015 04:50:16 PM</td>\n",
       "      <td>NYPD</td>\n",
       "      <td>Noise - House of Worship</td>\n",
       "      <td>Banging/Pounding</td>\n",
       "    </tr>\n",
       "    <tr>\n",
       "      <th>25</th>\n",
       "      <td>09/04/2015 11:48:20 PM</td>\n",
       "      <td>09/05/2015 03:12:44 AM</td>\n",
       "      <td>NYPD</td>\n",
       "      <td>Noise - Street/Sidewalk</td>\n",
       "      <td>Loud Music/Party</td>\n",
       "    </tr>\n",
       "    <tr>\n",
       "      <th>26</th>\n",
       "      <td>09/05/2015 01:53:40 AM</td>\n",
       "      <td>09/05/2015 02:50:37 AM</td>\n",
       "      <td>NYPD</td>\n",
       "      <td>Noise - Residential</td>\n",
       "      <td>Loud Music/Party</td>\n",
       "    </tr>\n",
       "    <tr>\n",
       "      <th>27</th>\n",
       "      <td>09/04/2015 11:34:47 PM</td>\n",
       "      <td>09/05/2015 01:45:56 AM</td>\n",
       "      <td>NYPD</td>\n",
       "      <td>Noise - Residential</td>\n",
       "      <td>Loud Music/Party</td>\n",
       "    </tr>\n",
       "    <tr>\n",
       "      <th>28</th>\n",
       "      <td>09/04/2015 11:37:52 PM</td>\n",
       "      <td>09/05/2015 01:03:04 AM</td>\n",
       "      <td>NYPD</td>\n",
       "      <td>Noise - Residential</td>\n",
       "      <td>Loud Music/Party</td>\n",
       "    </tr>\n",
       "    <tr>\n",
       "      <th>29</th>\n",
       "      <td>09/04/2015 11:01:37 PM</td>\n",
       "      <td>09/05/2015 02:06:56 AM</td>\n",
       "      <td>NYPD</td>\n",
       "      <td>Noise - Vehicle</td>\n",
       "      <td>Car/Truck Music</td>\n",
       "    </tr>\n",
       "  </tbody>\n",
       "</table>\n",
       "</div>"
      ],
      "text/plain": [
       "              Created Date             Closed Date Agency  \\\n",
       "0   09/04/2015 10:55:25 PM  09/05/2015 02:06:54 AM   NYPD   \n",
       "1   09/04/2015 01:53:45 PM  09/04/2015 06:37:24 PM   NYPD   \n",
       "2   09/04/2015 09:15:43 PM  09/04/2015 10:32:01 PM   NYPD   \n",
       "3   09/05/2015 01:06:57 AM  09/05/2015 02:26:43 AM   NYPD   \n",
       "4   09/04/2015 07:48:25 AM  09/04/2015 05:21:18 PM   NYPD   \n",
       "5   09/04/2015 11:31:12 AM  09/04/2015 03:01:54 PM   NYPD   \n",
       "6   09/04/2015 07:02:24 AM  09/04/2015 01:55:53 PM   NYPD   \n",
       "7   09/04/2015 12:34:05 PM  09/04/2015 01:38:47 PM   NYPD   \n",
       "8   09/04/2015 07:56:42 PM  09/04/2015 09:18:31 PM   NYPD   \n",
       "9   09/04/2015 09:04:42 PM  09/05/2015 12:39:53 AM   NYPD   \n",
       "10  09/04/2015 08:26:09 PM  09/05/2015 01:09:44 AM   NYPD   \n",
       "11  09/04/2015 11:07:15 AM  09/04/2015 11:16:33 AM   NYPD   \n",
       "12  09/04/2015 10:23:59 PM  09/04/2015 10:49:19 PM   NYPD   \n",
       "13  09/04/2015 11:16:12 PM  09/05/2015 02:49:33 AM   NYPD   \n",
       "14  09/04/2015 04:49:55 PM  09/04/2015 09:20:38 PM   NYPD   \n",
       "15  09/04/2015 02:39:46 PM  09/04/2015 02:52:11 PM   NYPD   \n",
       "16  09/04/2015 08:21:22 PM  09/04/2015 11:41:18 PM   NYPD   \n",
       "17  09/04/2015 11:34:23 PM  09/05/2015 12:29:52 AM   NYPD   \n",
       "18  09/04/2015 09:55:19 PM  09/04/2015 11:26:51 PM   NYPD   \n",
       "19  09/04/2015 11:44:07 PM  09/05/2015 12:07:18 AM   NYPD   \n",
       "20  09/04/2015 08:12:10 AM  09/04/2015 03:34:40 PM   NYPD   \n",
       "21  09/04/2015 11:14:40 PM  09/05/2015 02:58:23 AM   NYPD   \n",
       "22  09/04/2015 08:17:20 PM  09/05/2015 01:48:21 AM   NYPD   \n",
       "23  09/04/2015 10:54:59 PM  09/04/2015 11:32:15 PM   NYPD   \n",
       "24  09/04/2015 03:45:14 PM  09/04/2015 04:50:16 PM   NYPD   \n",
       "25  09/04/2015 11:48:20 PM  09/05/2015 03:12:44 AM   NYPD   \n",
       "26  09/05/2015 01:53:40 AM  09/05/2015 02:50:37 AM   NYPD   \n",
       "27  09/04/2015 11:34:47 PM  09/05/2015 01:45:56 AM   NYPD   \n",
       "28  09/04/2015 11:37:52 PM  09/05/2015 01:03:04 AM   NYPD   \n",
       "29  09/04/2015 11:01:37 PM  09/05/2015 02:06:56 AM   NYPD   \n",
       "\n",
       "              Complaint Type                     Descriptor  \n",
       "0    Noise - Street/Sidewalk               Loud Music/Party  \n",
       "1    Noise - Street/Sidewalk               Loud Music/Party  \n",
       "2    Noise - Street/Sidewalk               Loud Music/Party  \n",
       "3         Noise - Commercial               Loud Music/Party  \n",
       "4            Illegal Parking   Overnight Commercial Storage  \n",
       "5            Illegal Parking   Overnight Commercial Storage  \n",
       "6            Illegal Parking  Posted Parking Sign Violation  \n",
       "7            Illegal Parking  Posted Parking Sign Violation  \n",
       "8            Illegal Parking  Posted Parking Sign Violation  \n",
       "9    Noise - Street/Sidewalk               Loud Music/Party  \n",
       "10   Noise - Street/Sidewalk               Loud Music/Party  \n",
       "11   Noise - Street/Sidewalk               Loud Music/Party  \n",
       "12   Noise - Street/Sidewalk               Loud Music/Party  \n",
       "13   Noise - Street/Sidewalk               Loud Music/Party  \n",
       "14        Noise - Commercial                   Loud Talking  \n",
       "15           Illegal Parking  Posted Parking Sign Violation  \n",
       "16                   Traffic            Congestion/Gridlock  \n",
       "17   Noise - Street/Sidewalk               Loud Music/Party  \n",
       "18   Noise - Street/Sidewalk               Loud Music/Party  \n",
       "19   Noise - Street/Sidewalk               Loud Music/Party  \n",
       "20   Noise - Street/Sidewalk               Loud Music/Party  \n",
       "21              Noise - Park               Loud Music/Party  \n",
       "22   Noise - Street/Sidewalk                   Loud Talking  \n",
       "23   Noise - Street/Sidewalk                   Loud Talking  \n",
       "24  Noise - House of Worship               Banging/Pounding  \n",
       "25   Noise - Street/Sidewalk               Loud Music/Party  \n",
       "26       Noise - Residential               Loud Music/Party  \n",
       "27       Noise - Residential               Loud Music/Party  \n",
       "28       Noise - Residential               Loud Music/Party  \n",
       "29           Noise - Vehicle                Car/Truck Music  "
      ]
     },
     "execution_count": 5,
     "metadata": {},
     "output_type": "execute_result"
    }
   ],
   "source": [
    "df.head(30)"
   ]
  },
  {
   "cell_type": "markdown",
   "metadata": {},
   "source": [
    "## Converting the 'Created Date' and 'Closed Date' columns to datetimes\n",
    "\n",
    "### First, testing some things out\n",
    "\n",
    "Let's take a look at converting **Created Date**, but **not all at once**.\n",
    "\n",
    "1. Take 10,000 of them and try to convert them **without** a format string. Time it.\n",
    "2. Take the same 10,000 and try to convert them **with** a format string. Time it.\n",
    "\n",
    "If you tried to do all 1.8 million rows, **how long might it take with a format string vs without?**"
   ]
  },
  {
   "cell_type": "code",
   "execution_count": 6,
   "metadata": {},
   "outputs": [
    {
     "data": {
      "text/plain": [
       "Index(['Created Date', 'Closed Date', 'Agency', 'Complaint Type',\n",
       "       'Descriptor'],\n",
       "      dtype='object')"
      ]
     },
     "execution_count": 6,
     "metadata": {},
     "output_type": "execute_result"
    }
   ],
   "source": [
    "df.columns"
   ]
  },
  {
   "cell_type": "code",
   "execution_count": 7,
   "metadata": {},
   "outputs": [
    {
     "name": "stdout",
     "output_type": "stream",
     "text": [
      "CPU times: user 2 µs, sys: 1 µs, total: 3 µs\n",
      "Wall time: 5.96 µs\n"
     ]
    }
   ],
   "source": [
    "%%time\n",
    "#pd.to_datetime(df['Created Date'].head(500000))"
   ]
  },
  {
   "cell_type": "code",
   "execution_count": 8,
   "metadata": {},
   "outputs": [
    {
     "name": "stdout",
     "output_type": "stream",
     "text": [
      "CPU times: user 8.48 s, sys: 66.5 ms, total: 8.55 s\n",
      "Wall time: 8.62 s\n"
     ]
    },
    {
     "data": {
      "text/plain": [
       "0         2015-09-04 10:55:25\n",
       "1         2015-09-04 01:53:45\n",
       "2         2015-09-04 09:15:43\n",
       "3         2015-09-05 01:06:57\n",
       "4         2015-09-04 07:48:25\n",
       "5         2015-09-04 11:31:12\n",
       "6         2015-09-04 07:02:24\n",
       "7         2015-09-04 12:34:05\n",
       "8         2015-09-04 07:56:42\n",
       "9         2015-09-04 09:04:42\n",
       "10        2015-09-04 08:26:09\n",
       "11        2015-09-04 11:07:15\n",
       "12        2015-09-04 10:23:59\n",
       "13        2015-09-04 11:16:12\n",
       "14        2015-09-04 04:49:55\n",
       "15        2015-09-04 02:39:46\n",
       "16        2015-09-04 08:21:22\n",
       "17        2015-09-04 11:34:23\n",
       "18        2015-09-04 09:55:19\n",
       "19        2015-09-04 11:44:07\n",
       "20        2015-09-04 08:12:10\n",
       "21        2015-09-04 11:14:40\n",
       "22        2015-09-04 08:17:20\n",
       "23        2015-09-04 10:54:59\n",
       "24        2015-09-04 03:45:14\n",
       "25        2015-09-04 11:48:20\n",
       "26        2015-09-05 01:53:40\n",
       "27        2015-09-04 11:34:47\n",
       "28        2015-09-04 11:37:52\n",
       "29        2015-09-04 11:01:37\n",
       "                  ...        \n",
       "1844248   2016-08-13 12:43:04\n",
       "1844249   2016-08-26 02:04:00\n",
       "1844250   2016-09-21 03:02:00\n",
       "1844251   2016-09-23 09:43:00\n",
       "1844252   2016-09-27 02:46:00\n",
       "1844253   2016-10-06 10:31:00\n",
       "1844254   2016-10-21 12:44:11\n",
       "1844255   2016-10-24 11:00:00\n",
       "1844256   2016-10-31 01:49:21\n",
       "1844257   2016-11-09 12:32:00\n",
       "1844258   2016-11-09 12:38:00\n",
       "1844259   2016-11-10 02:06:00\n",
       "1844260   2016-11-12 12:06:26\n",
       "1844261   2016-11-13 08:54:15\n",
       "1844262   2016-11-17 04:53:00\n",
       "1844263   2016-11-29 05:51:00\n",
       "1844264   2016-11-30 02:22:00\n",
       "1844265   2016-12-01 09:25:17\n",
       "1844266   2016-12-01 12:46:00\n",
       "1844267   2016-12-02 07:14:00\n",
       "1844268   2016-12-06 09:10:13\n",
       "1844269   2016-12-06 05:28:20\n",
       "1844270   2016-12-14 02:09:00\n",
       "1844271   2016-12-14 02:51:00\n",
       "1844272   2016-12-15 05:07:25\n",
       "1844273   2016-12-22 05:44:00\n",
       "1844274   2016-12-23 02:39:00\n",
       "1844275   2016-12-23 01:15:00\n",
       "1844276   2016-12-27 03:38:00\n",
       "1844277   2016-12-28 06:19:00\n",
       "Name: Created Date, Length: 1844278, dtype: datetime64[ns]"
      ]
     },
     "execution_count": 8,
     "metadata": {},
     "output_type": "execute_result"
    }
   ],
   "source": [
    "%%time\n",
    "pd.to_datetime(df['Created Date'], format='%m/%d/%Y %X %p')\n",
    "\n",
    "# 09/04/2015 10:55:25 PM"
   ]
  },
  {
   "cell_type": "markdown",
   "metadata": {},
   "source": [
    "### Creating new columns\n",
    "\n",
    "Create new columns called `created_at` and `closed_at` from the `Created Date` and `Closed Date` columns. Do them individually, and **time them**."
   ]
  },
  {
   "cell_type": "code",
   "execution_count": 9,
   "metadata": {},
   "outputs": [
    {
     "name": "stdout",
     "output_type": "stream",
     "text": [
      "CPU times: user 8.98 s, sys: 144 ms, total: 9.12 s\n",
      "Wall time: 9.53 s\n"
     ]
    }
   ],
   "source": [
    "%%time\n",
    "df['created_at'] = pd.to_datetime(df['Created Date'], format='%m/%d/%Y %X %p')"
   ]
  },
  {
   "cell_type": "code",
   "execution_count": 10,
   "metadata": {},
   "outputs": [
    {
     "name": "stdout",
     "output_type": "stream",
     "text": [
      "CPU times: user 8.89 s, sys: 135 ms, total: 9.02 s\n",
      "Wall time: 9.26 s\n"
     ]
    }
   ],
   "source": [
    "%%time\n",
    "df['closed_at'] = pd.to_datetime(df['Closed Date'], format='%m/%d/%Y %X %p')"
   ]
  },
  {
   "cell_type": "markdown",
   "metadata": {},
   "source": [
    "### Confirming they look okay\n",
    "\n",
    "Take a look at the first few rows to make sure the dates look correct, and then make sure their data type is `datetime64[ns]`."
   ]
  },
  {
   "cell_type": "code",
   "execution_count": 11,
   "metadata": {},
   "outputs": [
    {
     "data": {
      "text/plain": [
       "0   2015-09-04 10:55:25\n",
       "1   2015-09-04 01:53:45\n",
       "2   2015-09-04 09:15:43\n",
       "3   2015-09-05 01:06:57\n",
       "4   2015-09-04 07:48:25\n",
       "Name: created_at, dtype: datetime64[ns]"
      ]
     },
     "execution_count": 11,
     "metadata": {},
     "output_type": "execute_result"
    }
   ],
   "source": [
    "df['created_at'].head()"
   ]
  },
  {
   "cell_type": "code",
   "execution_count": 12,
   "metadata": {},
   "outputs": [
    {
     "data": {
      "text/plain": [
       "0   2015-09-05 02:06:54\n",
       "1   2015-09-04 06:37:24\n",
       "2   2015-09-04 10:32:01\n",
       "3   2015-09-05 02:26:43\n",
       "4   2015-09-04 05:21:18\n",
       "Name: closed_at, dtype: datetime64[ns]"
      ]
     },
     "execution_count": 12,
     "metadata": {},
     "output_type": "execute_result"
    }
   ],
   "source": [
    "df['closed_at'].head()"
   ]
  },
  {
   "cell_type": "markdown",
   "metadata": {},
   "source": [
    "# Examining agencies"
   ]
  },
  {
   "cell_type": "markdown",
   "metadata": {},
   "source": [
    "Who has more 311 requests, the Department of Transportation or the NYPD?"
   ]
  },
  {
   "cell_type": "code",
   "execution_count": 13,
   "metadata": {},
   "outputs": [
    {
     "data": {
      "text/plain": [
       "NYPD    1251121\n",
       "DOT      593157\n",
       "Name: Agency, dtype: int64"
      ]
     },
     "execution_count": 13,
     "metadata": {},
     "output_type": "execute_result"
    }
   ],
   "source": [
    "df['Agency'].value_counts()"
   ]
  },
  {
   "cell_type": "markdown",
   "metadata": {},
   "source": [
    "## What's the difference between \"Complaint Type\" and \"Descriptor\" columns?"
   ]
  },
  {
   "cell_type": "code",
   "execution_count": 14,
   "metadata": {
    "collapsed": true
   },
   "outputs": [],
   "source": [
    "# Descriptor is associated to the Complaint Type, and provides further detail on the incident or condition. \n",
    "# Descriptor values are dependent on the Complaint Type, and are not always required in SR."
   ]
  },
  {
   "cell_type": "markdown",
   "metadata": {},
   "source": [
    "## What are the most popular categories of complaints for the NYPD? For the DOT?"
   ]
  },
  {
   "cell_type": "code",
   "execution_count": 15,
   "metadata": {},
   "outputs": [
    {
     "data": {
      "text/plain": [
       "Agency  Complaint Type             \n",
       "DOT     Street Condition               215052\n",
       "        Street Light Condition         187228\n",
       "        Traffic Signal Condition        79737\n",
       "        Broken Muni Meter               47234\n",
       "        Street Sign - Damaged           12041\n",
       "        Sidewalk Condition              11630\n",
       "        Highway Condition               10795\n",
       "        Street Sign - Missing            9061\n",
       "        DOT Literature Request           6028\n",
       "        Curb Condition                   4381\n",
       "        Street Sign - Dangling           4015\n",
       "        Broken Parking Meter             1778\n",
       "        Ferry Inquiry                    1067\n",
       "        Bridge Condition                  835\n",
       "        Ferry Complaint                   531\n",
       "        Bus Stop Shelter Placement        395\n",
       "        Agency Issues                     391\n",
       "        Bike Rack Condition               243\n",
       "        Municipal Parking Facility        166\n",
       "        Ferry Permit                      134\n",
       "        Highway Sign - Damaged            127\n",
       "        Public Toilet                      97\n",
       "        Highway Sign - Missing             63\n",
       "        Parking Card                       60\n",
       "        Highway Sign - Dangling            37\n",
       "        Tunnel Condition                   26\n",
       "        Building Condition                  4\n",
       "        Opinion for the Mayor               1\n",
       "NYPD    Noise - Residential            429932\n",
       "        Blocked Driveway               219927\n",
       "        Illegal Parking                215158\n",
       "        Noise - Street/Sidewalk        112890\n",
       "        Noise - Commercial              93115\n",
       "        Derelict Vehicle                50758\n",
       "        Noise - Vehicle                 43213\n",
       "        Animal Abuse                    20609\n",
       "        Non-Emergency Police Matter     16716\n",
       "        Traffic                         10825\n",
       "        Homeless Encampment             10053\n",
       "        Vending                          8894\n",
       "        Noise - Park                     7995\n",
       "        Drinking                         2942\n",
       "        Noise - House of Worship         1991\n",
       "        Posting Advertisement            1781\n",
       "        Urinating in Public              1118\n",
       "        Bike/Roller/Skate Chronic         829\n",
       "        Panhandling                       797\n",
       "        Disorderly Youth                  547\n",
       "        Illegal Fireworks                 383\n",
       "        Drug Activity                     370\n",
       "        Graffiti                          249\n",
       "        Agency Issues                      12\n",
       "        Squeegee                            9\n",
       "        Ferry Complaint                     2\n",
       "        Maintenance or Facility             2\n",
       "        Animal in a Park                    1\n",
       "        Dead/Dying Tree                     1\n",
       "        Ferry Permit                        1\n",
       "        Street Condition                    1\n",
       "Name: Complaint Type, dtype: int64"
      ]
     },
     "execution_count": 15,
     "metadata": {},
     "output_type": "execute_result"
    }
   ],
   "source": [
    "df.groupby('Agency')['Complaint Type'].value_counts()"
   ]
  },
  {
   "cell_type": "code",
   "execution_count": 16,
   "metadata": {},
   "outputs": [
    {
     "data": {
      "text/plain": [
       "Agency  Complaint Type             \n",
       "DOT     Street Condition               215052\n",
       "        Street Light Condition         187228\n",
       "        Traffic Signal Condition        79737\n",
       "        Broken Muni Meter               47234\n",
       "        Street Sign - Damaged           12041\n",
       "        Sidewalk Condition              11630\n",
       "        Highway Condition               10795\n",
       "        Street Sign - Missing            9061\n",
       "        DOT Literature Request           6028\n",
       "        Curb Condition                   4381\n",
       "        Street Sign - Dangling           4015\n",
       "        Broken Parking Meter             1778\n",
       "        Ferry Inquiry                    1067\n",
       "        Bridge Condition                  835\n",
       "        Ferry Complaint                   531\n",
       "        Bus Stop Shelter Placement        395\n",
       "        Agency Issues                     391\n",
       "        Bike Rack Condition               243\n",
       "        Municipal Parking Facility        166\n",
       "        Ferry Permit                      134\n",
       "        Highway Sign - Damaged            127\n",
       "        Public Toilet                      97\n",
       "        Highway Sign - Missing             63\n",
       "        Parking Card                       60\n",
       "        Highway Sign - Dangling            37\n",
       "        Tunnel Condition                   26\n",
       "        Building Condition                  4\n",
       "        Opinion for the Mayor               1\n",
       "NYPD    Noise - Residential            429932\n",
       "        Blocked Driveway               219927\n",
       "        Illegal Parking                215158\n",
       "        Noise - Street/Sidewalk        112890\n",
       "        Noise - Commercial              93115\n",
       "        Derelict Vehicle                50758\n",
       "        Noise - Vehicle                 43213\n",
       "        Animal Abuse                    20609\n",
       "        Non-Emergency Police Matter     16716\n",
       "        Traffic                         10825\n",
       "        Homeless Encampment             10053\n",
       "        Vending                          8894\n",
       "        Noise - Park                     7995\n",
       "        Drinking                         2942\n",
       "        Noise - House of Worship         1991\n",
       "        Posting Advertisement            1781\n",
       "        Urinating in Public              1118\n",
       "        Bike/Roller/Skate Chronic         829\n",
       "        Panhandling                       797\n",
       "        Disorderly Youth                  547\n",
       "        Illegal Fireworks                 383\n",
       "        Drug Activity                     370\n",
       "        Graffiti                          249\n",
       "        Agency Issues                      12\n",
       "        Squeegee                            9\n",
       "        Ferry Complaint                     2\n",
       "        Maintenance or Facility             2\n",
       "        Animal in a Park                    1\n",
       "        Dead/Dying Tree                     1\n",
       "        Ferry Permit                        1\n",
       "        Street Condition                    1\n",
       "Name: Complaint Type, dtype: int64"
      ]
     },
     "execution_count": 16,
     "metadata": {},
     "output_type": "execute_result"
    }
   ],
   "source": [
    "df.groupby('Agency')['Complaint Type'].value_counts()"
   ]
  },
  {
   "cell_type": "markdown",
   "metadata": {},
   "source": [
    "## When people are complaining about street conditions, what are they usually complaining about?"
   ]
  },
  {
   "cell_type": "code",
   "execution_count": 17,
   "metadata": {},
   "outputs": [
    {
     "data": {
      "text/plain": [
       "Pothole                           137931\n",
       "Cave-in                            22026\n",
       "Rough, Pitted or Cracked Roads     12150\n",
       "Defective Hardware                 11206\n",
       "Failed Street Repair                9408\n",
       "Name: Descriptor, dtype: int64"
      ]
     },
     "execution_count": 17,
     "metadata": {},
     "output_type": "execute_result"
    }
   ],
   "source": [
    "df[df['Complaint Type'] == 'Street Condition']['Descriptor'].value_counts().head()"
   ]
  },
  {
   "cell_type": "markdown",
   "metadata": {},
   "source": [
    "## What kinds of noise are they complaining about when making residential noise complaints?"
   ]
  },
  {
   "cell_type": "code",
   "execution_count": 18,
   "metadata": {},
   "outputs": [
    {
     "data": {
      "text/plain": [
       "Loud Music/Party    283631\n",
       "Banging/Pounding    108470\n",
       "Loud Talking         30097\n",
       "Loud Television       7734\n",
       "Name: Descriptor, dtype: int64"
      ]
     },
     "execution_count": 18,
     "metadata": {},
     "output_type": "execute_result"
    }
   ],
   "source": [
    "df[df['Complaint Type'] == 'Noise - Residential']['Descriptor'].value_counts().head()"
   ]
  },
  {
   "cell_type": "markdown",
   "metadata": {},
   "source": [
    "# Timing our complaints\n",
    "\n",
    "How many complaints were filed each month?\n",
    "\n",
    "- Tip: You'll probably want to `.set_index` first!"
   ]
  },
  {
   "cell_type": "code",
   "execution_count": 19,
   "metadata": {
    "collapsed": true
   },
   "outputs": [],
   "source": [
    "df.set_index('created_at', inplace=True)"
   ]
  },
  {
   "cell_type": "code",
   "execution_count": 20,
   "metadata": {},
   "outputs": [
    {
     "data": {
      "text/html": [
       "<div>\n",
       "<style>\n",
       "    .dataframe thead tr:only-child th {\n",
       "        text-align: right;\n",
       "    }\n",
       "\n",
       "    .dataframe thead th {\n",
       "        text-align: left;\n",
       "    }\n",
       "\n",
       "    .dataframe tbody tr th {\n",
       "        vertical-align: top;\n",
       "    }\n",
       "</style>\n",
       "<table border=\"1\" class=\"dataframe\">\n",
       "  <thead>\n",
       "    <tr style=\"text-align: right;\">\n",
       "      <th></th>\n",
       "      <th>Created Date</th>\n",
       "      <th>Closed Date</th>\n",
       "      <th>Agency</th>\n",
       "      <th>Complaint Type</th>\n",
       "      <th>Descriptor</th>\n",
       "      <th>closed_at</th>\n",
       "    </tr>\n",
       "    <tr>\n",
       "      <th>created_at</th>\n",
       "      <th></th>\n",
       "      <th></th>\n",
       "      <th></th>\n",
       "      <th></th>\n",
       "      <th></th>\n",
       "      <th></th>\n",
       "    </tr>\n",
       "  </thead>\n",
       "  <tbody>\n",
       "    <tr>\n",
       "      <th>2015-01-31</th>\n",
       "      <td>58168</td>\n",
       "      <td>57932</td>\n",
       "      <td>58168</td>\n",
       "      <td>58168</td>\n",
       "      <td>57968</td>\n",
       "      <td>57932</td>\n",
       "    </tr>\n",
       "    <tr>\n",
       "      <th>2015-02-28</th>\n",
       "      <td>59895</td>\n",
       "      <td>59663</td>\n",
       "      <td>59895</td>\n",
       "      <td>59895</td>\n",
       "      <td>59763</td>\n",
       "      <td>59663</td>\n",
       "    </tr>\n",
       "    <tr>\n",
       "      <th>2015-03-31</th>\n",
       "      <td>87190</td>\n",
       "      <td>86753</td>\n",
       "      <td>87190</td>\n",
       "      <td>87190</td>\n",
       "      <td>86902</td>\n",
       "      <td>86753</td>\n",
       "    </tr>\n",
       "    <tr>\n",
       "      <th>2015-04-30</th>\n",
       "      <td>78002</td>\n",
       "      <td>77626</td>\n",
       "      <td>78002</td>\n",
       "      <td>78002</td>\n",
       "      <td>77614</td>\n",
       "      <td>77626</td>\n",
       "    </tr>\n",
       "    <tr>\n",
       "      <th>2015-05-31</th>\n",
       "      <td>87582</td>\n",
       "      <td>86677</td>\n",
       "      <td>87582</td>\n",
       "      <td>87582</td>\n",
       "      <td>86909</td>\n",
       "      <td>86677</td>\n",
       "    </tr>\n",
       "    <tr>\n",
       "      <th>2015-06-30</th>\n",
       "      <td>84486</td>\n",
       "      <td>83924</td>\n",
       "      <td>84486</td>\n",
       "      <td>84486</td>\n",
       "      <td>83812</td>\n",
       "      <td>83924</td>\n",
       "    </tr>\n",
       "    <tr>\n",
       "      <th>2015-07-31</th>\n",
       "      <td>77795</td>\n",
       "      <td>76561</td>\n",
       "      <td>77795</td>\n",
       "      <td>77795</td>\n",
       "      <td>76889</td>\n",
       "      <td>76561</td>\n",
       "    </tr>\n",
       "    <tr>\n",
       "      <th>2015-08-31</th>\n",
       "      <td>78793</td>\n",
       "      <td>78286</td>\n",
       "      <td>78793</td>\n",
       "      <td>78793</td>\n",
       "      <td>77917</td>\n",
       "      <td>78286</td>\n",
       "    </tr>\n",
       "    <tr>\n",
       "      <th>2015-09-30</th>\n",
       "      <td>78317</td>\n",
       "      <td>77764</td>\n",
       "      <td>78317</td>\n",
       "      <td>78317</td>\n",
       "      <td>77475</td>\n",
       "      <td>77764</td>\n",
       "    </tr>\n",
       "    <tr>\n",
       "      <th>2015-10-31</th>\n",
       "      <td>72201</td>\n",
       "      <td>71612</td>\n",
       "      <td>72201</td>\n",
       "      <td>72201</td>\n",
       "      <td>71598</td>\n",
       "      <td>71612</td>\n",
       "    </tr>\n",
       "    <tr>\n",
       "      <th>2015-11-30</th>\n",
       "      <td>66333</td>\n",
       "      <td>65986</td>\n",
       "      <td>66333</td>\n",
       "      <td>66333</td>\n",
       "      <td>65846</td>\n",
       "      <td>65986</td>\n",
       "    </tr>\n",
       "    <tr>\n",
       "      <th>2015-12-31</th>\n",
       "      <td>70215</td>\n",
       "      <td>69719</td>\n",
       "      <td>70215</td>\n",
       "      <td>70215</td>\n",
       "      <td>69779</td>\n",
       "      <td>69719</td>\n",
       "    </tr>\n",
       "    <tr>\n",
       "      <th>2016-01-31</th>\n",
       "      <td>68333</td>\n",
       "      <td>67986</td>\n",
       "      <td>68333</td>\n",
       "      <td>68333</td>\n",
       "      <td>68038</td>\n",
       "      <td>67986</td>\n",
       "    </tr>\n",
       "    <tr>\n",
       "      <th>2016-02-29</th>\n",
       "      <td>68408</td>\n",
       "      <td>67997</td>\n",
       "      <td>68408</td>\n",
       "      <td>68408</td>\n",
       "      <td>68138</td>\n",
       "      <td>67997</td>\n",
       "    </tr>\n",
       "    <tr>\n",
       "      <th>2016-03-31</th>\n",
       "      <td>78521</td>\n",
       "      <td>78054</td>\n",
       "      <td>78521</td>\n",
       "      <td>78521</td>\n",
       "      <td>78146</td>\n",
       "      <td>78054</td>\n",
       "    </tr>\n",
       "    <tr>\n",
       "      <th>2016-04-30</th>\n",
       "      <td>80137</td>\n",
       "      <td>79655</td>\n",
       "      <td>80137</td>\n",
       "      <td>80137</td>\n",
       "      <td>79758</td>\n",
       "      <td>79655</td>\n",
       "    </tr>\n",
       "    <tr>\n",
       "      <th>2016-05-31</th>\n",
       "      <td>92948</td>\n",
       "      <td>92405</td>\n",
       "      <td>92948</td>\n",
       "      <td>92948</td>\n",
       "      <td>92356</td>\n",
       "      <td>92405</td>\n",
       "    </tr>\n",
       "    <tr>\n",
       "      <th>2016-06-30</th>\n",
       "      <td>91815</td>\n",
       "      <td>91017</td>\n",
       "      <td>91815</td>\n",
       "      <td>91815</td>\n",
       "      <td>91043</td>\n",
       "      <td>91017</td>\n",
       "    </tr>\n",
       "    <tr>\n",
       "      <th>2016-07-31</th>\n",
       "      <td>82586</td>\n",
       "      <td>82122</td>\n",
       "      <td>82586</td>\n",
       "      <td>82586</td>\n",
       "      <td>81767</td>\n",
       "      <td>82122</td>\n",
       "    </tr>\n",
       "    <tr>\n",
       "      <th>2016-08-31</th>\n",
       "      <td>78215</td>\n",
       "      <td>77694</td>\n",
       "      <td>78215</td>\n",
       "      <td>78215</td>\n",
       "      <td>77312</td>\n",
       "      <td>77694</td>\n",
       "    </tr>\n",
       "    <tr>\n",
       "      <th>2016-09-30</th>\n",
       "      <td>84151</td>\n",
       "      <td>83503</td>\n",
       "      <td>84151</td>\n",
       "      <td>84151</td>\n",
       "      <td>83238</td>\n",
       "      <td>83503</td>\n",
       "    </tr>\n",
       "    <tr>\n",
       "      <th>2016-10-31</th>\n",
       "      <td>78274</td>\n",
       "      <td>77729</td>\n",
       "      <td>78274</td>\n",
       "      <td>78274</td>\n",
       "      <td>77588</td>\n",
       "      <td>77729</td>\n",
       "    </tr>\n",
       "    <tr>\n",
       "      <th>2016-11-30</th>\n",
       "      <td>69652</td>\n",
       "      <td>69119</td>\n",
       "      <td>69652</td>\n",
       "      <td>69652</td>\n",
       "      <td>69256</td>\n",
       "      <td>69119</td>\n",
       "    </tr>\n",
       "    <tr>\n",
       "      <th>2016-12-31</th>\n",
       "      <td>72261</td>\n",
       "      <td>71747</td>\n",
       "      <td>72261</td>\n",
       "      <td>72261</td>\n",
       "      <td>71972</td>\n",
       "      <td>71747</td>\n",
       "    </tr>\n",
       "  </tbody>\n",
       "</table>\n",
       "</div>"
      ],
      "text/plain": [
       "            Created Date  Closed Date  Agency  Complaint Type  Descriptor  \\\n",
       "created_at                                                                  \n",
       "2015-01-31         58168        57932   58168           58168       57968   \n",
       "2015-02-28         59895        59663   59895           59895       59763   \n",
       "2015-03-31         87190        86753   87190           87190       86902   \n",
       "2015-04-30         78002        77626   78002           78002       77614   \n",
       "2015-05-31         87582        86677   87582           87582       86909   \n",
       "2015-06-30         84486        83924   84486           84486       83812   \n",
       "2015-07-31         77795        76561   77795           77795       76889   \n",
       "2015-08-31         78793        78286   78793           78793       77917   \n",
       "2015-09-30         78317        77764   78317           78317       77475   \n",
       "2015-10-31         72201        71612   72201           72201       71598   \n",
       "2015-11-30         66333        65986   66333           66333       65846   \n",
       "2015-12-31         70215        69719   70215           70215       69779   \n",
       "2016-01-31         68333        67986   68333           68333       68038   \n",
       "2016-02-29         68408        67997   68408           68408       68138   \n",
       "2016-03-31         78521        78054   78521           78521       78146   \n",
       "2016-04-30         80137        79655   80137           80137       79758   \n",
       "2016-05-31         92948        92405   92948           92948       92356   \n",
       "2016-06-30         91815        91017   91815           91815       91043   \n",
       "2016-07-31         82586        82122   82586           82586       81767   \n",
       "2016-08-31         78215        77694   78215           78215       77312   \n",
       "2016-09-30         84151        83503   84151           84151       83238   \n",
       "2016-10-31         78274        77729   78274           78274       77588   \n",
       "2016-11-30         69652        69119   69652           69652       69256   \n",
       "2016-12-31         72261        71747   72261           72261       71972   \n",
       "\n",
       "            closed_at  \n",
       "created_at             \n",
       "2015-01-31      57932  \n",
       "2015-02-28      59663  \n",
       "2015-03-31      86753  \n",
       "2015-04-30      77626  \n",
       "2015-05-31      86677  \n",
       "2015-06-30      83924  \n",
       "2015-07-31      76561  \n",
       "2015-08-31      78286  \n",
       "2015-09-30      77764  \n",
       "2015-10-31      71612  \n",
       "2015-11-30      65986  \n",
       "2015-12-31      69719  \n",
       "2016-01-31      67986  \n",
       "2016-02-29      67997  \n",
       "2016-03-31      78054  \n",
       "2016-04-30      79655  \n",
       "2016-05-31      92405  \n",
       "2016-06-30      91017  \n",
       "2016-07-31      82122  \n",
       "2016-08-31      77694  \n",
       "2016-09-30      83503  \n",
       "2016-10-31      77729  \n",
       "2016-11-30      69119  \n",
       "2016-12-31      71747  "
      ]
     },
     "execution_count": 20,
     "metadata": {},
     "output_type": "execute_result"
    }
   ],
   "source": [
    "df.resample('M').count()"
   ]
  },
  {
   "cell_type": "markdown",
   "metadata": {},
   "source": [
    "## Plot how many requests were filed each month"
   ]
  },
  {
   "cell_type": "code",
   "execution_count": 21,
   "metadata": {},
   "outputs": [
    {
     "data": {
      "text/plain": [
       "<matplotlib.axes._subplots.AxesSubplot at 0x10ce70320>"
      ]
     },
     "execution_count": 21,
     "metadata": {},
     "output_type": "execute_result"
    },
    {
     "data": {
      "image/png": "[encoded data removed]",
      "text/plain": [
       "<matplotlib.figure.Figure at 0x134e0a5f8>"
      ]
     },
     "metadata": {},
     "output_type": "display_data"
    }
   ],
   "source": [
    "df['Complaint Type'].resample('M').count().plot()"
   ]
  },
  {
   "cell_type": "markdown",
   "metadata": {},
   "source": [
    "# Hmmm, it looks like a cycle\n",
    "\n",
    "What could cause that? Try a couple comparisons to see if you can find out.\n",
    "\n",
    "- Tip: Maybe the most popular summer complaints vs winter\n",
    "- Tip: Maybe graphing the different agencies on the same graph\n",
    "\n",
    "If you don't figure it out **that's okay!** "
   ]
  },
  {
   "cell_type": "code",
   "execution_count": 22,
   "metadata": {
    "collapsed": true
   },
   "outputs": [],
   "source": [
    "import matplotlib.pyplot as plt\n",
    "plt.style.use('ggplot')"
   ]
  },
  {
   "cell_type": "code",
   "execution_count": 23,
   "metadata": {},
   "outputs": [
    {
     "data": {
      "text/html": [
       "<div>\n",
       "<style>\n",
       "    .dataframe thead tr:only-child th {\n",
       "        text-align: right;\n",
       "    }\n",
       "\n",
       "    .dataframe thead th {\n",
       "        text-align: left;\n",
       "    }\n",
       "\n",
       "    .dataframe tbody tr th {\n",
       "        vertical-align: top;\n",
       "    }\n",
       "</style>\n",
       "<table border=\"1\" class=\"dataframe\">\n",
       "  <thead>\n",
       "    <tr style=\"text-align: right;\">\n",
       "      <th></th>\n",
       "      <th>Created Date</th>\n",
       "      <th>Closed Date</th>\n",
       "      <th>Agency</th>\n",
       "      <th>Complaint Type</th>\n",
       "      <th>Descriptor</th>\n",
       "      <th>closed_at</th>\n",
       "    </tr>\n",
       "    <tr>\n",
       "      <th>created_at</th>\n",
       "      <th></th>\n",
       "      <th></th>\n",
       "      <th></th>\n",
       "      <th></th>\n",
       "      <th></th>\n",
       "      <th></th>\n",
       "    </tr>\n",
       "  </thead>\n",
       "  <tbody>\n",
       "    <tr>\n",
       "      <th>2016-03-02 03:09:00</th>\n",
       "      <td>03/02/2016 03:09:00 PM</td>\n",
       "      <td>NaN</td>\n",
       "      <td>DOT</td>\n",
       "      <td>Street Light Condition</td>\n",
       "      <td>Street Light Out</td>\n",
       "      <td>NaT</td>\n",
       "    </tr>\n",
       "    <tr>\n",
       "      <th>2016-01-03 10:18:01</th>\n",
       "      <td>01/03/2016 10:18:01 PM</td>\n",
       "      <td>01/20/2016 01:51:09 PM</td>\n",
       "      <td>DOT</td>\n",
       "      <td>DOT Literature Request</td>\n",
       "      <td>2016 Alternate Side Parking Calendar - English</td>\n",
       "      <td>2016-01-20 01:51:09</td>\n",
       "    </tr>\n",
       "    <tr>\n",
       "      <th>2016-01-02 09:47:00</th>\n",
       "      <td>01/02/2016 09:47:00 AM</td>\n",
       "      <td>01/02/2016 10:55:00 AM</td>\n",
       "      <td>DOT</td>\n",
       "      <td>Traffic Signal Condition</td>\n",
       "      <td>Controller</td>\n",
       "      <td>2016-01-02 10:55:00</td>\n",
       "    </tr>\n",
       "    <tr>\n",
       "      <th>2016-01-04 04:23:00</th>\n",
       "      <td>01/04/2016 04:23:00 PM</td>\n",
       "      <td>01/04/2016 05:35:00 PM</td>\n",
       "      <td>DOT</td>\n",
       "      <td>Traffic Signal Condition</td>\n",
       "      <td>Controller</td>\n",
       "      <td>2016-01-04 05:35:00</td>\n",
       "    </tr>\n",
       "    <tr>\n",
       "      <th>2016-01-01 02:40:00</th>\n",
       "      <td>01/01/2016 02:40:00 PM</td>\n",
       "      <td>01/01/2016 03:10:00 PM</td>\n",
       "      <td>DOT</td>\n",
       "      <td>Traffic Signal Condition</td>\n",
       "      <td>Reflector/Louvre</td>\n",
       "      <td>2016-01-01 03:10:00</td>\n",
       "    </tr>\n",
       "  </tbody>\n",
       "</table>\n",
       "</div>"
      ],
      "text/plain": [
       "                               Created Date             Closed Date Agency  \\\n",
       "created_at                                                                   \n",
       "2016-03-02 03:09:00  03/02/2016 03:09:00 PM                     NaN    DOT   \n",
       "2016-01-03 10:18:01  01/03/2016 10:18:01 PM  01/20/2016 01:51:09 PM    DOT   \n",
       "2016-01-02 09:47:00  01/02/2016 09:47:00 AM  01/02/2016 10:55:00 AM    DOT   \n",
       "2016-01-04 04:23:00  01/04/2016 04:23:00 PM  01/04/2016 05:35:00 PM    DOT   \n",
       "2016-01-01 02:40:00  01/01/2016 02:40:00 PM  01/01/2016 03:10:00 PM    DOT   \n",
       "\n",
       "                               Complaint Type  \\\n",
       "created_at                                      \n",
       "2016-03-02 03:09:00    Street Light Condition   \n",
       "2016-01-03 10:18:01    DOT Literature Request   \n",
       "2016-01-02 09:47:00  Traffic Signal Condition   \n",
       "2016-01-04 04:23:00  Traffic Signal Condition   \n",
       "2016-01-01 02:40:00  Traffic Signal Condition   \n",
       "\n",
       "                                                         Descriptor  \\\n",
       "created_at                                                            \n",
       "2016-03-02 03:09:00                                Street Light Out   \n",
       "2016-01-03 10:18:01  2016 Alternate Side Parking Calendar - English   \n",
       "2016-01-02 09:47:00                                      Controller   \n",
       "2016-01-04 04:23:00                                      Controller   \n",
       "2016-01-01 02:40:00                                Reflector/Louvre   \n",
       "\n",
       "                              closed_at  \n",
       "created_at                               \n",
       "2016-03-02 03:09:00                 NaT  \n",
       "2016-01-03 10:18:01 2016-01-20 01:51:09  \n",
       "2016-01-02 09:47:00 2016-01-02 10:55:00  \n",
       "2016-01-04 04:23:00 2016-01-04 05:35:00  \n",
       "2016-01-01 02:40:00 2016-01-01 03:10:00  "
      ]
     },
     "execution_count": 23,
     "metadata": {},
     "output_type": "execute_result"
    }
   ],
   "source": [
    "df[df.index.month.isin([1,2,3])].head()"
   ]
  },
  {
   "cell_type": "code",
   "execution_count": 24,
   "metadata": {},
   "outputs": [
    {
     "data": {
      "text/html": [
       "<div>\n",
       "<style>\n",
       "    .dataframe thead tr:only-child th {\n",
       "        text-align: right;\n",
       "    }\n",
       "\n",
       "    .dataframe thead th {\n",
       "        text-align: left;\n",
       "    }\n",
       "\n",
       "    .dataframe tbody tr th {\n",
       "        vertical-align: top;\n",
       "    }\n",
       "</style>\n",
       "<table border=\"1\" class=\"dataframe\">\n",
       "  <thead>\n",
       "    <tr style=\"text-align: right;\">\n",
       "      <th></th>\n",
       "      <th>Created Date</th>\n",
       "      <th>Closed Date</th>\n",
       "      <th>Agency</th>\n",
       "      <th>Complaint Type</th>\n",
       "      <th>Descriptor</th>\n",
       "      <th>closed_at</th>\n",
       "    </tr>\n",
       "    <tr>\n",
       "      <th>created_at</th>\n",
       "      <th></th>\n",
       "      <th></th>\n",
       "      <th></th>\n",
       "      <th></th>\n",
       "      <th></th>\n",
       "      <th></th>\n",
       "    </tr>\n",
       "  </thead>\n",
       "  <tbody>\n",
       "    <tr>\n",
       "      <th>2016-08-02 11:45:44</th>\n",
       "      <td>08/02/2016 11:45:44 PM</td>\n",
       "      <td>04/29/2017 04:30:00 PM</td>\n",
       "      <td>DOT</td>\n",
       "      <td>Street Condition</td>\n",
       "      <td>Pothole</td>\n",
       "      <td>2017-04-29 04:30:00</td>\n",
       "    </tr>\n",
       "    <tr>\n",
       "      <th>2015-06-20 09:27:31</th>\n",
       "      <td>06/20/2015 09:27:31 AM</td>\n",
       "      <td>NaN</td>\n",
       "      <td>DOT</td>\n",
       "      <td>Street Condition</td>\n",
       "      <td>Pothole</td>\n",
       "      <td>NaT</td>\n",
       "    </tr>\n",
       "    <tr>\n",
       "      <th>2015-06-20 01:59:31</th>\n",
       "      <td>06/20/2015 01:59:31 PM</td>\n",
       "      <td>NaN</td>\n",
       "      <td>DOT</td>\n",
       "      <td>Street Condition</td>\n",
       "      <td>Pothole</td>\n",
       "      <td>NaT</td>\n",
       "    </tr>\n",
       "    <tr>\n",
       "      <th>2015-06-21 03:24:00</th>\n",
       "      <td>06/21/2015 03:24:00 PM</td>\n",
       "      <td>NaN</td>\n",
       "      <td>DOT</td>\n",
       "      <td>Street Condition</td>\n",
       "      <td>Pothole</td>\n",
       "      <td>NaT</td>\n",
       "    </tr>\n",
       "    <tr>\n",
       "      <th>2015-06-20 06:11:25</th>\n",
       "      <td>06/20/2015 06:11:25 PM</td>\n",
       "      <td>NaN</td>\n",
       "      <td>DOT</td>\n",
       "      <td>Street Condition</td>\n",
       "      <td>Pothole</td>\n",
       "      <td>NaT</td>\n",
       "    </tr>\n",
       "  </tbody>\n",
       "</table>\n",
       "</div>"
      ],
      "text/plain": [
       "                               Created Date             Closed Date Agency  \\\n",
       "created_at                                                                   \n",
       "2016-08-02 11:45:44  08/02/2016 11:45:44 PM  04/29/2017 04:30:00 PM    DOT   \n",
       "2015-06-20 09:27:31  06/20/2015 09:27:31 AM                     NaN    DOT   \n",
       "2015-06-20 01:59:31  06/20/2015 01:59:31 PM                     NaN    DOT   \n",
       "2015-06-21 03:24:00  06/21/2015 03:24:00 PM                     NaN    DOT   \n",
       "2015-06-20 06:11:25  06/20/2015 06:11:25 PM                     NaN    DOT   \n",
       "\n",
       "                       Complaint Type Descriptor           closed_at  \n",
       "created_at                                                            \n",
       "2016-08-02 11:45:44  Street Condition    Pothole 2017-04-29 04:30:00  \n",
       "2015-06-20 09:27:31  Street Condition    Pothole                 NaT  \n",
       "2015-06-20 01:59:31  Street Condition    Pothole                 NaT  \n",
       "2015-06-21 03:24:00  Street Condition    Pothole                 NaT  \n",
       "2015-06-20 06:11:25  Street Condition    Pothole                 NaT  "
      ]
     },
     "execution_count": 24,
     "metadata": {},
     "output_type": "execute_result"
    }
   ],
   "source": [
    "df[df.index.month.isin([6,7,8])].head()\n"
   ]
  },
  {
   "cell_type": "markdown",
   "metadata": {},
   "source": [
    "## Time of day\n",
    "\n",
    "### What time of day do people complain?"
   ]
  },
  {
   "cell_type": "code",
   "execution_count": 25,
   "metadata": {},
   "outputs": [
    {
     "data": {
      "text/plain": [
       "<matplotlib.axes._subplots.AxesSubplot at 0x1118fa4e0>"
      ]
     },
     "execution_count": 25,
     "metadata": {},
     "output_type": "execute_result"
    },
    {
     "data": {
      "image/png": "[encoded data removed]",
      "text/plain": [
       "<matplotlib.figure.Figure at 0x111a47048>"
      ]
     },
     "metadata": {},
     "output_type": "display_data"
    }
   ],
   "source": [
    "df.groupby(df.index.hour).count().plot(y='Complaint Type')"
   ]
  },
  {
   "cell_type": "markdown",
   "metadata": {},
   "source": [
    "### What time of day do people complain about potholes?"
   ]
  },
  {
   "cell_type": "code",
   "execution_count": 26,
   "metadata": {},
   "outputs": [
    {
     "data": {
      "text/plain": [
       "Loud Music/Party                                             432588\n",
       "No Access                                                    163622\n",
       "Street Light Out                                             147587\n",
       "Pothole                                                      138134\n",
       "Banging/Pounding                                             122237\n",
       "Loud Talking                                                  78513\n",
       "Posted Parking Sign Violation                                 62033\n",
       "Partial Access                                                56305\n",
       "Blocked Hydrant                                               50785\n",
       "With License Plate                                            50758\n",
       "Controller                                                    41109\n",
       "Blocked Sidewalk                                              32649\n",
       "Commercial Overnight Parking                                  31242\n",
       "Car/Truck Music                                               26665\n",
       "Cave-in                                                       22539\n",
       "Coin or Card Did Not Register                                 18478\n",
       "Other (complaint details)                                     18301\n",
       "Double Parked Blocking Traffic                                17039\n",
       "Out of Order                                                  16414\n",
       "Blocked - Construction                                        13077\n",
       "Rough, Pitted or Cracked Roads                                12150\n",
       "Defective Hardware                                            11832\n",
       "Engine Idling                                                 11366\n",
       "Double Parked Blocking Vehicle                                11236\n",
       "No Receipt                                                    10463\n",
       "Neglected                                                      9959\n",
       "Car/Truck Horn                                                 9822\n",
       "Failed Street Repair                                           9408\n",
       "Street Light Cycling                                           8880\n",
       "Loud Television                                                7945\n",
       "                                                              ...  \n",
       "Lane Station                                                      2\n",
       "Wood Pole Missing                                                 2\n",
       "2015 Alternate Side Parking Calendar - Chinese                    2\n",
       "Relocation of Parking Meter                                       2\n",
       "Dead End Sign                                                     2\n",
       "Crack Sealing                                                     2\n",
       "2016 Alternate Side Parking Calendar - Korean                     2\n",
       "Traffic Signal Condition                                          1\n",
       "Planted More Than 2 Years Ago                                     1\n",
       "PPPD - Initial - City Application - Korean                        1\n",
       "2015 Alternate Side Parking Calendar - Korean                     1\n",
       "EXPY Sign Reflector                                               1\n",
       "PPPD - Initial - City Application - Chinese - Traditional         1\n",
       "PPPD - Initial - City Application - Haitian Creole                1\n",
       "Condulet Cover                                                    1\n",
       "Supervisory                                                       1\n",
       "Graffiti - Tunnel                                                 1\n",
       "Sign Defect - Garage                                              1\n",
       "Animal Waste                                                      1\n",
       "Defective Streetlight                                             1\n",
       "Fire Alarm Lamp Dim                                               1\n",
       "Damaged/Missing Ad Box                                            1\n",
       "Dust Cover                                                        1\n",
       "2015 Alternate Side Parking Calendar - Russian                    1\n",
       "Blank Out Matrix Sgn                                              1\n",
       "Marine Fixture                                                    1\n",
       "Coax Cable                                                        1\n",
       "2015 Alternate Side Parking Calendar - Bengali                    1\n",
       "Marine Globe                                                      1\n",
       "Lighting/Electrical                                               1\n",
       "Name: Descriptor, Length: 355, dtype: int64"
      ]
     },
     "execution_count": 26,
     "metadata": {},
     "output_type": "execute_result"
    }
   ],
   "source": [
    "df['Descriptor'].value_counts()"
   ]
  },
  {
   "cell_type": "code",
   "execution_count": 27,
   "metadata": {},
   "outputs": [
    {
     "data": {
      "text/plain": [
       "Created Date      138134\n",
       "Closed Date       137071\n",
       "Agency            138134\n",
       "Complaint Type    138134\n",
       "Descriptor        138134\n",
       "closed_at         137071\n",
       "dtype: int64"
      ]
     },
     "execution_count": 27,
     "metadata": {},
     "output_type": "execute_result"
    }
   ],
   "source": [
    "df[df['Descriptor'] == 'Pothole'].count()"
   ]
  },
  {
   "cell_type": "code",
   "execution_count": 28,
   "metadata": {},
   "outputs": [
    {
     "data": {
      "text/plain": [
       "<matplotlib.axes._subplots.AxesSubplot at 0x111dfbe80>"
      ]
     },
     "execution_count": 28,
     "metadata": {},
     "output_type": "execute_result"
    },
    {
     "data": {
      "image/png": "[encoded data removed]",
      "text/plain": [
       "<matplotlib.figure.Figure at 0x111e006d8>"
      ]
     },
     "metadata": {},
     "output_type": "display_data"
    }
   ],
   "source": [
    "# df['Descriptor'].groupby(by=df.index.hour).value_counts().plot()\n",
    "\n",
    "\n",
    "df[df['Descriptor'] == 'Pothole'].groupby(by=df[df['Descriptor'] == 'Pothole'].index.hour).count().plot(y='Agency')\n",
    "\n",
    "# df[df['Descriptor'] == 'Pothole'].groupby(by=df.index.hour).count().plot()"
   ]
  },
  {
   "cell_type": "markdown",
   "metadata": {},
   "source": [
    "### What time of day do people complain about loud parties?"
   ]
  },
  {
   "cell_type": "code",
   "execution_count": 29,
   "metadata": {},
   "outputs": [
    {
     "data": {
      "text/plain": [
       "<matplotlib.axes._subplots.AxesSubplot at 0x11245c128>"
      ]
     },
     "execution_count": 29,
     "metadata": {},
     "output_type": "execute_result"
    },
    {
     "data": {
      "image/png": "[encoded data removed]",
      "text/plain": [
       "<matplotlib.figure.Figure at 0x1124625c0>"
      ]
     },
     "metadata": {},
     "output_type": "display_data"
    }
   ],
   "source": [
    "df[df['Descriptor'] == 'Loud Music/Party'].groupby(by=df[df['Descriptor'] == 'Loud Music/Party'].index.hour).count().plot(y='Agency')"
   ]
  },
  {
   "cell_type": "markdown",
   "metadata": {},
   "source": [
    "## Days of the week"
   ]
  },
  {
   "cell_type": "markdown",
   "metadata": {},
   "source": [
    "### What days of the week do people complain about potholes?"
   ]
  },
  {
   "cell_type": "code",
   "execution_count": 30,
   "metadata": {},
   "outputs": [
    {
     "data": {
      "text/plain": [
       "<matplotlib.axes._subplots.AxesSubplot at 0x1122847f0>"
      ]
     },
     "execution_count": 30,
     "metadata": {},
     "output_type": "execute_result"
    },
    {
     "data": {
      "image/png": "[encoded data removed]",
      "text/plain": [
       "<matplotlib.figure.Figure at 0x11228f898>"
      ]
     },
     "metadata": {},
     "output_type": "display_data"
    }
   ],
   "source": [
    "df[df['Descriptor'] == 'Pothole'].groupby(by=df[df['Descriptor'] == 'Pothole'].index.dayofweek).count().plot(y='Agency')\n"
   ]
  },
  {
   "cell_type": "markdown",
   "metadata": {},
   "source": [
    "### What days of the week do people complain about loud parties?"
   ]
  },
  {
   "cell_type": "code",
   "execution_count": 31,
   "metadata": {},
   "outputs": [
    {
     "data": {
      "text/plain": [
       "<matplotlib.axes._subplots.AxesSubplot at 0x112565898>"
      ]
     },
     "execution_count": 31,
     "metadata": {},
     "output_type": "execute_result"
    },
    {
     "data": {
      "image/png": "[encoded data removed]",
      "text/plain": [
       "<matplotlib.figure.Figure at 0x112570c88>"
      ]
     },
     "metadata": {},
     "output_type": "display_data"
    }
   ],
   "source": [
    "df[df['Descriptor'] == 'Loud Music/Party'].groupby(by=df[df['Descriptor'] == 'Loud Music/Party'].index.dayofweek).count().plot(y='Agency')"
   ]
  },
  {
   "cell_type": "markdown",
   "metadata": {},
   "source": [
    "### What do you think is the best kind of graph for describing day of the week complaints?"
   ]
  },
  {
   "cell_type": "code",
   "execution_count": 32,
   "metadata": {},
   "outputs": [
    {
     "data": {
      "text/plain": [
       "<matplotlib.axes._subplots.AxesSubplot at 0x1125c1780>"
      ]
     },
     "execution_count": 32,
     "metadata": {},
     "output_type": "execute_result"
    },
    {
     "data": {
      "image/png": "[encoded data removed]",
      "text/plain": [
       "<matplotlib.figure.Figure at 0x112b2ad30>"
      ]
     },
     "metadata": {},
     "output_type": "display_data"
    }
   ],
   "source": [
    "df[df['Descriptor'] == 'Loud Music/Party'].groupby(by=df[df['Descriptor'] == 'Loud Music/Party'].index.dayofweek).count().plot(kind='bar', y='Agency')"
   ]
  },
  {
   "cell_type": "markdown",
   "metadata": {},
   "source": [
    "# Some more investigation\n",
    "\n",
    "## Are there more homeless people in the city in the summer or in the winter?"
   ]
  },
  {
   "cell_type": "code",
   "execution_count": 33,
   "metadata": {},
   "outputs": [
    {
     "data": {
      "text/html": [
       "<div>\n",
       "<style>\n",
       "    .dataframe thead tr:only-child th {\n",
       "        text-align: right;\n",
       "    }\n",
       "\n",
       "    .dataframe thead th {\n",
       "        text-align: left;\n",
       "    }\n",
       "\n",
       "    .dataframe tbody tr th {\n",
       "        vertical-align: top;\n",
       "    }\n",
       "</style>\n",
       "<table border=\"1\" class=\"dataframe\">\n",
       "  <thead>\n",
       "    <tr style=\"text-align: right;\">\n",
       "      <th></th>\n",
       "      <th>Created Date</th>\n",
       "      <th>Closed Date</th>\n",
       "      <th>Agency</th>\n",
       "      <th>Complaint Type</th>\n",
       "      <th>Descriptor</th>\n",
       "      <th>closed_at</th>\n",
       "    </tr>\n",
       "    <tr>\n",
       "      <th>created_at</th>\n",
       "      <th></th>\n",
       "      <th></th>\n",
       "      <th></th>\n",
       "      <th></th>\n",
       "      <th></th>\n",
       "      <th></th>\n",
       "    </tr>\n",
       "  </thead>\n",
       "  <tbody>\n",
       "    <tr>\n",
       "      <th>2016-03-02 03:09:00</th>\n",
       "      <td>03/02/2016 03:09:00 PM</td>\n",
       "      <td>NaN</td>\n",
       "      <td>DOT</td>\n",
       "      <td>Street Light Condition</td>\n",
       "      <td>Street Light Out</td>\n",
       "      <td>NaT</td>\n",
       "    </tr>\n",
       "    <tr>\n",
       "      <th>2016-01-03 10:18:01</th>\n",
       "      <td>01/03/2016 10:18:01 PM</td>\n",
       "      <td>01/20/2016 01:51:09 PM</td>\n",
       "      <td>DOT</td>\n",
       "      <td>DOT Literature Request</td>\n",
       "      <td>2016 Alternate Side Parking Calendar - English</td>\n",
       "      <td>2016-01-20 01:51:09</td>\n",
       "    </tr>\n",
       "    <tr>\n",
       "      <th>2016-01-02 09:47:00</th>\n",
       "      <td>01/02/2016 09:47:00 AM</td>\n",
       "      <td>01/02/2016 10:55:00 AM</td>\n",
       "      <td>DOT</td>\n",
       "      <td>Traffic Signal Condition</td>\n",
       "      <td>Controller</td>\n",
       "      <td>2016-01-02 10:55:00</td>\n",
       "    </tr>\n",
       "    <tr>\n",
       "      <th>2016-01-04 04:23:00</th>\n",
       "      <td>01/04/2016 04:23:00 PM</td>\n",
       "      <td>01/04/2016 05:35:00 PM</td>\n",
       "      <td>DOT</td>\n",
       "      <td>Traffic Signal Condition</td>\n",
       "      <td>Controller</td>\n",
       "      <td>2016-01-04 05:35:00</td>\n",
       "    </tr>\n",
       "    <tr>\n",
       "      <th>2016-01-01 02:40:00</th>\n",
       "      <td>01/01/2016 02:40:00 PM</td>\n",
       "      <td>01/01/2016 03:10:00 PM</td>\n",
       "      <td>DOT</td>\n",
       "      <td>Traffic Signal Condition</td>\n",
       "      <td>Reflector/Louvre</td>\n",
       "      <td>2016-01-01 03:10:00</td>\n",
       "    </tr>\n",
       "  </tbody>\n",
       "</table>\n",
       "</div>"
      ],
      "text/plain": [
       "                               Created Date             Closed Date Agency  \\\n",
       "created_at                                                                   \n",
       "2016-03-02 03:09:00  03/02/2016 03:09:00 PM                     NaN    DOT   \n",
       "2016-01-03 10:18:01  01/03/2016 10:18:01 PM  01/20/2016 01:51:09 PM    DOT   \n",
       "2016-01-02 09:47:00  01/02/2016 09:47:00 AM  01/02/2016 10:55:00 AM    DOT   \n",
       "2016-01-04 04:23:00  01/04/2016 04:23:00 PM  01/04/2016 05:35:00 PM    DOT   \n",
       "2016-01-01 02:40:00  01/01/2016 02:40:00 PM  01/01/2016 03:10:00 PM    DOT   \n",
       "\n",
       "                               Complaint Type  \\\n",
       "created_at                                      \n",
       "2016-03-02 03:09:00    Street Light Condition   \n",
       "2016-01-03 10:18:01    DOT Literature Request   \n",
       "2016-01-02 09:47:00  Traffic Signal Condition   \n",
       "2016-01-04 04:23:00  Traffic Signal Condition   \n",
       "2016-01-01 02:40:00  Traffic Signal Condition   \n",
       "\n",
       "                                                         Descriptor  \\\n",
       "created_at                                                            \n",
       "2016-03-02 03:09:00                                Street Light Out   \n",
       "2016-01-03 10:18:01  2016 Alternate Side Parking Calendar - English   \n",
       "2016-01-02 09:47:00                                      Controller   \n",
       "2016-01-04 04:23:00                                      Controller   \n",
       "2016-01-01 02:40:00                                Reflector/Louvre   \n",
       "\n",
       "                              closed_at  \n",
       "created_at                               \n",
       "2016-03-02 03:09:00                 NaT  \n",
       "2016-01-03 10:18:01 2016-01-20 01:51:09  \n",
       "2016-01-02 09:47:00 2016-01-02 10:55:00  \n",
       "2016-01-04 04:23:00 2016-01-04 05:35:00  \n",
       "2016-01-01 02:40:00 2016-01-01 03:10:00  "
      ]
     },
     "execution_count": 33,
     "metadata": {},
     "output_type": "execute_result"
    }
   ],
   "source": [
    "df[df.index.month.isin([1,2,3])].head()"
   ]
  },
  {
   "cell_type": "code",
   "execution_count": 34,
   "metadata": {},
   "outputs": [
    {
     "data": {
      "text/plain": [
       "<matplotlib.axes._subplots.AxesSubplot at 0x1133ca7b8>"
      ]
     },
     "execution_count": 34,
     "metadata": {},
     "output_type": "execute_result"
    },
    {
     "data": {
      "image/png": "[encoded data removed]",
      "text/plain": [
       "<matplotlib.figure.Figure at 0x112de04e0>"
      ]
     },
     "metadata": {},
     "output_type": "display_data"
    }
   ],
   "source": [
    "df[df['Complaint Type'] == 'Homeless Encampment'].sort_index().resample('M').count().plot(y='Complaint Type')"
   ]
  },
  {
   "cell_type": "markdown",
   "metadata": {},
   "source": [
    "## What holiday(s) are most popular for illegal fireworks?"
   ]
  },
  {
   "cell_type": "code",
   "execution_count": 35,
   "metadata": {},
   "outputs": [
    {
     "data": {
      "text/plain": [
       "<matplotlib.axes._subplots.AxesSubplot at 0x1125ebef0>"
      ]
     },
     "execution_count": 35,
     "metadata": {},
     "output_type": "execute_result"
    },
    {
     "data": {
      "image/png": "[encoded data removed]",
      "text/plain": [
       "<matplotlib.figure.Figure at 0x1133ff198>"
      ]
     },
     "metadata": {},
     "output_type": "display_data"
    }
   ],
   "source": [
    "df[df['Complaint Type'] == 'Illegal Fireworks'].sort_index().resample('M').count().plot(y='Complaint Type')"
   ]
  },
  {
   "cell_type": "markdown",
   "metadata": {},
   "source": [
    "## Plot all kinds of noise complaints on top of each other"
   ]
  },
  {
   "cell_type": "code",
   "execution_count": 36,
   "metadata": {
    "collapsed": true
   },
   "outputs": [],
   "source": [
    "# Noise - Street/Sidewalk\n",
    "# Noise - Residential            \n",
    "# Noise - Commercial              \n",
    "# Noise - Vehicle                 \n",
    "# Noise - Park                     \n",
    "# Noise - House of Worship         \n"
   ]
  },
  {
   "cell_type": "code",
   "execution_count": 39,
   "metadata": {
    "collapsed": true
   },
   "outputs": [],
   "source": [
    "import matplotlib.pyplot as plt\n",
    "plt.style.use('ggplot')"
   ]
  },
  {
   "cell_type": "code",
   "execution_count": 56,
   "metadata": {},
   "outputs": [
    {
     "data": {
      "text/plain": [
       "<matplotlib.axes._subplots.AxesSubplot at 0x1228dbb38>"
      ]
     },
     "execution_count": 56,
     "metadata": {},
     "output_type": "execute_result"
    },
    {
     "data": {
      "image/png": "[encoded data removed]",
      "text/plain": [
       "<matplotlib.figure.Figure at 0x1228e1470>"
      ]
     },
     "metadata": {},
     "output_type": "display_data"
    }
   ],
   "source": [
    "fig, ax = plt.subplots(figsize = (10,5))\n",
    "\n",
    "ax.set_title('All kinds of noise complaints')\n",
    "\n",
    "df[df['Complaint Type'] == 'Noise - Street/Sidewalk'].sort_index().resample('M').count().plot(label = 'Noise - Street/Sidewalk', y = 'Complaint Type', ax=ax)\n",
    "df[df['Complaint Type'] == 'Noise - Residential'].sort_index().resample('M').count().plot(label = 'Noise - Residential', y = 'Complaint Type', ax=ax)\n",
    "df[df['Complaint Type'] == 'Noise - Commercial'].sort_index().resample('M').count().plot(label = 'Noise - Commercial', y = 'Complaint Type', ax=ax)\n",
    "df[df['Complaint Type'] == 'Noise - Vehicle'].sort_index().resample('M').count().plot(label = 'Noise - Vehicle', y = 'Complaint Type', ax=ax)\n",
    "df[df['Complaint Type'] == 'Noise - Park'].sort_index().resample('M').count().plot(label = 'Noise - Park', y = 'Complaint Type',ax=ax)\n",
    "df[df['Complaint Type'] == 'Noise - House of Worship'].sort_index().resample('M').count().plot(label = 'Noise - House of Worship', y = 'Complaint Type', ax=ax)\n"
   ]
  }
 ],
 "metadata": {
  "kernelspec": {
   "display_name": "Python 3",
   "language": "python",
   "name": "python3"
  },
  "language_info": {
   "codemirror_mode": {
    "name": "ipython",
    "version": 3
   },
   "file_extension": ".py",
   "mimetype": "text/x-python",
   "name": "python",
   "nbconvert_exporter": "python",
   "pygments_lexer": "ipython3",
   "version": "3.6.1"
  }
 },
 "nbformat": 4,
 "nbformat_minor": 2
}
