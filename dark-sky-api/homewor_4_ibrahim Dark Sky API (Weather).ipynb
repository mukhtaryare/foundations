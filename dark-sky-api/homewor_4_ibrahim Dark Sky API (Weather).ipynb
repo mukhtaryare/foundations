{
 "cells": [
  {
   "cell_type": "markdown",
   "metadata": {},
   "source": [
    "**Dark Sky API (Weather)**\n",
    "\n",
    "Answer the following questions using the [Dark Sky API](https://darksky.net/dev/). I've added three cells for each question but you're free to use more or less! Hold `Shift` and hit `Enter` to run a cell, and use the `+` on the top left to add a new cell to a notebook.\n",
    "\n",
    "If you spend some time reading the documentation your life will probably be a little bit easier!\n",
    "\n",
    "**Import any libraries you might need**\n",
    "\n",
    "- *Tip: We're going to be downloading things from the internet, so we probably need `requests`.*"
   ]
  },
  {
   "cell_type": "code",
   "execution_count": 1,
   "metadata": {
    "collapsed": true
   },
   "outputs": [],
   "source": [
    "import requests"
   ]
  },
  {
   "cell_type": "markdown",
   "metadata": {
    "collapsed": true
   },
   "source": [
    "**1. Make a request from the Dark Sky API for where you were born (or lived, or want to visit!).**\n",
    "\n",
    "- *Tip: The URL we used in class was for a place near San Francisco. What was the format of the endpoint that made this happen?*\n",
    "- *Tip: Save the URL as a separate variable, and be sure to not have `[` and `]` inside.*\n",
    "- *Tip: How is north vs. south and east vs. west latitude/longitude represented? Is it the normal North/South/East/West?*\n",
    "- *Tip: You know it's JSON, but Python doesn't! Make sure you aren't trying to deal with plain text.* \n",
    "- *Tip: Once you've imported the JSON into a variable, check the timezone's name to make sure it seems like it got the right part of the world!*"
   ]
  },
  {
   "cell_type": "code",
   "execution_count": 2,
   "metadata": {
    "collapsed": true
   },
   "outputs": [],
   "source": [
    "url = \"https://api.darksky.net/forecast/6a485ea472a83b9b0578bffa3c10d9bb/5.1521,46.1996\"\n",
    "response = requests.get(url) \n",
    "data = response.json()"
   ]
  },
  {
   "cell_type": "code",
   "execution_count": 3,
   "metadata": {},
   "outputs": [
    {
     "name": "stdout",
     "output_type": "stream",
     "text": [
      "Africa/Mogadishu\n"
     ]
    }
   ],
   "source": [
    "print(data[\"timezone\"]) "
   ]
  },
  {
   "cell_type": "markdown",
   "metadata": {},
   "source": [
    "**2. What's the current wind speed? How much warmer does it feel than it actually is?**\n",
    "\n",
    "- *Tip: You can do this by browsing through the dictionaries, but it might be easier to read the documentation*\n",
    "- *Tip: For the second half: it **is** one temperature, and it **feels** a different temperature. Calculate the difference.*"
   ]
  },
  {
   "cell_type": "code",
   "execution_count": 4,
   "metadata": {},
   "outputs": [
    {
     "name": "stdout",
     "output_type": "stream",
     "text": [
      "The current wind speed in Mogadishu is 18.47 miles per hour.\n"
     ]
    }
   ],
   "source": [
    "print(\"The current wind speed in Mogadishu is\", data[\"currently\"][\"windSpeed\"], \"miles per hour.\") # windSpeed is within currently dict"
   ]
  },
  {
   "cell_type": "code",
   "execution_count": 5,
   "metadata": {
    "collapsed": true
   },
   "outputs": [],
   "source": [
    "temp_diff = data[\"currently\"][\"temperature\"] - data[\"currently\"][\"apparentTemperature\"]"
   ]
  },
  {
   "cell_type": "code",
   "execution_count": 6,
   "metadata": {},
   "outputs": [
    {
     "name": "stdout",
     "output_type": "stream",
     "text": [
      "It feels 0.0 than it actually is.\n"
     ]
    }
   ],
   "source": [
    "print(\"It feels\", round(temp_diff, 2), \"than it actually is.\")"
   ]
  },
  {
   "cell_type": "markdown",
   "metadata": {},
   "source": [
    "**3. Today's forecast is the FIRST daily forecast. For the place you decided on above, how much of the moon is currently visible?**\n",
    "\n",
    "- *Tip: This does **not** use the `currently` key.*\n",
    "- *Tip: It might be helpful to save the forecast into its own variable*"
   ]
  },
  {
   "cell_type": "code",
   "execution_count": 7,
   "metadata": {
    "collapsed": true
   },
   "outputs": [],
   "source": [
    "daily_forecast = data[\"daily\"]"
   ]
  },
  {
   "cell_type": "code",
   "execution_count": 8,
   "metadata": {},
   "outputs": [
    {
     "data": {
      "text/plain": [
       "dict_keys(['summary', 'icon', 'data'])"
      ]
     },
     "execution_count": 8,
     "metadata": {},
     "output_type": "execute_result"
    }
   ],
   "source": [
    "daily_forecast.keys()"
   ]
  },
  {
   "cell_type": "code",
   "execution_count": 9,
   "metadata": {
    "collapsed": true
   },
   "outputs": [],
   "source": [
    "daily_data = daily_forecast[\"data\"]"
   ]
  },
  {
   "cell_type": "code",
   "execution_count": 10,
   "metadata": {},
   "outputs": [
    {
     "data": {
      "text/plain": [
       "list"
      ]
     },
     "execution_count": 10,
     "metadata": {},
     "output_type": "execute_result"
    }
   ],
   "source": [
    "type(daily_data)"
   ]
  },
  {
   "cell_type": "code",
   "execution_count": 11,
   "metadata": {
    "collapsed": true,
    "scrolled": false
   },
   "outputs": [],
   "source": [
    "# daily_data"
   ]
  },
  {
   "cell_type": "code",
   "execution_count": 12,
   "metadata": {
    "collapsed": true
   },
   "outputs": [],
   "source": [
    "# daily_data[0] returns the first dictionary of the list."
   ]
  },
  {
   "cell_type": "code",
   "execution_count": 13,
   "metadata": {
    "collapsed": true
   },
   "outputs": [],
   "source": [
    "# moonPhase optional, only on daily\n",
    "# The fractional part of the lunation number during the given day: \n",
    "# a value of 0 corresponds to a new moon, \n",
    "# 0.25 to a first quarter moon, \n",
    "# 0.5 to a full moon, and 0.75 to a last quarter moon. \n",
    "# (The ranges in between these represent waxing crescent, waxing gibbous, waning gibbous, and waning crescent moons, respectively.)"
   ]
  },
  {
   "cell_type": "code",
   "execution_count": 14,
   "metadata": {},
   "outputs": [
    {
     "data": {
      "text/plain": [
       "0.28"
      ]
     },
     "execution_count": 14,
     "metadata": {},
     "output_type": "execute_result"
    }
   ],
   "source": [
    "daily_data[0][\"moonPhase\"]"
   ]
  },
  {
   "cell_type": "code",
   "execution_count": 15,
   "metadata": {},
   "outputs": [
    {
     "name": "stdout",
     "output_type": "stream",
     "text": [
      "The first quarter of the moon is visible in Mogadishu.\n"
     ]
    }
   ],
   "source": [
    "if daily_data[0]['moonPhase'] > 0 and daily_data[0]['moonPhase'] < 0.25:\n",
    "    print(\"A new moon is currently visible in Mogadishu.\")\n",
    "elif daily_data[0]['moonPhase'] > 0.25 and daily_data[0]['moonPhase'] < 0.50: \n",
    "    print(\"The first quarter of the moon is visible in Mogadishu.\")\n",
    "elif daily_data[0]['moonPhase'] > 0.50 and daily_data[0]['moonPhase'] < 0.75: \n",
    "    print(\"A full moon is currently visible in Mogadishu.\")\n",
    "elif daily_data[0]['moonPhase'] > 0.75 and daily_data[0]['moonPhase'] < 1: \n",
    "    print(\"The last quarter of the moon is visible in Mogadishu.\")"
   ]
  },
  {
   "cell_type": "markdown",
   "metadata": {},
   "source": [
    "**4) What's the difference between the high and low temperatures for today?**"
   ]
  },
  {
   "cell_type": "code",
   "execution_count": 16,
   "metadata": {},
   "outputs": [
    {
     "name": "stdout",
     "output_type": "stream",
     "text": [
      "The difference between the high and low temperature for today is 22.48\n"
     ]
    }
   ],
   "source": [
    "temp_different = daily_data[0][\"temperatureMax\"] -  daily_data[0][\"temperatureMin\"]\n",
    "print(\"The difference between the high and low temperature for today is\", round(temp_different, 2))"
   ]
  },
  {
   "cell_type": "markdown",
   "metadata": {},
   "source": [
    "**5) Go through the daily forecasts, printing out the next week's worth of predictions.**\n",
    "\n",
    "I'd like to know the **high temperature** for each day, and whether it's **hot, warm, or cold** (based on what temperatures you think are hot, warm or cold).\n",
    "\n",
    "- *Tip: Is it returning F or C? You can change them by adding `?units=us` or `?units=si` onto the end of the URL.*\n",
    "- *Tip: You'll need to use an `if` statement to say whether it is hot, warm or cold.*"
   ]
  },
  {
   "cell_type": "code",
   "execution_count": 78,
   "metadata": {},
   "outputs": [
    {
     "name": "stdout",
     "output_type": "stream",
     "text": [
      "The temperature in Mogadishu is really hot: 100.74\n",
      "The temperature in Mogadishu is really hot: 100.48\n",
      "The temperature in Mogadishu is really hot: 100.06\n",
      "The temperature in Mogadishu is hot: 99.38\n",
      "The temperature in Mogadishu is hot: 99.19\n",
      "The temperature in Mogadishu is moderately hot: 98.66\n",
      "The temperature in Mogadishu is slightly hot: 97.47\n",
      "The temperature in Mogadishu is warm: 96.95\n"
     ]
    }
   ],
   "source": [
    "daily_forecast = 0\n",
    "for day in daily_data:\n",
    "    if day[\"temperatureMax\"] > 100:\n",
    "        daily_forecast = 0\n",
    "        print(\"The temperature in Mogadishu is really hot:\", day[\"temperatureMax\"])    \n",
    "    elif day[\"temperatureMax\"] > 99 and day[\"temperatureMax\"] < 100:\n",
    "        daily_forecast = daily_forecast +1\n",
    "        print(\"The temperature in Mogadishu is hot:\", day[\"temperatureMax\"])  \n",
    "    elif day[\"temperatureMax\"] > 98 and day[\"temperatureMax\"] < 99:\n",
    "        daily_forecast = daily_forecast +1\n",
    "        print(\"The temperature in Mogadishu is moderately hot:\", day[\"temperatureMax\"]) \n",
    "    elif day[\"temperatureMax\"] > 97 and day[\"temperatureMax\"] < 98:\n",
    "        daily_forecast = daily_forecast +1\n",
    "        print(\"The temperature in Mogadishu is slightly hot:\", day[\"temperatureMax\"])\n",
    "    elif day[\"temperatureMax\"] > 96 and day[\"temperatureMax\"] < 97:\n",
    "        daily_forecast = daily_forecast +1\n",
    "        print(\"The temperature in Mogadishu is warm:\", day[\"temperatureMax\"]) "
   ]
  },
  {
   "cell_type": "markdown",
   "metadata": {},
   "source": [
    "**6) What will be the hottest day in the next week? What is the high temperature on that day?**\n",
    "\n",
    "It's okay if your result looks like `1453363200`. If you want to be extra-fancy, though, format it as a **real date** - the weird number is called a **UNIX timestamp**, which might help in googling.\n",
    "\n",
    "- *Tip: It's okay to skip this if it seems too difficult!*"
   ]
  },
  {
   "cell_type": "code",
   "execution_count": 222,
   "metadata": {},
   "outputs": [
    {
     "name": "stdout",
     "output_type": "stream",
     "text": [
      "Today's temperature is 90.14\n",
      "Today's temperature is 85.08\n",
      "Today's temperature is 87.12\n",
      "Today's temperature is 89.39\n",
      "Today's temperature is 89.58\n",
      "Today's temperature is 92.75\n",
      "Today's temperature is 92.06\n",
      "Today's temperature is 90.59\n",
      "The highest temperature is 92.75 on 1496808000\n"
     ]
    }
   ],
   "source": [
    "high_temp = daily_data[0]['temperatureMax']\n",
    "hottest_day = daily_data[0]['time']\n",
    "\n",
    "for day in daily_data:\n",
    "    print(\"Today's temperature is\", day[\"temperatureMax\"])\n",
    "    if day[\"temperatureMax\"] > high_temp:\n",
    "        high_temp = day[\"temperatureMax\"]\n",
    "        hottest_day = day[\"time\"]\n",
    "        \n",
    "print(\"The highest temperature is\", high_temp, \"on\", hottest_day)"
   ]
  },
  {
   "cell_type": "code",
   "execution_count": 172,
   "metadata": {},
   "outputs": [
    {
     "name": "stdout",
     "output_type": "stream",
     "text": [
      "2012-12-25 07:00:00\n"
     ]
    }
   ],
   "source": [
    "import datetime\n",
    "print(\n",
    "    datetime.datetime.fromtimestamp(\n",
    "        int(\"1356436800\")\n",
    "    ).strftime('%Y-%m-%d %H:%M:%S')\n",
    ")"
   ]
  },
  {
   "cell_type": "markdown",
   "metadata": {},
   "source": [
    "**7) What's the weather looking like for the next 24+ hours in Miami, Florida?**\n",
    "\n",
    "I'd like to know the temperature for every hour, and if it's going to have cloud cover of more than 50% say \"{temperature} and cloudy\" instead of just the temperature. \n",
    "\n",
    "\n",
    "- *Tip: Be sure to remember how latitude and longitude are done with positive and negative numbers*\n",
    "- *Tip: How do you represent \"50%\" for cloud cover?*"
   ]
  },
  {
   "cell_type": "code",
   "execution_count": 83,
   "metadata": {},
   "outputs": [
    {
     "name": "stdout",
     "output_type": "stream",
     "text": [
      "America/New_York\n"
     ]
    }
   ],
   "source": [
    "url = \"https://api.darksky.net/forecast/6a485ea472a83b9b0578bffa3c10d9bb/25.7617,-80.1918\"\n",
    "response = requests.get(url) \n",
    "miami = response.json()\n",
    "print(miami[\"timezone\"]) "
   ]
  },
  {
   "cell_type": "code",
   "execution_count": 89,
   "metadata": {},
   "outputs": [
    {
     "data": {
      "text/plain": [
       "dict_keys(['time', 'summary', 'icon', 'precipIntensity', 'precipProbability', 'precipType', 'temperature', 'apparentTemperature', 'dewPoint', 'humidity', 'windSpeed', 'windBearing', 'visibility', 'cloudCover', 'pressure', 'ozone'])"
      ]
     },
     "execution_count": 89,
     "metadata": {},
     "output_type": "execute_result"
    }
   ],
   "source": [
    "hourly_forecast = miami['hourly']\n",
    "hourly_miami = hourly_forecast['data']\n",
    "hourly_miami[0].keys()"
   ]
  },
  {
   "cell_type": "code",
   "execution_count": 119,
   "metadata": {},
   "outputs": [
    {
     "name": "stdout",
     "output_type": "stream",
     "text": [
      "The temperature at 1 :00 is 81.95 and clear sky.\n",
      "------------\n",
      "The temperature at 2 :00 is 82.68 and clear sky.\n",
      "------------\n",
      "The temperature at 3 :00 is 82.23 and clear sky.\n",
      "------------\n",
      "The temperature at 4 :00 is 81.61 and partly cloudy.\n",
      "------------\n",
      "The temperature at 5 :00 is 81.07 and partly cloudy.\n",
      "------------\n",
      "The temperature at 6 :00 is 80.2 and mostly cloudy.\n",
      "------------\n",
      "The temperature at 7 :00 is 79.18 and mostly cloudy.\n",
      "------------\n",
      "The temperature at 8 :00 is 78.23 and mostly cloudy.\n",
      "------------\n",
      "The temperature at 9 :00 is 79.05 and mostly cloudy.\n",
      "------------\n",
      "The temperature at 10 :00 is 81.18 and mostly cloudy.\n",
      "------------\n",
      "The temperature at 11 :00 is 83.17 and mostly cloudy.\n",
      "------------\n",
      "The temperature at 12 :00 is 84.01 and mostly cloudy.\n",
      "------------\n",
      "The temperature at 13 :00 is 85.01 and mostly cloudy.\n",
      "------------\n",
      "The temperature at 14 :00 is 85.65 and mostly cloudy.\n",
      "------------\n",
      "The temperature at 15 :00 is 86.88 and mostly cloudy.\n",
      "------------\n",
      "The temperature at 16 :00 is 89.03 and mostly cloudy.\n",
      "------------\n",
      "The temperature at 17 :00 is 88.34 and mostly cloudy.\n",
      "------------\n",
      "The temperature at 18 :00 is 87.56 and mostly cloudy.\n",
      "------------\n",
      "The temperature at 19 :00 is 86.45 and mostly cloudy.\n",
      "------------\n",
      "The temperature at 20 :00 is 81.92 and mostly cloudy.\n",
      "------------\n",
      "The temperature at 21 :00 is 81.73 and mostly cloudy.\n",
      "------------\n",
      "The temperature at 22 :00 is 81.52 and mostly cloudy.\n",
      "------------\n",
      "The temperature at 23 :00 is 82.2 and cloudy.\n",
      "------------\n",
      "The temperature at 24 :00 is 82.84 and cloudy.\n",
      "------------\n",
      "The temperature at 25 :00 is 83.92 and cloudy.\n",
      "------------\n"
     ]
    }
   ],
   "source": [
    "# The percentage of sky occluded by clouds, between 0 and 1, inclusive.\n",
    "count = 0\n",
    "for hour in hourly_miami:\n",
    "    if count <= 24:\n",
    "        if hour['cloudCover'] >= 1:\n",
    "            count+=1\n",
    "            print(\"The temperature at\", count, \":00 is\",  hour['temperature'], \"and cloudy.\")\n",
    "            print(\"------------\")\n",
    "        elif hour['cloudCover'] > 0.7 and hour['cloudCover'] < 0.9:\n",
    "            count+=1\n",
    "            print(\"The temperature at\", count, \":00 is\", hour['temperature'], \"and mostly cloudy.\")\n",
    "            print(\"------------\")\n",
    "        elif hour['cloudCover'] > 0.5 and hour['cloudCover'] < 0.7:\n",
    "            count+=1\n",
    "            print(\"The temperature at\", count, \":00 is\", hour['temperature'], \"and partly cloudy.\") \n",
    "            print(\"------------\")\n",
    "        elif hour['cloudCover'] < 0.5:\n",
    "            count+=1\n",
    "            print(\"The temperature at\", count, \":00 is\", hour['temperature'], \"and clear sky.\")    \n",
    "            print(\"------------\")\n",
    "        "
   ]
  },
  {
   "cell_type": "markdown",
   "metadata": {},
   "source": [
    "**8) For the next 24-ish hours in Miami, what percent of the time is the temperature above 85 degrees?**\n",
    "\n",
    "If they give you 48 hours instead of 24, that's okay.\n",
    "\n",
    "- *Tip: You might want to read up on [looping patterns](http://jonathansoma.com/lede/foundations-2017/classes/data%20structures/looping-patterns/)*"
   ]
  },
  {
   "cell_type": "code",
   "execution_count": 213,
   "metadata": {},
   "outputs": [
    {
     "name": "stdout",
     "output_type": "stream",
     "text": [
      "The temperature in Miami is 85 degrees 62.5 % of the time.\n"
     ]
    }
   ],
   "source": [
    "above_eighty_five = 0\n",
    "for temp in hourly_miami:\n",
    "    if temp['temperature'] > 85:\n",
    "        above_eighty_five+=1\n",
    "print(\"The temperature in Miami is 85 degrees\", ((above_eighty_five/24)*100),\"%\", \"of the time.\")"
   ]
  },
  {
   "cell_type": "markdown",
   "metadata": {},
   "source": [
    "**9) What was the temperature in Central Park on Christmas Day, 2012? How about 2007? 2005? How far back does the API allow you to go?**\n",
    "\n",
    "- *Tip: You'll need to use UNIX time, which is the number of seconds since January 1, 1970. Google can help you convert a normal date!*\n",
    "- *Tip: You'll want to use Forecast.io's \"time machine\" API, [documentation here](https://darksky.net/dev/docs/time-machine)*"
   ]
  },
  {
   "cell_type": "code",
   "execution_count": 216,
   "metadata": {},
   "outputs": [
    {
     "name": "stdout",
     "output_type": "stream",
     "text": [
      "2012-12-25 12:00:00\n"
     ]
    }
   ],
   "source": [
    "import datetime\n",
    "print(\n",
    "    datetime.datetime.fromtimestamp(\n",
    "        int(\"1356454800\")\n",
    "    ).strftime('%Y-%m-%d %H:%M:%S')\n",
    ")"
   ]
  },
  {
   "cell_type": "code",
   "execution_count": 217,
   "metadata": {},
   "outputs": [
    {
     "name": "stdout",
     "output_type": "stream",
     "text": [
      "The temperature in Central Park on Christmas Day 2012 was 43.91 degrees.\n",
      "The temperature in Central Park on Christmas Day 2007 was 43.91 degrees.\n",
      "The temperature in Central Park on Christmas Day 2005 was 43.91 degrees.\n"
     ]
    }
   ],
   "source": [
    "# Central Park: 40.7828° N, 73.9653° W\n",
    "# https://api.darksky.net/forecast/[key]/[latitude],[longitude],[time]\n",
    "# https://api.darksky.net/forecast/6a485ea472a83b9b0578bffa3c10d9bb/40.7828,-73.9653,unix\n",
    "\n",
    "url = \"https://api.darksky.net/forecast/6a485ea472a83b9b0578bffa3c10d9bb/40.782897,-73.965323,\"+ str(day['unix']) +\"\"\n",
    "response = requests.get(url)\n",
    "central_park = response.json()\n",
    "christmas_forecast = central_park['currently']\n",
    "\n",
    "# Store the dates and unix in a list of dictionary:\n",
    "\n",
    "christmas_day = [\n",
    "    {'date': '2012', 'unix': 1356454800}, # Tuesday, December 25, 2012 12:00:00 p.m. GMT-05:00\n",
    "    {'date': '2007', 'unix': 1198602000}, # Tuesday, December 25, 2007, 12:00:00 p.m. GMT-05:00\n",
    "    {'date': '2005', 'unix': 1135530000}  # Sunday, December 25, 2005 12:00:00 p.m. GMT-05:00\n",
    "]\n",
    "    \n",
    "for day in christmas_day:\n",
    "    print(\"The temperature in Central Park on Christmas Day\", day['date'], \"was\", christmas_forecast['temperature'],\"degrees.\",)         \n",
    "    \n",
    "    "
   ]
  },
  {
   "cell_type": "code",
   "execution_count": null,
   "metadata": {
    "collapsed": true
   },
   "outputs": [],
   "source": []
  }
 ],
 "metadata": {
  "kernelspec": {
   "display_name": "Python 3",
   "language": "python",
   "name": "python3"
  },
  "language_info": {
   "codemirror_mode": {
    "name": "ipython",
    "version": 3
   },
   "file_extension": ".py",
   "mimetype": "text/x-python",
   "name": "python",
   "nbconvert_exporter": "python",
   "pygments_lexer": "ipython3",
   "version": "3.6.1"
  }
 },
 "nbformat": 4,
 "nbformat_minor": 1
}
